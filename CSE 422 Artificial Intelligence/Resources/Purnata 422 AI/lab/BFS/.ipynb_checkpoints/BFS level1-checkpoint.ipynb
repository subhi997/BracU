{
 "cells": [
  {
   "cell_type": "code",
   "execution_count": 438,
   "metadata": {},
   "outputs": [],
   "source": [
    "import numpy as np\n",
    "file =open('C:\\\\Users\\IMADN\\Desktop\\BFS\\BFS.txt','r')"
   ]
  },
  {
   "cell_type": "code",
   "execution_count": 439,
   "metadata": {},
   "outputs": [
    {
     "name": "stdout",
     "output_type": "stream",
     "text": [
      "[[0 0 0 0 0 0 0 0 0]\n",
      " [0 0 0 0 0 0 0 0 0]\n",
      " [0 0 0 0 0 0 0 0 0]\n",
      " [0 0 0 0 0 0 0 0 0]\n",
      " [0 0 0 0 0 0 0 0 0]\n",
      " [0 0 0 0 0 0 0 0 0]\n",
      " [0 0 0 0 0 0 0 0 0]\n",
      " [0 0 0 0 0 0 0 0 0]\n",
      " [0 0 0 0 0 0 0 0 0]]\n",
      "13\n",
      "9\n"
     ]
    }
   ],
   "source": [
    "#reading first line for vertex count\n",
    "line1=file.readline().strip()\n",
    "vertexcount=int(line1)\n",
    "\n",
    "#reading 2nd line for edge count\n",
    "line2=file.readline().strip()\n",
    "edgecount=int(line2)\n",
    "\n",
    "#creat adjacent matrix\n",
    "adjmatrix= np.zeros((vertexcount, vertexcount), dtype='int')\n",
    "print(adjmatrix)\n",
    "\n",
    "print(edgecount)\n",
    "print(vertexcount)"
   ]
  },
  {
   "cell_type": "code",
   "execution_count": 440,
   "metadata": {},
   "outputs": [],
   "source": [
    "for count in range(edgecount):\n",
    "    line =file.readline().strip() \n",
    "    \n",
    "    if not line:\n",
    "        break\n",
    "        \n",
    "    vertices=line.split(\" \")\n",
    "    u= int(vertices[0])\n",
    "    v= int(vertices[1])\n",
    "    #print(u)\n",
    "    #print(v)\n",
    "  \n",
    "    adjmatrix[u][v]+= 1\n",
    "    "
   ]
  },
  {
   "cell_type": "code",
   "execution_count": 441,
   "metadata": {
    "scrolled": true
   },
   "outputs": [
    {
     "name": "stdout",
     "output_type": "stream",
     "text": [
      "6\n",
      "0 1 1 1 0 0 0 0 0 \n",
      "0 0 0 1 1 0 0 0 0 \n",
      "0 0 0 1 0 0 0 0 0 \n",
      "0 0 0 0 0 1 1 0 0 \n",
      "0 0 0 0 0 0 0 1 1 \n",
      "0 0 0 0 0 0 1 0 0 \n",
      "0 0 0 0 0 0 0 1 0 \n",
      "0 0 0 0 0 0 0 0 1 \n",
      "0 0 0 0 0 0 0 0 0 \n"
     ]
    }
   ],
   "source": [
    "line3=file.readline().strip()\n",
    "enemy_vertex=int(line3)\n",
    "print(enemy_vertex)\n",
    "\n",
    "for row in range(vertexcount):\n",
    "    for col in range(vertexcount):\n",
    "        print(adjmatrix[row][col], end=' ')\n",
    "    print()\n",
    "    "
   ]
  },
  {
   "cell_type": "code",
   "execution_count": 442,
   "metadata": {},
   "outputs": [],
   "source": [
    "color=np.empty((vertexcount), dtype=\"object\")\n",
    "color[:]=\"White\""
   ]
  },
  {
   "cell_type": "code",
   "execution_count": 443,
   "metadata": {},
   "outputs": [],
   "source": [
    "parent=np.empty((vertexcount), dtype=\"object\")\n",
    "parent[:]=np.NaN"
   ]
  },
  {
   "cell_type": "code",
   "execution_count": 444,
   "metadata": {},
   "outputs": [],
   "source": [
    "d=np.empty((vertexcount), dtype=\"int\")\n",
    "d[:]= 999999"
   ]
  },
  {
   "cell_type": "code",
   "execution_count": 445,
   "metadata": {},
   "outputs": [],
   "source": [
    "#queue using queue model\n",
    "from queue import Queue\n",
    "#initializing queue\n",
    "myqueue= Queue(maxsize= vertexcount)\n"
   ]
  },
  {
   "cell_type": "code",
   "execution_count": 446,
   "metadata": {},
   "outputs": [],
   "source": [
    "#bfs function\n",
    "def bfs(s):\n",
    "    global color, parent, d\n",
    "    \n",
    "    color[s] = 'Gray'\n",
    "    parent[s]= np.nan\n",
    "    d[s]= 0\n",
    "    myqueue.put(s)\n",
    "    while not myqueue.empty():\n",
    "        u=myqueue.get() #popping element\n",
    "        #print(u)\n",
    "        for v in range(1, vertexcount):\n",
    "            if adjmatrix[u][v]==1:\n",
    "                if color[v] == 'White':\n",
    "                    color[v]='Gray'\n",
    "                    d[v]=d[u] +1\n",
    "                    parent[v]=u\n",
    "                    myqueue.put(v)\n",
    "                    if v== enemy_vertex:\n",
    "                        print(d[v])\n",
    "                        return\n",
    "        color[u]= 'Black'\n",
    "        #print(u, 'distance: ', d[u])\n",
    "        \n",
    "    "
   ]
  },
  {
   "cell_type": "code",
   "execution_count": 447,
   "metadata": {},
   "outputs": [
    {
     "name": "stdout",
     "output_type": "stream",
     "text": [
      "2\n"
     ]
    }
   ],
   "source": [
    "bfs(0)"
   ]
  }
 ],
 "metadata": {
  "kernelspec": {
   "display_name": "Python 3",
   "language": "python",
   "name": "python3"
  },
  "language_info": {
   "codemirror_mode": {
    "name": "ipython",
    "version": 3
   },
   "file_extension": ".py",
   "mimetype": "text/x-python",
   "name": "python",
   "nbconvert_exporter": "python",
   "pygments_lexer": "ipython3",
   "version": "3.8.3"
  }
 },
 "nbformat": 4,
 "nbformat_minor": 4
}
