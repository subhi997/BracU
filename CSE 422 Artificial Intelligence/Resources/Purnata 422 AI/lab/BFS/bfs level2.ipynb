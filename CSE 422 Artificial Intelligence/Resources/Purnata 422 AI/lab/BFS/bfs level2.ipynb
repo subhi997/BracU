{
 "cells": [
  {
   "cell_type": "code",
   "execution_count": 287,
   "metadata": {
    "scrolled": true
   },
   "outputs": [],
   "source": [
    "import numpy as np\n",
    "file = open('C:/Users/IMADN/Desktop/BFS/bfs2.txt', 'r')"
   ]
  },
  {
   "cell_type": "code",
   "execution_count": 288,
   "metadata": {},
   "outputs": [
    {
     "name": "stdout",
     "output_type": "stream",
     "text": [
      "[[0 0 0 0 0 0 0 0 0]\n",
      " [0 0 0 0 0 0 0 0 0]\n",
      " [0 0 0 0 0 0 0 0 0]\n",
      " [0 0 0 0 0 0 0 0 0]\n",
      " [0 0 0 0 0 0 0 0 0]\n",
      " [0 0 0 0 0 0 0 0 0]\n",
      " [0 0 0 0 0 0 0 0 0]\n",
      " [0 0 0 0 0 0 0 0 0]\n",
      " [0 0 0 0 0 0 0 0 0]]\n"
     ]
    }
   ],
   "source": [
    "#read vertex\n",
    "line1 = file.readline().strip()\n",
    "vertexcount=int(line1)\n",
    "\n",
    "#read edge\n",
    "line2 = file.readline().strip()\n",
    "edgecount=int(line2)\n",
    "\n",
    "#create adjmatrix\n",
    "adjmatrix=np.zeros((vertexcount, vertexcount), dtype= 'int')\n",
    "print(adjmatrix)"
   ]
  },
  {
   "cell_type": "code",
   "execution_count": 289,
   "metadata": {},
   "outputs": [
    {
     "name": "stdout",
     "output_type": "stream",
     "text": [
      "0\n",
      "1\n",
      "0\n",
      "2\n",
      "0\n",
      "3\n",
      "1\n",
      "3\n",
      "1\n",
      "4\n",
      "2\n",
      "3\n",
      "3\n",
      "5\n",
      "4\n",
      "8\n",
      "4\n",
      "7\n",
      "5\n",
      "6\n",
      "6\n",
      "7\n",
      "7\n",
      "8\n"
     ]
    }
   ],
   "source": [
    "for count in range(edgecount):\n",
    "    line=file.readline().strip()\n",
    "    \n",
    "    if not line:\n",
    "        break\n",
    "    \n",
    "    vertices=line.split(\" \")\n",
    "    u= int(vertices[0])\n",
    "    v= int(vertices[1])\n",
    "    print(u)\n",
    "    print(v)\n",
    "    \n",
    "    adjmatrix[u][v]+=1\n",
    "    adjmatrix[v][u]+=1"
   ]
  },
  {
   "cell_type": "code",
   "execution_count": 290,
   "metadata": {},
   "outputs": [
    {
     "name": "stdout",
     "output_type": "stream",
     "text": [
      "7\n",
      "5\n",
      "3\n"
     ]
    }
   ],
   "source": [
    "#lina\n",
    "line3=file.readline().strip()\n",
    "lina=int(line3)\n",
    "\n",
    "#nora\n",
    "line4=file.readline().strip()\n",
    "nora=int(line4)\n",
    "\n",
    "#lara\n",
    "line5=file.readline().strip()\n",
    "lara=int(line5)\n",
    "\n",
    "print(lina)\n",
    "print(nora)\n",
    "print(lara)"
   ]
  },
  {
   "cell_type": "code",
   "execution_count": 291,
   "metadata": {},
   "outputs": [
    {
     "name": "stdout",
     "output_type": "stream",
     "text": [
      "0 1 1 1 0 0 0 0 0 \n",
      "1 0 0 1 1 0 0 0 0 \n",
      "1 0 0 1 0 0 0 0 0 \n",
      "1 1 1 0 0 1 0 0 0 \n",
      "0 1 0 0 0 0 0 1 1 \n",
      "0 0 0 1 0 0 1 0 0 \n",
      "0 0 0 0 0 1 0 1 0 \n",
      "0 0 0 0 1 0 1 0 1 \n",
      "0 0 0 0 1 0 0 1 0 \n"
     ]
    }
   ],
   "source": [
    "#assigning value to matrix\n",
    "for row in range(vertexcount):\n",
    "    for col in range(vertexcount):\n",
    "        print(adjmatrix[row][col], end=' ')\n",
    "    print()"
   ]
  },
  {
   "cell_type": "code",
   "execution_count": 292,
   "metadata": {},
   "outputs": [],
   "source": [
    "color=np.empty((vertexcount), dtype=\"object\")\n",
    "color[:]=\"White\""
   ]
  },
  {
   "cell_type": "code",
   "execution_count": 293,
   "metadata": {},
   "outputs": [],
   "source": [
    "parent=np.empty((vertexcount), dtype=\"object\")\n",
    "parent[:]=np.NaN"
   ]
  },
  {
   "cell_type": "code",
   "execution_count": 294,
   "metadata": {},
   "outputs": [],
   "source": [
    "d=np.empty((vertexcount), dtype=\"int\")\n",
    "d[:]= 999999"
   ]
  },
  {
   "cell_type": "code",
   "execution_count": 295,
   "metadata": {},
   "outputs": [],
   "source": [
    "#queue using queue model\n",
    "from queue import Queue\n",
    "#initializing queue\n",
    "myqueue= Queue(maxsize= vertexcount)"
   ]
  },
  {
   "cell_type": "code",
   "execution_count": 301,
   "metadata": {},
   "outputs": [],
   "source": [
    "#bfs function\n",
    "def bfs(s):\n",
    "    \n",
    "    global color, parent, d\n",
    "    \n",
    "    color[:]='White'\n",
    "    parent[:]=np.NaN\n",
    "    d[:]=999999\n",
    "    \n",
    "    while not myqueue.empty():\n",
    "        myqueue.get()   \n",
    "    \n",
    "    color[s] = 'Gray'\n",
    "    parent[s]= np.nan\n",
    "    d[s]= 0\n",
    "    myqueue.put(s)\n",
    "    while not myqueue.empty():\n",
    "        u=myqueue.get() #popping element\n",
    "        #print(u)\n",
    "        for v in range(1, vertexcount):\n",
    "            if adjmatrix[u][v]==1:\n",
    "                if color[v] == 'White':\n",
    "                    color[v]='Gray'\n",
    "                    d[v]=d[u] +1\n",
    "                    parent[v]=u\n",
    "                    myqueue.put(v)\n",
    "                    if v== lina:\n",
    "                        return d[v]\n",
    "                        break\n",
    "                    \n",
    "        color[u]= 'Black'"
   ]
  },
  {
   "cell_type": "code",
   "execution_count": 303,
   "metadata": {},
   "outputs": [
    {
     "name": "stdout",
     "output_type": "stream",
     "text": [
      "Nora\n"
     ]
    }
   ],
   "source": [
    "noraPosition=(bfs(nora))\n",
    "laraPosition=(bfs(lara))\n",
    "\n",
    "if noraPosition < laraPosition:\n",
    "   print(\"Nora\")\n",
    "if laraPosition < noraPosition:\n",
    "   print(\"Lara\")\n",
    "if noraPosition == laraPosition:\n",
    "   print(\"Both\")\n"
   ]
  },
  {
   "cell_type": "code",
   "execution_count": null,
   "metadata": {},
   "outputs": [],
   "source": []
  }
 ],
 "metadata": {
  "kernelspec": {
   "display_name": "Python 3",
   "language": "python",
   "name": "python3"
  },
  "language_info": {
   "codemirror_mode": {
    "name": "ipython",
    "version": 3
   },
   "file_extension": ".py",
   "mimetype": "text/x-python",
   "name": "python",
   "nbconvert_exporter": "python",
   "pygments_lexer": "ipython3",
   "version": "3.8.3"
  }
 },
 "nbformat": 4,
 "nbformat_minor": 4
}
