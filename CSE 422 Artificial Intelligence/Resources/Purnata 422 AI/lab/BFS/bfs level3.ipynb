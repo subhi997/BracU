{
 "cells": [
  {
   "cell_type": "code",
   "execution_count": 98,
   "metadata": {},
   "outputs": [],
   "source": [
    "import numpy as np\n",
    "file = open('C:/Users/IMADN/Desktop/BFS/bfs3.txt', 'r')"
   ]
  },
  {
   "cell_type": "code",
   "execution_count": 99,
   "metadata": {},
   "outputs": [
    {
     "name": "stdout",
     "output_type": "stream",
     "text": [
      "[[0 0 0 0 0 0 0 0 0 0]\n",
      " [0 0 0 0 0 0 0 0 0 0]\n",
      " [0 0 0 0 0 0 0 0 0 0]\n",
      " [0 0 0 0 0 0 0 0 0 0]\n",
      " [0 0 0 0 0 0 0 0 0 0]\n",
      " [0 0 0 0 0 0 0 0 0 0]\n",
      " [0 0 0 0 0 0 0 0 0 0]\n",
      " [0 0 0 0 0 0 0 0 0 0]\n",
      " [0 0 0 0 0 0 0 0 0 0]\n",
      " [0 0 0 0 0 0 0 0 0 0]]\n"
     ]
    }
   ],
   "source": [
    "#read vertex\n",
    "line1 = file.readline().strip()\n",
    "vertexcount=int(line1)\n",
    "\n",
    "#read edge\n",
    "line2 = file.readline().strip()\n",
    "edgecount=int(line2)\n",
    "\n",
    "#create adjmatrix\n",
    "adjmatrix=np.zeros((vertexcount, vertexcount), dtype= 'int')\n",
    "print(adjmatrix)"
   ]
  },
  {
   "cell_type": "code",
   "execution_count": 100,
   "metadata": {},
   "outputs": [
    {
     "name": "stdout",
     "output_type": "stream",
     "text": [
      "0\n",
      "1\n",
      "0\n",
      "2\n",
      "0\n",
      "3\n",
      "1\n",
      "3\n",
      "1\n",
      "4\n",
      "2\n",
      "3\n",
      "3\n",
      "5\n",
      "4\n",
      "7\n",
      "4\n",
      "8\n",
      "5\n",
      "6\n",
      "6\n",
      "7\n",
      "6\n",
      "9\n",
      "7\n",
      "8\n",
      "8\n",
      "9\n"
     ]
    }
   ],
   "source": [
    "for count in range(edgecount):\n",
    "    line=file.readline().strip()\n",
    "    \n",
    "    if not line:\n",
    "        break\n",
    "    \n",
    "    vertices=line.split(\" \")\n",
    "    u= int(vertices[0])\n",
    "    v= int(vertices[1])\n",
    "    print(u)\n",
    "    print(v)\n",
    "    \n",
    "    adjmatrix[u][v]+=1\n",
    "    adjmatrix[v][u]+=1"
   ]
  },
  {
   "cell_type": "code",
   "execution_count": 101,
   "metadata": {},
   "outputs": [
    {
     "name": "stdout",
     "output_type": "stream",
     "text": [
      "0\n",
      "1\n",
      "3\n",
      "5\n",
      "7\n"
     ]
    }
   ],
   "source": [
    "#lina postion\n",
    "line3 = file.readline().strip()\n",
    "lina = int(line3)\n",
    "\n",
    "#participants\n",
    "line4 = file.readline().strip()\n",
    "participant = int(line4)\n",
    "\n",
    "#each participant position\n",
    "position = np.zeros(participant, dtype = 'int')\n",
    "for k in range(0, participant):\n",
    "    line5 = file.readline().strip()\n",
    "    position[k]=int(line5)\n",
    "\n",
    "for a in range(0, participant):\n",
    "    print(position[a])"
   ]
  },
  {
   "cell_type": "code",
   "execution_count": 102,
   "metadata": {},
   "outputs": [],
   "source": [
    "color=np.empty((vertexcount), dtype=\"object\")\n",
    "color[:]=\"White\""
   ]
  },
  {
   "cell_type": "code",
   "execution_count": 103,
   "metadata": {},
   "outputs": [],
   "source": [
    "parent=np.empty((vertexcount), dtype=\"object\")\n",
    "parent[:]=np.NaN"
   ]
  },
  {
   "cell_type": "code",
   "execution_count": 104,
   "metadata": {},
   "outputs": [],
   "source": [
    "d=np.empty((vertexcount), dtype=\"int\")\n",
    "d[:]=999999"
   ]
  },
  {
   "cell_type": "code",
   "execution_count": 105,
   "metadata": {},
   "outputs": [],
   "source": [
    "#queue using queue model\n",
    "from queue import Queue\n",
    "#initializing queue\n",
    "myqueue= Queue(maxsize=vertexcount)"
   ]
  },
  {
   "cell_type": "code",
   "execution_count": 106,
   "metadata": {},
   "outputs": [],
   "source": [
    "def bfs(s):\n",
    "    global color, parent, d\n",
    "    color[:]= 'White'\n",
    "    parent[:] = np.NaN\n",
    "    d[:]=999999\n",
    "    \n",
    "    while not myqueue.empty():\n",
    "        myqueue.get()   \n",
    "    \n",
    "    \n",
    " \n",
    "    color[s]='Gray'\n",
    "    parent[s]=np.NaN\n",
    "    d[s]=0\n",
    "    \n",
    "    myqueue.put(s)\n",
    "    while not myqueue.empty():\n",
    "        u=myqueue.get(s)\n",
    "        \n",
    "        for v in range(1, vertexcount):\n",
    "            if adjmatrix[u][v]==1:\n",
    "                if color[v]=='White':\n",
    "                    color[v]='Gray'\n",
    "                    parent[v]=u\n",
    "                    d[v]= d[u]+1\n",
    "                    myqueue.put(v)\n",
    "                    for count in range(0, participant):\n",
    "                        if v == position[count]:\n",
    "                            print(d[v])\n",
    "                            return\n",
    "        color[u]='Black'\n",
    "                    "
   ]
  },
  {
   "cell_type": "code",
   "execution_count": 107,
   "metadata": {},
   "outputs": [
    {
     "name": "stdout",
     "output_type": "stream",
     "text": [
      "2\n"
     ]
    }
   ],
   "source": [
    "bfs(lina)\n"
   ]
  }
 ],
 "metadata": {
  "kernelspec": {
   "display_name": "Python 3",
   "language": "python",
   "name": "python3"
  },
  "language_info": {
   "codemirror_mode": {
    "name": "ipython",
    "version": 3
   },
   "file_extension": ".py",
   "mimetype": "text/x-python",
   "name": "python",
   "nbconvert_exporter": "python",
   "pygments_lexer": "ipython3",
   "version": "3.8.3"
  }
 },
 "nbformat": 4,
 "nbformat_minor": 4
}
