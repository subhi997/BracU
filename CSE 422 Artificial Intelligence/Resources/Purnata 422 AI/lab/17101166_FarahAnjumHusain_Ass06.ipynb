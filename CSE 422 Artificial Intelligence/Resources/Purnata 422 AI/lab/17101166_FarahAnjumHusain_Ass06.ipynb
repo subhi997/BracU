{
  "nbformat": 4,
  "nbformat_minor": 0,
  "metadata": {
    "colab": {
      "name": "17101166_FarahAnjumHusain_Ass06.ipynb",
      "provenance": []
    },
    "kernelspec": {
      "name": "python3",
      "display_name": "Python 3"
    }
  },
  "cells": [
    {
      "cell_type": "code",
      "metadata": {
        "id": "_61PzlmNYzzk"
      },
      "source": [
        "import numpy as np\n",
        "import pandas as pd\n",
        "import sklearn\n",
        "from sklearn.metrics import accuracy_score\n",
        "import matplotlib.pyplot as plt\n",
        "%matplotlib inline "
      ],
      "execution_count": null,
      "outputs": []
    },
    {
      "cell_type": "code",
      "metadata": {
        "colab": {
          "base_uri": "https://localhost:8080/",
          "height": 424
        },
        "id": "b3cCnexdZVcE",
        "outputId": "bca89896-8f45-46d2-bc3b-641842044e15"
      },
      "source": [
        "df= pd.read_csv('/content/drive/MyDrive/heart failur classification dataset.csv')\n",
        "df"
      ],
      "execution_count": null,
      "outputs": [
        {
          "output_type": "execute_result",
          "data": {
            "text/html": [
              "<div>\n",
              "<style scoped>\n",
              "    .dataframe tbody tr th:only-of-type {\n",
              "        vertical-align: middle;\n",
              "    }\n",
              "\n",
              "    .dataframe tbody tr th {\n",
              "        vertical-align: top;\n",
              "    }\n",
              "\n",
              "    .dataframe thead th {\n",
              "        text-align: right;\n",
              "    }\n",
              "</style>\n",
              "<table border=\"1\" class=\"dataframe\">\n",
              "  <thead>\n",
              "    <tr style=\"text-align: right;\">\n",
              "      <th></th>\n",
              "      <th>Unnamed: 0</th>\n",
              "      <th>age</th>\n",
              "      <th>anaemia</th>\n",
              "      <th>creatinine_phosphokinase</th>\n",
              "      <th>diabetes</th>\n",
              "      <th>ejection_fraction</th>\n",
              "      <th>high_blood_pressure</th>\n",
              "      <th>platelets</th>\n",
              "      <th>serum_creatinine</th>\n",
              "      <th>serum_sodium</th>\n",
              "      <th>sex</th>\n",
              "      <th>smoking</th>\n",
              "      <th>time</th>\n",
              "      <th>DEATH_EVENT</th>\n",
              "    </tr>\n",
              "  </thead>\n",
              "  <tbody>\n",
              "    <tr>\n",
              "      <th>0</th>\n",
              "      <td>0</td>\n",
              "      <td>75.0</td>\n",
              "      <td>0</td>\n",
              "      <td>582</td>\n",
              "      <td>0</td>\n",
              "      <td>20</td>\n",
              "      <td>1</td>\n",
              "      <td>265000.00</td>\n",
              "      <td>1.9</td>\n",
              "      <td>NaN</td>\n",
              "      <td>Male</td>\n",
              "      <td>No</td>\n",
              "      <td>4.0</td>\n",
              "      <td>1</td>\n",
              "    </tr>\n",
              "    <tr>\n",
              "      <th>1</th>\n",
              "      <td>1</td>\n",
              "      <td>55.0</td>\n",
              "      <td>0</td>\n",
              "      <td>7861</td>\n",
              "      <td>0</td>\n",
              "      <td>38</td>\n",
              "      <td>0</td>\n",
              "      <td>263358.03</td>\n",
              "      <td>1.1</td>\n",
              "      <td>136.0</td>\n",
              "      <td>Male</td>\n",
              "      <td>No</td>\n",
              "      <td>6.0</td>\n",
              "      <td>1</td>\n",
              "    </tr>\n",
              "    <tr>\n",
              "      <th>2</th>\n",
              "      <td>2</td>\n",
              "      <td>65.0</td>\n",
              "      <td>0</td>\n",
              "      <td>146</td>\n",
              "      <td>0</td>\n",
              "      <td>20</td>\n",
              "      <td>0</td>\n",
              "      <td>162000.00</td>\n",
              "      <td>1.3</td>\n",
              "      <td>129.0</td>\n",
              "      <td>Male</td>\n",
              "      <td>Yes</td>\n",
              "      <td>7.0</td>\n",
              "      <td>1</td>\n",
              "    </tr>\n",
              "    <tr>\n",
              "      <th>3</th>\n",
              "      <td>3</td>\n",
              "      <td>50.0</td>\n",
              "      <td>1</td>\n",
              "      <td>111</td>\n",
              "      <td>0</td>\n",
              "      <td>20</td>\n",
              "      <td>0</td>\n",
              "      <td>210000.00</td>\n",
              "      <td>1.9</td>\n",
              "      <td>137.0</td>\n",
              "      <td>Male</td>\n",
              "      <td>No</td>\n",
              "      <td>7.0</td>\n",
              "      <td>1</td>\n",
              "    </tr>\n",
              "    <tr>\n",
              "      <th>4</th>\n",
              "      <td>4</td>\n",
              "      <td>65.0</td>\n",
              "      <td>1</td>\n",
              "      <td>160</td>\n",
              "      <td>1</td>\n",
              "      <td>20</td>\n",
              "      <td>0</td>\n",
              "      <td>327000.00</td>\n",
              "      <td>2.7</td>\n",
              "      <td>116.0</td>\n",
              "      <td>Female</td>\n",
              "      <td>No</td>\n",
              "      <td>8.0</td>\n",
              "      <td>1</td>\n",
              "    </tr>\n",
              "    <tr>\n",
              "      <th>...</th>\n",
              "      <td>...</td>\n",
              "      <td>...</td>\n",
              "      <td>...</td>\n",
              "      <td>...</td>\n",
              "      <td>...</td>\n",
              "      <td>...</td>\n",
              "      <td>...</td>\n",
              "      <td>...</td>\n",
              "      <td>...</td>\n",
              "      <td>...</td>\n",
              "      <td>...</td>\n",
              "      <td>...</td>\n",
              "      <td>...</td>\n",
              "      <td>...</td>\n",
              "    </tr>\n",
              "    <tr>\n",
              "      <th>294</th>\n",
              "      <td>294</td>\n",
              "      <td>62.0</td>\n",
              "      <td>0</td>\n",
              "      <td>61</td>\n",
              "      <td>1</td>\n",
              "      <td>38</td>\n",
              "      <td>1</td>\n",
              "      <td>155000.00</td>\n",
              "      <td>1.1</td>\n",
              "      <td>143.0</td>\n",
              "      <td>Male</td>\n",
              "      <td>Yes</td>\n",
              "      <td>270.0</td>\n",
              "      <td>0</td>\n",
              "    </tr>\n",
              "    <tr>\n",
              "      <th>295</th>\n",
              "      <td>295</td>\n",
              "      <td>55.0</td>\n",
              "      <td>0</td>\n",
              "      <td>1820</td>\n",
              "      <td>0</td>\n",
              "      <td>38</td>\n",
              "      <td>0</td>\n",
              "      <td>270000.00</td>\n",
              "      <td>1.2</td>\n",
              "      <td>NaN</td>\n",
              "      <td>Female</td>\n",
              "      <td>No</td>\n",
              "      <td>271.0</td>\n",
              "      <td>0</td>\n",
              "    </tr>\n",
              "    <tr>\n",
              "      <th>296</th>\n",
              "      <td>296</td>\n",
              "      <td>45.0</td>\n",
              "      <td>0</td>\n",
              "      <td>2060</td>\n",
              "      <td>1</td>\n",
              "      <td>60</td>\n",
              "      <td>0</td>\n",
              "      <td>742000.00</td>\n",
              "      <td>0.8</td>\n",
              "      <td>138.0</td>\n",
              "      <td>Female</td>\n",
              "      <td>No</td>\n",
              "      <td>278.0</td>\n",
              "      <td>0</td>\n",
              "    </tr>\n",
              "    <tr>\n",
              "      <th>297</th>\n",
              "      <td>297</td>\n",
              "      <td>45.0</td>\n",
              "      <td>0</td>\n",
              "      <td>2413</td>\n",
              "      <td>0</td>\n",
              "      <td>38</td>\n",
              "      <td>0</td>\n",
              "      <td>140000.00</td>\n",
              "      <td>1.4</td>\n",
              "      <td>140.0</td>\n",
              "      <td>Male</td>\n",
              "      <td>Yes</td>\n",
              "      <td>280.0</td>\n",
              "      <td>0</td>\n",
              "    </tr>\n",
              "    <tr>\n",
              "      <th>298</th>\n",
              "      <td>298</td>\n",
              "      <td>50.0</td>\n",
              "      <td>0</td>\n",
              "      <td>196</td>\n",
              "      <td>0</td>\n",
              "      <td>45</td>\n",
              "      <td>0</td>\n",
              "      <td>395000.00</td>\n",
              "      <td>1.6</td>\n",
              "      <td>136.0</td>\n",
              "      <td>Male</td>\n",
              "      <td>Yes</td>\n",
              "      <td>NaN</td>\n",
              "      <td>0</td>\n",
              "    </tr>\n",
              "  </tbody>\n",
              "</table>\n",
              "<p>299 rows × 14 columns</p>\n",
              "</div>"
            ],
            "text/plain": [
              "     Unnamed: 0   age  anaemia  ...  smoking   time  DEATH_EVENT\n",
              "0             0  75.0        0  ...       No    4.0            1\n",
              "1             1  55.0        0  ...       No    6.0            1\n",
              "2             2  65.0        0  ...      Yes    7.0            1\n",
              "3             3  50.0        1  ...       No    7.0            1\n",
              "4             4  65.0        1  ...       No    8.0            1\n",
              "..          ...   ...      ...  ...      ...    ...          ...\n",
              "294         294  62.0        0  ...      Yes  270.0            0\n",
              "295         295  55.0        0  ...       No  271.0            0\n",
              "296         296  45.0        0  ...       No  278.0            0\n",
              "297         297  45.0        0  ...      Yes  280.0            0\n",
              "298         298  50.0        0  ...      Yes    NaN            0\n",
              "\n",
              "[299 rows x 14 columns]"
            ]
          },
          "metadata": {
            "tags": []
          },
          "execution_count": 251
        }
      ]
    },
    {
      "cell_type": "code",
      "metadata": {
        "colab": {
          "base_uri": "https://localhost:8080/"
        },
        "id": "DAVSZcEEnotv",
        "outputId": "f8731af3-29dd-431d-e596-41883a091757"
      },
      "source": [
        "df.shape\n"
      ],
      "execution_count": null,
      "outputs": [
        {
          "output_type": "execute_result",
          "data": {
            "text/plain": [
              "(299, 14)"
            ]
          },
          "metadata": {
            "tags": []
          },
          "execution_count": 252
        }
      ]
    },
    {
      "cell_type": "code",
      "metadata": {
        "colab": {
          "base_uri": "https://localhost:8080/"
        },
        "id": "HbPQ-8rvoXbD",
        "outputId": "c8e8a0ce-00fd-46bb-9814-749d16470f1b"
      },
      "source": [
        "df.isnull().sum()\n"
      ],
      "execution_count": null,
      "outputs": [
        {
          "output_type": "execute_result",
          "data": {
            "text/plain": [
              "Unnamed: 0                  0\n",
              "age                         0\n",
              "anaemia                     0\n",
              "creatinine_phosphokinase    0\n",
              "diabetes                    0\n",
              "ejection_fraction           0\n",
              "high_blood_pressure         0\n",
              "platelets                   0\n",
              "serum_creatinine            0\n",
              "serum_sodium                6\n",
              "sex                         0\n",
              "smoking                     0\n",
              "time                        7\n",
              "DEATH_EVENT                 0\n",
              "dtype: int64"
            ]
          },
          "metadata": {
            "tags": []
          },
          "execution_count": 253
        }
      ]
    },
    {
      "cell_type": "code",
      "metadata": {
        "colab": {
          "base_uri": "https://localhost:8080/"
        },
        "id": "vxttqASDpfj-",
        "outputId": "5da69ad1-a25d-4072-9a90-eaccebab3929"
      },
      "source": [
        "\n",
        "df = df.drop(['Unnamed: 0'], axis = 1)\n",
        "df.shape"
      ],
      "execution_count": null,
      "outputs": [
        {
          "output_type": "execute_result",
          "data": {
            "text/plain": [
              "(299, 13)"
            ]
          },
          "metadata": {
            "tags": []
          },
          "execution_count": 254
        }
      ]
    },
    {
      "cell_type": "code",
      "metadata": {
        "id": "D1LR21xfDFuJ"
      },
      "source": [
        "from sklearn.impute import SimpleImputer\n",
        "\n",
        "impute = SimpleImputer(missing_values=np.nan, strategy='most_frequent')\n",
        "\n",
        "impute.fit(df[['time']])\n",
        "\n",
        "df['time'] = impute.transform(df[['time']])"
      ],
      "execution_count": null,
      "outputs": []
    },
    {
      "cell_type": "code",
      "metadata": {
        "id": "0zsUiLsyziNM"
      },
      "source": [
        "df = df.dropna(axis = 0, subset = ['serum_sodium'])"
      ],
      "execution_count": null,
      "outputs": []
    },
    {
      "cell_type": "code",
      "metadata": {
        "colab": {
          "base_uri": "https://localhost:8080/"
        },
        "id": "2ES0sD9eyVX4",
        "outputId": "a1f0bcf4-6081-4982-a503-ee014523dff8"
      },
      "source": [
        "print (df.isnull().sum())\n",
        "print (df.shape)"
      ],
      "execution_count": null,
      "outputs": [
        {
          "output_type": "stream",
          "text": [
            "age                         0\n",
            "anaemia                     0\n",
            "creatinine_phosphokinase    0\n",
            "diabetes                    0\n",
            "ejection_fraction           0\n",
            "high_blood_pressure         0\n",
            "platelets                   0\n",
            "serum_creatinine            0\n",
            "serum_sodium                0\n",
            "sex                         0\n",
            "smoking                     0\n",
            "time                        0\n",
            "DEATH_EVENT                 0\n",
            "dtype: int64\n",
            "(293, 13)\n"
          ],
          "name": "stdout"
        }
      ]
    },
    {
      "cell_type": "code",
      "metadata": {
        "colab": {
          "base_uri": "https://localhost:8080/"
        },
        "id": "vACu6fnB3buV",
        "outputId": "66db5f73-86f2-44be-ab9e-09a1342bb4e1"
      },
      "source": [
        "df.info()\n"
      ],
      "execution_count": null,
      "outputs": [
        {
          "output_type": "stream",
          "text": [
            "<class 'pandas.core.frame.DataFrame'>\n",
            "Int64Index: 293 entries, 1 to 298\n",
            "Data columns (total 13 columns):\n",
            " #   Column                    Non-Null Count  Dtype  \n",
            "---  ------                    --------------  -----  \n",
            " 0   age                       293 non-null    float64\n",
            " 1   anaemia                   293 non-null    int64  \n",
            " 2   creatinine_phosphokinase  293 non-null    int64  \n",
            " 3   diabetes                  293 non-null    int64  \n",
            " 4   ejection_fraction         293 non-null    int64  \n",
            " 5   high_blood_pressure       293 non-null    int64  \n",
            " 6   platelets                 293 non-null    float64\n",
            " 7   serum_creatinine          293 non-null    float64\n",
            " 8   serum_sodium              293 non-null    float64\n",
            " 9   sex                       293 non-null    object \n",
            " 10  smoking                   293 non-null    object \n",
            " 11  time                      293 non-null    float64\n",
            " 12  DEATH_EVENT               293 non-null    int64  \n",
            "dtypes: float64(5), int64(6), object(2)\n",
            "memory usage: 32.0+ KB\n"
          ],
          "name": "stdout"
        }
      ]
    },
    {
      "cell_type": "code",
      "metadata": {
        "colab": {
          "base_uri": "https://localhost:8080/"
        },
        "id": "Hfe6I4tn338_",
        "outputId": "a8ccfdf1-be20-4596-d8b0-823b75976159"
      },
      "source": [
        "df['sex'].unique()"
      ],
      "execution_count": null,
      "outputs": [
        {
          "output_type": "execute_result",
          "data": {
            "text/plain": [
              "array(['Male', 'Female'], dtype=object)"
            ]
          },
          "metadata": {
            "tags": []
          },
          "execution_count": 259
        }
      ]
    },
    {
      "cell_type": "code",
      "metadata": {
        "colab": {
          "base_uri": "https://localhost:8080/"
        },
        "id": "od4Slws44Kjx",
        "outputId": "8c488c65-a532-4035-b03f-e5a49a2bb80c"
      },
      "source": [
        "df['smoking'].unique()"
      ],
      "execution_count": null,
      "outputs": [
        {
          "output_type": "execute_result",
          "data": {
            "text/plain": [
              "array(['No', 'Yes'], dtype=object)"
            ]
          },
          "metadata": {
            "tags": []
          },
          "execution_count": 260
        }
      ]
    },
    {
      "cell_type": "code",
      "metadata": {
        "id": "Hz-xpnRx4xqS"
      },
      "source": [
        "from sklearn.preprocessing import LabelEncoder \n",
        "enc = LabelEncoder()\n",
        "\n",
        "df['smoking']= enc.fit_transform(df['smoking'])"
      ],
      "execution_count": null,
      "outputs": []
    },
    {
      "cell_type": "code",
      "metadata": {
        "colab": {
          "base_uri": "https://localhost:8080/",
          "height": 206
        },
        "id": "y5FFnT0U5Lvg",
        "outputId": "2ae0d1ad-7c4c-4465-e73c-9dd0ab9ae572"
      },
      "source": [
        "df.head()"
      ],
      "execution_count": null,
      "outputs": [
        {
          "output_type": "execute_result",
          "data": {
            "text/html": [
              "<div>\n",
              "<style scoped>\n",
              "    .dataframe tbody tr th:only-of-type {\n",
              "        vertical-align: middle;\n",
              "    }\n",
              "\n",
              "    .dataframe tbody tr th {\n",
              "        vertical-align: top;\n",
              "    }\n",
              "\n",
              "    .dataframe thead th {\n",
              "        text-align: right;\n",
              "    }\n",
              "</style>\n",
              "<table border=\"1\" class=\"dataframe\">\n",
              "  <thead>\n",
              "    <tr style=\"text-align: right;\">\n",
              "      <th></th>\n",
              "      <th>age</th>\n",
              "      <th>anaemia</th>\n",
              "      <th>creatinine_phosphokinase</th>\n",
              "      <th>diabetes</th>\n",
              "      <th>ejection_fraction</th>\n",
              "      <th>high_blood_pressure</th>\n",
              "      <th>platelets</th>\n",
              "      <th>serum_creatinine</th>\n",
              "      <th>serum_sodium</th>\n",
              "      <th>sex</th>\n",
              "      <th>smoking</th>\n",
              "      <th>time</th>\n",
              "      <th>DEATH_EVENT</th>\n",
              "    </tr>\n",
              "  </thead>\n",
              "  <tbody>\n",
              "    <tr>\n",
              "      <th>1</th>\n",
              "      <td>55.0</td>\n",
              "      <td>0</td>\n",
              "      <td>7861</td>\n",
              "      <td>0</td>\n",
              "      <td>38</td>\n",
              "      <td>0</td>\n",
              "      <td>263358.03</td>\n",
              "      <td>1.1</td>\n",
              "      <td>136.0</td>\n",
              "      <td>Male</td>\n",
              "      <td>0</td>\n",
              "      <td>6.0</td>\n",
              "      <td>1</td>\n",
              "    </tr>\n",
              "    <tr>\n",
              "      <th>2</th>\n",
              "      <td>65.0</td>\n",
              "      <td>0</td>\n",
              "      <td>146</td>\n",
              "      <td>0</td>\n",
              "      <td>20</td>\n",
              "      <td>0</td>\n",
              "      <td>162000.00</td>\n",
              "      <td>1.3</td>\n",
              "      <td>129.0</td>\n",
              "      <td>Male</td>\n",
              "      <td>1</td>\n",
              "      <td>7.0</td>\n",
              "      <td>1</td>\n",
              "    </tr>\n",
              "    <tr>\n",
              "      <th>3</th>\n",
              "      <td>50.0</td>\n",
              "      <td>1</td>\n",
              "      <td>111</td>\n",
              "      <td>0</td>\n",
              "      <td>20</td>\n",
              "      <td>0</td>\n",
              "      <td>210000.00</td>\n",
              "      <td>1.9</td>\n",
              "      <td>137.0</td>\n",
              "      <td>Male</td>\n",
              "      <td>0</td>\n",
              "      <td>7.0</td>\n",
              "      <td>1</td>\n",
              "    </tr>\n",
              "    <tr>\n",
              "      <th>4</th>\n",
              "      <td>65.0</td>\n",
              "      <td>1</td>\n",
              "      <td>160</td>\n",
              "      <td>1</td>\n",
              "      <td>20</td>\n",
              "      <td>0</td>\n",
              "      <td>327000.00</td>\n",
              "      <td>2.7</td>\n",
              "      <td>116.0</td>\n",
              "      <td>Female</td>\n",
              "      <td>0</td>\n",
              "      <td>8.0</td>\n",
              "      <td>1</td>\n",
              "    </tr>\n",
              "    <tr>\n",
              "      <th>5</th>\n",
              "      <td>90.0</td>\n",
              "      <td>1</td>\n",
              "      <td>47</td>\n",
              "      <td>0</td>\n",
              "      <td>40</td>\n",
              "      <td>1</td>\n",
              "      <td>204000.00</td>\n",
              "      <td>2.1</td>\n",
              "      <td>132.0</td>\n",
              "      <td>Male</td>\n",
              "      <td>1</td>\n",
              "      <td>8.0</td>\n",
              "      <td>1</td>\n",
              "    </tr>\n",
              "  </tbody>\n",
              "</table>\n",
              "</div>"
            ],
            "text/plain": [
              "    age  anaemia  creatinine_phosphokinase  ...  smoking  time  DEATH_EVENT\n",
              "1  55.0        0                      7861  ...        0   6.0            1\n",
              "2  65.0        0                       146  ...        1   7.0            1\n",
              "3  50.0        1                       111  ...        0   7.0            1\n",
              "4  65.0        1                       160  ...        0   8.0            1\n",
              "5  90.0        1                        47  ...        1   8.0            1\n",
              "\n",
              "[5 rows x 13 columns]"
            ]
          },
          "metadata": {
            "tags": []
          },
          "execution_count": 262
        }
      ]
    },
    {
      "cell_type": "code",
      "metadata": {
        "colab": {
          "base_uri": "https://localhost:8080/",
          "height": 206
        },
        "id": "QvGbZsOt6vF3",
        "outputId": "93d51f73-ee15-43d7-aa1a-2b20372c43d6"
      },
      "source": [
        "sex_enc = pd.get_dummies(df['sex'])\n",
        "df['sex']=sex_enc\n",
        "df.head()\n",
        "\n"
      ],
      "execution_count": null,
      "outputs": [
        {
          "output_type": "execute_result",
          "data": {
            "text/html": [
              "<div>\n",
              "<style scoped>\n",
              "    .dataframe tbody tr th:only-of-type {\n",
              "        vertical-align: middle;\n",
              "    }\n",
              "\n",
              "    .dataframe tbody tr th {\n",
              "        vertical-align: top;\n",
              "    }\n",
              "\n",
              "    .dataframe thead th {\n",
              "        text-align: right;\n",
              "    }\n",
              "</style>\n",
              "<table border=\"1\" class=\"dataframe\">\n",
              "  <thead>\n",
              "    <tr style=\"text-align: right;\">\n",
              "      <th></th>\n",
              "      <th>age</th>\n",
              "      <th>anaemia</th>\n",
              "      <th>creatinine_phosphokinase</th>\n",
              "      <th>diabetes</th>\n",
              "      <th>ejection_fraction</th>\n",
              "      <th>high_blood_pressure</th>\n",
              "      <th>platelets</th>\n",
              "      <th>serum_creatinine</th>\n",
              "      <th>serum_sodium</th>\n",
              "      <th>sex</th>\n",
              "      <th>smoking</th>\n",
              "      <th>time</th>\n",
              "      <th>DEATH_EVENT</th>\n",
              "    </tr>\n",
              "  </thead>\n",
              "  <tbody>\n",
              "    <tr>\n",
              "      <th>1</th>\n",
              "      <td>55.0</td>\n",
              "      <td>0</td>\n",
              "      <td>7861</td>\n",
              "      <td>0</td>\n",
              "      <td>38</td>\n",
              "      <td>0</td>\n",
              "      <td>263358.03</td>\n",
              "      <td>1.1</td>\n",
              "      <td>136.0</td>\n",
              "      <td>0</td>\n",
              "      <td>0</td>\n",
              "      <td>6.0</td>\n",
              "      <td>1</td>\n",
              "    </tr>\n",
              "    <tr>\n",
              "      <th>2</th>\n",
              "      <td>65.0</td>\n",
              "      <td>0</td>\n",
              "      <td>146</td>\n",
              "      <td>0</td>\n",
              "      <td>20</td>\n",
              "      <td>0</td>\n",
              "      <td>162000.00</td>\n",
              "      <td>1.3</td>\n",
              "      <td>129.0</td>\n",
              "      <td>0</td>\n",
              "      <td>1</td>\n",
              "      <td>7.0</td>\n",
              "      <td>1</td>\n",
              "    </tr>\n",
              "    <tr>\n",
              "      <th>3</th>\n",
              "      <td>50.0</td>\n",
              "      <td>1</td>\n",
              "      <td>111</td>\n",
              "      <td>0</td>\n",
              "      <td>20</td>\n",
              "      <td>0</td>\n",
              "      <td>210000.00</td>\n",
              "      <td>1.9</td>\n",
              "      <td>137.0</td>\n",
              "      <td>0</td>\n",
              "      <td>0</td>\n",
              "      <td>7.0</td>\n",
              "      <td>1</td>\n",
              "    </tr>\n",
              "    <tr>\n",
              "      <th>4</th>\n",
              "      <td>65.0</td>\n",
              "      <td>1</td>\n",
              "      <td>160</td>\n",
              "      <td>1</td>\n",
              "      <td>20</td>\n",
              "      <td>0</td>\n",
              "      <td>327000.00</td>\n",
              "      <td>2.7</td>\n",
              "      <td>116.0</td>\n",
              "      <td>1</td>\n",
              "      <td>0</td>\n",
              "      <td>8.0</td>\n",
              "      <td>1</td>\n",
              "    </tr>\n",
              "    <tr>\n",
              "      <th>5</th>\n",
              "      <td>90.0</td>\n",
              "      <td>1</td>\n",
              "      <td>47</td>\n",
              "      <td>0</td>\n",
              "      <td>40</td>\n",
              "      <td>1</td>\n",
              "      <td>204000.00</td>\n",
              "      <td>2.1</td>\n",
              "      <td>132.0</td>\n",
              "      <td>0</td>\n",
              "      <td>1</td>\n",
              "      <td>8.0</td>\n",
              "      <td>1</td>\n",
              "    </tr>\n",
              "  </tbody>\n",
              "</table>\n",
              "</div>"
            ],
            "text/plain": [
              "    age  anaemia  creatinine_phosphokinase  ...  smoking  time  DEATH_EVENT\n",
              "1  55.0        0                      7861  ...        0   6.0            1\n",
              "2  65.0        0                       146  ...        1   7.0            1\n",
              "3  50.0        1                       111  ...        0   7.0            1\n",
              "4  65.0        1                       160  ...        0   8.0            1\n",
              "5  90.0        1                        47  ...        1   8.0            1\n",
              "\n",
              "[5 rows x 13 columns]"
            ]
          },
          "metadata": {
            "tags": []
          },
          "execution_count": 263
        }
      ]
    },
    {
      "cell_type": "code",
      "metadata": {
        "colab": {
          "base_uri": "https://localhost:8080/"
        },
        "id": "_y9RnI_UJkFO",
        "outputId": "8ad17642-7f0d-47ee-b53d-24edea78901a"
      },
      "source": [
        "df.info()"
      ],
      "execution_count": null,
      "outputs": [
        {
          "output_type": "stream",
          "text": [
            "<class 'pandas.core.frame.DataFrame'>\n",
            "Int64Index: 293 entries, 1 to 298\n",
            "Data columns (total 13 columns):\n",
            " #   Column                    Non-Null Count  Dtype  \n",
            "---  ------                    --------------  -----  \n",
            " 0   age                       293 non-null    float64\n",
            " 1   anaemia                   293 non-null    int64  \n",
            " 2   creatinine_phosphokinase  293 non-null    int64  \n",
            " 3   diabetes                  293 non-null    int64  \n",
            " 4   ejection_fraction         293 non-null    int64  \n",
            " 5   high_blood_pressure       293 non-null    int64  \n",
            " 6   platelets                 293 non-null    float64\n",
            " 7   serum_creatinine          293 non-null    float64\n",
            " 8   serum_sodium              293 non-null    float64\n",
            " 9   sex                       293 non-null    uint8  \n",
            " 10  smoking                   293 non-null    int64  \n",
            " 11  time                      293 non-null    float64\n",
            " 12  DEATH_EVENT               293 non-null    int64  \n",
            "dtypes: float64(5), int64(7), uint8(1)\n",
            "memory usage: 30.0 KB\n"
          ],
          "name": "stdout"
        }
      ]
    },
    {
      "cell_type": "code",
      "metadata": {
        "colab": {
          "base_uri": "https://localhost:8080/"
        },
        "id": "ux9YyyQ-JpCg",
        "outputId": "6348ad00-5b58-4e4c-9eb6-b2dc71acf990"
      },
      "source": [
        "from sklearn.preprocessing import MinMaxScaler\n",
        "scaler = MinMaxScaler()\n",
        "scaler.fit(df)\n",
        "df_scale=scaler.transform(df)\n",
        "print(df_scale)"
      ],
      "execution_count": null,
      "outputs": [
        {
          "output_type": "stream",
          "text": [
            "[[0.27272727 0.         1.         ... 0.         0.         1.        ]\n",
            " [0.45454545 0.         0.01569278 ... 1.         0.00364964 1.        ]\n",
            " [0.18181818 1.         0.01122735 ... 0.         0.00364964 1.        ]\n",
            " ...\n",
            " [0.09090909 0.         0.25988773 ... 0.         0.99270073 0.        ]\n",
            " [0.09090909 0.         0.30492473 ... 1.         1.         0.        ]\n",
            " [0.18181818 0.         0.02207196 ... 1.         0.66058394 0.        ]]\n"
          ],
          "name": "stdout"
        }
      ]
    },
    {
      "cell_type": "code",
      "metadata": {
        "colab": {
          "base_uri": "https://localhost:8080/"
        },
        "id": "dqCPcJoFLyk6",
        "outputId": "347ab4ba-a9f9-44be-8645-15d3a4bce494"
      },
      "source": [
        "print(\"per-feature minimum before scaling:\\n {}\".format(df.min(axis=0)))\n",
        "print(\"per-feature maximum before scaling:\\n {}\".format(df.max(axis=0)))"
      ],
      "execution_count": null,
      "outputs": [
        {
          "output_type": "stream",
          "text": [
            "per-feature minimum before scaling:\n",
            " age                            40.0\n",
            "anaemia                         0.0\n",
            "creatinine_phosphokinase       23.0\n",
            "diabetes                        0.0\n",
            "ejection_fraction              14.0\n",
            "high_blood_pressure             0.0\n",
            "platelets                   25100.0\n",
            "serum_creatinine                0.5\n",
            "serum_sodium                  113.0\n",
            "sex                             0.0\n",
            "smoking                         0.0\n",
            "time                            6.0\n",
            "DEATH_EVENT                     0.0\n",
            "dtype: float64\n",
            "per-feature maximum before scaling:\n",
            " age                             95.0\n",
            "anaemia                          1.0\n",
            "creatinine_phosphokinase      7861.0\n",
            "diabetes                         1.0\n",
            "ejection_fraction               80.0\n",
            "high_blood_pressure              1.0\n",
            "platelets                   850000.0\n",
            "serum_creatinine                 9.4\n",
            "serum_sodium                   148.0\n",
            "sex                              1.0\n",
            "smoking                          1.0\n",
            "time                           280.0\n",
            "DEATH_EVENT                      1.0\n",
            "dtype: float64\n"
          ],
          "name": "stdout"
        }
      ]
    },
    {
      "cell_type": "code",
      "metadata": {
        "colab": {
          "base_uri": "https://localhost:8080/"
        },
        "id": "7K8oLQwsLpUJ",
        "outputId": "68c5d28e-7b83-40d1-fdd9-10869a5bcb4e"
      },
      "source": [
        "print(\"per-feature minimum after scaling:\\n {}\".format(\n",
        "    df_scale.min(axis=0)))\n",
        "print(\"per-feature maximum after scaling:\\n {}\".format(\n",
        "    df_scale.max(axis=0)))"
      ],
      "execution_count": null,
      "outputs": [
        {
          "output_type": "stream",
          "text": [
            "per-feature minimum after scaling:\n",
            " [0. 0. 0. 0. 0. 0. 0. 0. 0. 0. 0. 0. 0.]\n",
            "per-feature maximum after scaling:\n",
            " [1. 1. 1. 1. 1. 1. 1. 1. 1. 1. 1. 1. 1.]\n"
          ],
          "name": "stdout"
        }
      ]
    },
    {
      "cell_type": "code",
      "metadata": {
        "id": "ZTtWrPEGX2Aj"
      },
      "source": [
        "y = df.DEATH_EVENT\n",
        "x= df.drop('DEATH_EVENT',axis=1)"
      ],
      "execution_count": null,
      "outputs": []
    },
    {
      "cell_type": "code",
      "metadata": {
        "id": "wWra1FczZaV5"
      },
      "source": [
        "from sklearn.model_selection import train_test_split\n",
        "x_train,x_test,y_train,y_test=train_test_split(x,y,test_size=0.2)"
      ],
      "execution_count": null,
      "outputs": []
    },
    {
      "cell_type": "code",
      "metadata": {
        "colab": {
          "base_uri": "https://localhost:8080/",
          "height": 206
        },
        "id": "cRfb-G6IZxiw",
        "outputId": "f77eabf3-cda2-4db3-ac9d-4541de484961"
      },
      "source": [
        "x_train.head()"
      ],
      "execution_count": null,
      "outputs": [
        {
          "output_type": "execute_result",
          "data": {
            "text/html": [
              "<div>\n",
              "<style scoped>\n",
              "    .dataframe tbody tr th:only-of-type {\n",
              "        vertical-align: middle;\n",
              "    }\n",
              "\n",
              "    .dataframe tbody tr th {\n",
              "        vertical-align: top;\n",
              "    }\n",
              "\n",
              "    .dataframe thead th {\n",
              "        text-align: right;\n",
              "    }\n",
              "</style>\n",
              "<table border=\"1\" class=\"dataframe\">\n",
              "  <thead>\n",
              "    <tr style=\"text-align: right;\">\n",
              "      <th></th>\n",
              "      <th>age</th>\n",
              "      <th>anaemia</th>\n",
              "      <th>creatinine_phosphokinase</th>\n",
              "      <th>diabetes</th>\n",
              "      <th>ejection_fraction</th>\n",
              "      <th>high_blood_pressure</th>\n",
              "      <th>platelets</th>\n",
              "      <th>serum_creatinine</th>\n",
              "      <th>serum_sodium</th>\n",
              "      <th>sex</th>\n",
              "      <th>smoking</th>\n",
              "      <th>time</th>\n",
              "    </tr>\n",
              "  </thead>\n",
              "  <tbody>\n",
              "    <tr>\n",
              "      <th>144</th>\n",
              "      <td>72.0</td>\n",
              "      <td>1</td>\n",
              "      <td>943</td>\n",
              "      <td>0</td>\n",
              "      <td>25</td>\n",
              "      <td>1</td>\n",
              "      <td>338000.00</td>\n",
              "      <td>1.70</td>\n",
              "      <td>139.0</td>\n",
              "      <td>0</td>\n",
              "      <td>1</td>\n",
              "      <td>111.0</td>\n",
              "    </tr>\n",
              "    <tr>\n",
              "      <th>243</th>\n",
              "      <td>73.0</td>\n",
              "      <td>1</td>\n",
              "      <td>1185</td>\n",
              "      <td>0</td>\n",
              "      <td>40</td>\n",
              "      <td>1</td>\n",
              "      <td>220000.00</td>\n",
              "      <td>0.90</td>\n",
              "      <td>141.0</td>\n",
              "      <td>1</td>\n",
              "      <td>0</td>\n",
              "      <td>213.0</td>\n",
              "    </tr>\n",
              "    <tr>\n",
              "      <th>12</th>\n",
              "      <td>45.0</td>\n",
              "      <td>1</td>\n",
              "      <td>981</td>\n",
              "      <td>0</td>\n",
              "      <td>30</td>\n",
              "      <td>0</td>\n",
              "      <td>136000.00</td>\n",
              "      <td>1.10</td>\n",
              "      <td>137.0</td>\n",
              "      <td>0</td>\n",
              "      <td>0</td>\n",
              "      <td>11.0</td>\n",
              "    </tr>\n",
              "    <tr>\n",
              "      <th>64</th>\n",
              "      <td>45.0</td>\n",
              "      <td>0</td>\n",
              "      <td>582</td>\n",
              "      <td>0</td>\n",
              "      <td>80</td>\n",
              "      <td>0</td>\n",
              "      <td>263358.03</td>\n",
              "      <td>1.18</td>\n",
              "      <td>137.0</td>\n",
              "      <td>1</td>\n",
              "      <td>0</td>\n",
              "      <td>63.0</td>\n",
              "    </tr>\n",
              "    <tr>\n",
              "      <th>262</th>\n",
              "      <td>65.0</td>\n",
              "      <td>1</td>\n",
              "      <td>258</td>\n",
              "      <td>1</td>\n",
              "      <td>25</td>\n",
              "      <td>0</td>\n",
              "      <td>198000.00</td>\n",
              "      <td>1.40</td>\n",
              "      <td>129.0</td>\n",
              "      <td>0</td>\n",
              "      <td>0</td>\n",
              "      <td>235.0</td>\n",
              "    </tr>\n",
              "  </tbody>\n",
              "</table>\n",
              "</div>"
            ],
            "text/plain": [
              "      age  anaemia  creatinine_phosphokinase  ...  sex  smoking   time\n",
              "144  72.0        1                       943  ...    0        1  111.0\n",
              "243  73.0        1                      1185  ...    1        0  213.0\n",
              "12   45.0        1                       981  ...    0        0   11.0\n",
              "64   45.0        0                       582  ...    1        0   63.0\n",
              "262  65.0        1                       258  ...    0        0  235.0\n",
              "\n",
              "[5 rows x 12 columns]"
            ]
          },
          "metadata": {
            "tags": []
          },
          "execution_count": 270
        }
      ]
    },
    {
      "cell_type": "code",
      "metadata": {
        "colab": {
          "base_uri": "https://localhost:8080/"
        },
        "id": "YZj1h44mRj1Q",
        "outputId": "7708f202-ccec-4142-cb86-92430e622ed0"
      },
      "source": [
        "print(\"Training set : x->{}, y-> {} \\n Testing set: x->{}, y->{}\".format(x_train.shape, y_train.shape, x_test.shape, y_test.shape))"
      ],
      "execution_count": null,
      "outputs": [
        {
          "output_type": "stream",
          "text": [
            "Training set : x->(234, 12), y-> (234,) \n",
            " Testing set: x->(59, 12), y->(59,)\n"
          ],
          "name": "stdout"
        }
      ]
    },
    {
      "cell_type": "markdown",
      "metadata": {
        "id": "VyOlw3fpRu3a"
      },
      "source": [
        "# Support Vector Machine"
      ]
    },
    {
      "cell_type": "code",
      "metadata": {
        "colab": {
          "base_uri": "https://localhost:8080/"
        },
        "id": "uFLqgNXcR0h6",
        "outputId": "3da165c7-33f9-4b87-a1c5-2af8b434816a"
      },
      "source": [
        "from sklearn.svm import SVC\r\n",
        "svc= SVC(kernel = \"linear\")\r\n",
        "svc.fit(x_train, y_train)"
      ],
      "execution_count": null,
      "outputs": [
        {
          "output_type": "execute_result",
          "data": {
            "text/plain": [
              "SVC(C=1.0, break_ties=False, cache_size=200, class_weight=None, coef0=0.0,\n",
              "    decision_function_shape='ovr', degree=3, gamma='scale', kernel='linear',\n",
              "    max_iter=-1, probability=False, random_state=None, shrinking=True,\n",
              "    tol=0.001, verbose=False)"
            ]
          },
          "metadata": {
            "tags": []
          },
          "execution_count": 272
        }
      ]
    },
    {
      "cell_type": "code",
      "metadata": {
        "colab": {
          "base_uri": "https://localhost:8080/"
        },
        "id": "QrsjeUhqSJMM",
        "outputId": "4af63cdc-4533-4c88-e049-b00a9cb336f6"
      },
      "source": [
        "print(\"Training accuracy of the model is {:.2f}\".format(svc.score(x_train, y_train)))\r\n",
        "print(\"Testing accuracy of the model is {:.2f}\".format(svc.score(x_test, y_test)))"
      ],
      "execution_count": null,
      "outputs": [
        {
          "output_type": "stream",
          "text": [
            "Training accuracy of the model is 0.83\n",
            "Testing accuracy of the model is 0.85\n"
          ],
          "name": "stdout"
        }
      ]
    },
    {
      "cell_type": "code",
      "metadata": {
        "colab": {
          "base_uri": "https://localhost:8080/"
        },
        "id": "zHAZYud_SOHb",
        "outputId": "c3ed063a-be56-4949-8bfc-fa5b18c54c70"
      },
      "source": [
        "predictionsSVC = svc.predict(x_test)\r\n",
        "print(predictions)\r\n",
        "\r\n",
        "scoreSVC= accuracy_score(y_test, predictionsSVC)\r\n",
        "print (scoreSVC)"
      ],
      "execution_count": null,
      "outputs": [
        {
          "output_type": "stream",
          "text": [
            "[0 1 0 0 0 1 0 0 0 0 0 0 0 1 0 0 0 0 0 0 1 0 1 0 0 1 0 1 0 0 0 1 0 1 0 1 0\n",
            " 0 0 0 0 0 0 1 0 0 0 0 0 0 0 0 0 0 0 0 0 1 0]\n",
            "0.847457627118644\n"
          ],
          "name": "stdout"
        }
      ]
    },
    {
      "cell_type": "code",
      "metadata": {
        "colab": {
          "base_uri": "https://localhost:8080/"
        },
        "id": "UvOIby1CSRmc",
        "outputId": "8cc9f82d-033a-408e-eccd-a2d0bf0a590b"
      },
      "source": [
        "from sklearn.metrics import confusion_matrix\r\n",
        "matSVC= confusion_matrix(predictionsSVC, y_test)\r\n",
        "print(matSVC)"
      ],
      "execution_count": null,
      "outputs": [
        {
          "output_type": "stream",
          "text": [
            "[[39  8]\n",
            " [ 1 11]]\n"
          ],
          "name": "stdout"
        }
      ]
    },
    {
      "cell_type": "code",
      "metadata": {
        "colab": {
          "base_uri": "https://localhost:8080/",
          "height": 284
        },
        "id": "pxS_duZrSTsI",
        "outputId": "e9f1ceb7-7adf-412b-f619-c0e23b1ea9b2"
      },
      "source": [
        "from seaborn import heatmap\r\n",
        "heatmap(matSVC, cmap = \"Pastel1_r\", xticklabels=['0' ,'1'], yticklabels=['0' ,'1'], annot=True)"
      ],
      "execution_count": null,
      "outputs": [
        {
          "output_type": "execute_result",
          "data": {
            "text/plain": [
              "<matplotlib.axes._subplots.AxesSubplot at 0x7f4be6b21cc0>"
            ]
          },
          "metadata": {
            "tags": []
          },
          "execution_count": 276
        },
        {
          "output_type": "display_data",
          "data": {
            "image/png": "[encoded data removed]",
            "text/plain": [
              "<Figure size 432x288 with 2 Axes>"
            ]
          },
          "metadata": {
            "tags": [],
            "needs_background": "light"
          }
        }
      ]
    },
    {
      "cell_type": "markdown",
      "metadata": {
        "id": "rDpoa8NQSufM"
      },
      "source": [
        "# MLP Classifier"
      ]
    },
    {
      "cell_type": "code",
      "metadata": {
        "id": "oTuisdhwSpEJ"
      },
      "source": [
        "from sklearn.neural_network import MLPClassifier\r\n",
        "nnc= MLPClassifier(hidden_layer_sizes=(8), activation = \"relu\", max_iter=1000000)"
      ],
      "execution_count": null,
      "outputs": []
    },
    {
      "cell_type": "code",
      "metadata": {
        "colab": {
          "base_uri": "https://localhost:8080/"
        },
        "id": "dqw2WwPvTF6L",
        "outputId": "017cf433-c3e3-4a26-92bb-f5431a47a74c"
      },
      "source": [
        "nnc.fit(x_train, y_train)"
      ],
      "execution_count": null,
      "outputs": [
        {
          "output_type": "execute_result",
          "data": {
            "text/plain": [
              "MLPClassifier(activation='relu', alpha=0.0001, batch_size='auto', beta_1=0.9,\n",
              "              beta_2=0.999, early_stopping=False, epsilon=1e-08,\n",
              "              hidden_layer_sizes=8, learning_rate='constant',\n",
              "              learning_rate_init=0.001, max_fun=15000, max_iter=1000000,\n",
              "              momentum=0.9, n_iter_no_change=10, nesterovs_momentum=True,\n",
              "              power_t=0.5, random_state=None, shuffle=True, solver='adam',\n",
              "              tol=0.0001, validation_fraction=0.1, verbose=False,\n",
              "              warm_start=False)"
            ]
          },
          "metadata": {
            "tags": []
          },
          "execution_count": 278
        }
      ]
    },
    {
      "cell_type": "code",
      "metadata": {
        "colab": {
          "base_uri": "https://localhost:8080/"
        },
        "id": "00HAWSzXTKdP",
        "outputId": "2a137934-7a48-4f06-f560-139361f91951"
      },
      "source": [
        "print(\"The Training accuracy of the model is {:.2f}\".format(nnc.score(x_train, y_train)))\r\n",
        "print(\"The Testing accuracy of the model is {:.2f}\".format(nnc.score(x_test, y_test)))"
      ],
      "execution_count": null,
      "outputs": [
        {
          "output_type": "stream",
          "text": [
            "The Training accuracy of the model is 0.68\n",
            "The Testing accuracy of the model is 0.66\n"
          ],
          "name": "stdout"
        }
      ]
    },
    {
      "cell_type": "code",
      "metadata": {
        "colab": {
          "base_uri": "https://localhost:8080/"
        },
        "id": "446K8JOu6n1e",
        "outputId": "f0c3f443-ad96-4c11-9677-2d4125e802e0"
      },
      "source": [
        "predictionsNNC = nnc.predict(x_test)\r\n",
        "print(predictionsNNC)\r\n",
        "\r\n",
        "scoreNNC= accuracy_score(y_test, predictionsNNC)\r\n",
        "print (scoreNNC)"
      ],
      "execution_count": null,
      "outputs": [
        {
          "output_type": "stream",
          "text": [
            "[0 0 0 0 0 0 0 0 0 0 0 0 0 0 0 0 0 0 0 0 0 0 0 0 0 0 0 0 0 0 0 1 0 0 0 0 0\n",
            " 0 0 0 0 0 0 0 0 0 0 0 0 0 0 0 0 0 0 0 0 0 0]\n",
            "0.6610169491525424\n"
          ],
          "name": "stdout"
        }
      ]
    },
    {
      "cell_type": "code",
      "metadata": {
        "colab": {
          "base_uri": "https://localhost:8080/"
        },
        "id": "SOjfpneAUZNL",
        "outputId": "34a4efd1-f83e-4e27-cf0f-6f786390b4d0"
      },
      "source": [
        "from sklearn.metrics import confusion_matrix\r\n",
        "matNNC=confusion_matrix(predictionsNNC, y_test)\r\n",
        "print(matNNC)"
      ],
      "execution_count": null,
      "outputs": [
        {
          "output_type": "stream",
          "text": [
            "[[39 19]\n",
            " [ 1  0]]\n"
          ],
          "name": "stdout"
        }
      ]
    },
    {
      "cell_type": "code",
      "metadata": {
        "colab": {
          "base_uri": "https://localhost:8080/",
          "height": 284
        },
        "id": "0u7TCZETUfZM",
        "outputId": "2e8a9852-16f4-4221-c9d8-39a9fe911e52"
      },
      "source": [
        "from seaborn import heatmap\r\n",
        "heatmap(matNNC , cmap=\"Pastel1_r\", xticklabels=['0' ,'1'], yticklabels=['0' ,'1'], annot=True)"
      ],
      "execution_count": null,
      "outputs": [
        {
          "output_type": "execute_result",
          "data": {
            "text/plain": [
              "<matplotlib.axes._subplots.AxesSubplot at 0x7f4be6ab2c88>"
            ]
          },
          "metadata": {
            "tags": []
          },
          "execution_count": 282
        },
        {
          "output_type": "display_data",
          "data": {
            "image/png": "[encoded data removed]",
            "text/plain": [
              "<Figure size 432x288 with 2 Axes>"
            ]
          },
          "metadata": {
            "tags": [],
            "needs_background": "light"
          }
        }
      ]
    },
    {
      "cell_type": "markdown",
      "metadata": {
        "id": "f6Gs0CD6U2Tr"
      },
      "source": [
        "# Random Forest Classifier"
      ]
    },
    {
      "cell_type": "code",
      "metadata": {
        "id": "7xOcAgjfUubb"
      },
      "source": [
        "from sklearn.ensemble import RandomForestClassifier\r\n",
        "rfc = RandomForestClassifier(n_estimators = 50)\r\n",
        "rfc.fit(x_train, y_train)"
      ],
      "execution_count": null,
      "outputs": []
    },
    {
      "cell_type": "code",
      "metadata": {
        "id": "AUR401w0VFDh"
      },
      "source": [
        "print (\"The training accuracy of the model is {:.2f}\".format(rfc.score(x_train, y_train)))\r\n",
        "print ( \"The testing accuracy of the model is {:.2f}\".format(rfc.score(x_test,y_test)))"
      ],
      "execution_count": null,
      "outputs": []
    },
    {
      "cell_type": "code",
      "metadata": {
        "colab": {
          "base_uri": "https://localhost:8080/"
        },
        "id": "sq4RDxdhVKlx",
        "outputId": "5f548fea-d2be-496a-8896-d4c03d4d36f8"
      },
      "source": [
        "predictionsRFC = rfc.predict(x_test)\r\n",
        "\r\n",
        "scoreRFC= accuracy_score(y_test, predictionsRFC)\r\n",
        "print (scoreRFC)"
      ],
      "execution_count": null,
      "outputs": [
        {
          "output_type": "stream",
          "text": [
            "0.864406779661017\n"
          ],
          "name": "stdout"
        }
      ]
    },
    {
      "cell_type": "code",
      "metadata": {
        "id": "WLgg_0HRVO1-"
      },
      "source": [
        "from sklearn.metrics import confusion_matrix \r\n",
        "matRFC= confusion_matrix(predictionsRFC, y_test)\r\n",
        "print(matRFC)"
      ],
      "execution_count": null,
      "outputs": []
    },
    {
      "cell_type": "code",
      "metadata": {
        "id": "xgJTEdY_VRJC"
      },
      "source": [
        "from seaborn import heatmap\r\n",
        "heatmap(matRFC , cmap=\"Pastel1_r\", xticklabels=['0' ,'1'], yticklabels=['0' ,'1'], annot=True)"
      ],
      "execution_count": null,
      "outputs": []
    },
    {
      "cell_type": "markdown",
      "metadata": {
        "id": "kEmhV8fApcCc"
      },
      "source": [
        "# PCA"
      ]
    },
    {
      "cell_type": "code",
      "metadata": {
        "colab": {
          "base_uri": "https://localhost:8080/"
        },
        "id": "jWSs91vVpbT4",
        "outputId": "d8d789dc-40f3-43d8-d5da-7fe8e1408da5"
      },
      "source": [
        "df.shape"
      ],
      "execution_count": null,
      "outputs": [
        {
          "output_type": "execute_result",
          "data": {
            "text/plain": [
              "(293, 13)"
            ]
          },
          "metadata": {
            "tags": []
          },
          "execution_count": 288
        }
      ]
    },
    {
      "cell_type": "code",
      "metadata": {
        "colab": {
          "base_uri": "https://localhost:8080/",
          "height": 206
        },
        "id": "8K2mgJh10sta",
        "outputId": "140fc51f-7ec0-4baf-e8ce-c763f93670b3"
      },
      "source": [
        "df.head()"
      ],
      "execution_count": null,
      "outputs": [
        {
          "output_type": "execute_result",
          "data": {
            "text/html": [
              "<div>\n",
              "<style scoped>\n",
              "    .dataframe tbody tr th:only-of-type {\n",
              "        vertical-align: middle;\n",
              "    }\n",
              "\n",
              "    .dataframe tbody tr th {\n",
              "        vertical-align: top;\n",
              "    }\n",
              "\n",
              "    .dataframe thead th {\n",
              "        text-align: right;\n",
              "    }\n",
              "</style>\n",
              "<table border=\"1\" class=\"dataframe\">\n",
              "  <thead>\n",
              "    <tr style=\"text-align: right;\">\n",
              "      <th></th>\n",
              "      <th>age</th>\n",
              "      <th>anaemia</th>\n",
              "      <th>creatinine_phosphokinase</th>\n",
              "      <th>diabetes</th>\n",
              "      <th>ejection_fraction</th>\n",
              "      <th>high_blood_pressure</th>\n",
              "      <th>platelets</th>\n",
              "      <th>serum_creatinine</th>\n",
              "      <th>serum_sodium</th>\n",
              "      <th>sex</th>\n",
              "      <th>smoking</th>\n",
              "      <th>time</th>\n",
              "      <th>DEATH_EVENT</th>\n",
              "    </tr>\n",
              "  </thead>\n",
              "  <tbody>\n",
              "    <tr>\n",
              "      <th>1</th>\n",
              "      <td>55.0</td>\n",
              "      <td>0</td>\n",
              "      <td>7861</td>\n",
              "      <td>0</td>\n",
              "      <td>38</td>\n",
              "      <td>0</td>\n",
              "      <td>263358.03</td>\n",
              "      <td>1.1</td>\n",
              "      <td>136.0</td>\n",
              "      <td>0</td>\n",
              "      <td>0</td>\n",
              "      <td>6.0</td>\n",
              "      <td>1</td>\n",
              "    </tr>\n",
              "    <tr>\n",
              "      <th>2</th>\n",
              "      <td>65.0</td>\n",
              "      <td>0</td>\n",
              "      <td>146</td>\n",
              "      <td>0</td>\n",
              "      <td>20</td>\n",
              "      <td>0</td>\n",
              "      <td>162000.00</td>\n",
              "      <td>1.3</td>\n",
              "      <td>129.0</td>\n",
              "      <td>0</td>\n",
              "      <td>1</td>\n",
              "      <td>7.0</td>\n",
              "      <td>1</td>\n",
              "    </tr>\n",
              "    <tr>\n",
              "      <th>3</th>\n",
              "      <td>50.0</td>\n",
              "      <td>1</td>\n",
              "      <td>111</td>\n",
              "      <td>0</td>\n",
              "      <td>20</td>\n",
              "      <td>0</td>\n",
              "      <td>210000.00</td>\n",
              "      <td>1.9</td>\n",
              "      <td>137.0</td>\n",
              "      <td>0</td>\n",
              "      <td>0</td>\n",
              "      <td>7.0</td>\n",
              "      <td>1</td>\n",
              "    </tr>\n",
              "    <tr>\n",
              "      <th>4</th>\n",
              "      <td>65.0</td>\n",
              "      <td>1</td>\n",
              "      <td>160</td>\n",
              "      <td>1</td>\n",
              "      <td>20</td>\n",
              "      <td>0</td>\n",
              "      <td>327000.00</td>\n",
              "      <td>2.7</td>\n",
              "      <td>116.0</td>\n",
              "      <td>1</td>\n",
              "      <td>0</td>\n",
              "      <td>8.0</td>\n",
              "      <td>1</td>\n",
              "    </tr>\n",
              "    <tr>\n",
              "      <th>5</th>\n",
              "      <td>90.0</td>\n",
              "      <td>1</td>\n",
              "      <td>47</td>\n",
              "      <td>0</td>\n",
              "      <td>40</td>\n",
              "      <td>1</td>\n",
              "      <td>204000.00</td>\n",
              "      <td>2.1</td>\n",
              "      <td>132.0</td>\n",
              "      <td>0</td>\n",
              "      <td>1</td>\n",
              "      <td>8.0</td>\n",
              "      <td>1</td>\n",
              "    </tr>\n",
              "  </tbody>\n",
              "</table>\n",
              "</div>"
            ],
            "text/plain": [
              "    age  anaemia  creatinine_phosphokinase  ...  smoking  time  DEATH_EVENT\n",
              "1  55.0        0                      7861  ...        0   6.0            1\n",
              "2  65.0        0                       146  ...        1   7.0            1\n",
              "3  50.0        1                       111  ...        0   7.0            1\n",
              "4  65.0        1                       160  ...        0   8.0            1\n",
              "5  90.0        1                        47  ...        1   8.0            1\n",
              "\n",
              "[5 rows x 13 columns]"
            ]
          },
          "metadata": {
            "tags": []
          },
          "execution_count": 289
        }
      ]
    },
    {
      "cell_type": "code",
      "metadata": {
        "id": "FRWQOQzIprGf"
      },
      "source": [
        "from sklearn.decomposition import PCA\r\n",
        "pca = PCA(n_components=6)"
      ],
      "execution_count": null,
      "outputs": []
    },
    {
      "cell_type": "code",
      "metadata": {
        "id": "1Kqi4vkc3gVg"
      },
      "source": [
        "y2 = df.DEATH_EVENT\r\n"
      ],
      "execution_count": null,
      "outputs": []
    },
    {
      "cell_type": "code",
      "metadata": {
        "colab": {
          "base_uri": "https://localhost:8080/"
        },
        "id": "-4mfte3jtgQy",
        "outputId": "90f0d495-e961-486f-d761-d9a0b3141070"
      },
      "source": [
        "dataf=df.drop('DEATH_EVENT',axis=1)\r\n",
        "principal_components= pca.fit_transform(dataf)\r\n",
        "print(principal_components)"
      ],
      "execution_count": null,
      "outputs": [
        {
          "output_type": "stream",
          "text": [
            "[[ 3.66269321e+02  7.28202264e+03 -1.16301937e+02 -2.10381421e+00\n",
            "   4.75577249e+00  2.23639693e+00]\n",
            " [-1.00993442e+05 -4.10852258e+02 -1.21870311e+02  1.38503126e+01\n",
            "  -1.02015114e+01  5.57083984e+00]\n",
            " [-5.29934508e+04 -4.56309896e+02 -1.22422723e+02  2.29836788e+01\n",
            "   1.56764530e+00 -2.11141295e+00]\n",
            " ...\n",
            " [ 4.79006968e+05  1.37628438e+03  1.39622028e+02 -9.16694252e+00\n",
            "   1.66867883e+01  2.01162289e+00]\n",
            " [-1.22992941e+05  1.86065709e+03  1.54677790e+02  5.30237086e+00\n",
            "   8.48470052e+00 -2.15495738e+00]\n",
            " [ 1.32006567e+05 -4.11891109e+02  5.37944833e+01  1.51662407e+00\n",
            "   1.00231255e+01  1.60162308e+00]]\n"
          ],
          "name": "stdout"
        }
      ]
    },
    {
      "cell_type": "code",
      "metadata": {
        "colab": {
          "base_uri": "https://localhost:8080/",
          "height": 206
        },
        "id": "sX86Cuz5u2_2",
        "outputId": "2d8ae0f4-8c12-4d51-af99-fedc1b5e6990"
      },
      "source": [
        "principal_df= pd.DataFrame(data=principal_components, columns = [\"PC1\", \"PC2\", \"PC3\", \"PC4\", \"PC5\", \"PC6\"])\r\n",
        "principal_df.head()"
      ],
      "execution_count": null,
      "outputs": [
        {
          "output_type": "execute_result",
          "data": {
            "text/html": [
              "<div>\n",
              "<style scoped>\n",
              "    .dataframe tbody tr th:only-of-type {\n",
              "        vertical-align: middle;\n",
              "    }\n",
              "\n",
              "    .dataframe tbody tr th {\n",
              "        vertical-align: top;\n",
              "    }\n",
              "\n",
              "    .dataframe thead th {\n",
              "        text-align: right;\n",
              "    }\n",
              "</style>\n",
              "<table border=\"1\" class=\"dataframe\">\n",
              "  <thead>\n",
              "    <tr style=\"text-align: right;\">\n",
              "      <th></th>\n",
              "      <th>PC1</th>\n",
              "      <th>PC2</th>\n",
              "      <th>PC3</th>\n",
              "      <th>PC4</th>\n",
              "      <th>PC5</th>\n",
              "      <th>PC6</th>\n",
              "    </tr>\n",
              "  </thead>\n",
              "  <tbody>\n",
              "    <tr>\n",
              "      <th>0</th>\n",
              "      <td>366.269321</td>\n",
              "      <td>7282.022645</td>\n",
              "      <td>-116.301937</td>\n",
              "      <td>-2.103814</td>\n",
              "      <td>4.755772</td>\n",
              "      <td>2.236397</td>\n",
              "    </tr>\n",
              "    <tr>\n",
              "      <th>1</th>\n",
              "      <td>-100993.442100</td>\n",
              "      <td>-410.852258</td>\n",
              "      <td>-121.870311</td>\n",
              "      <td>13.850313</td>\n",
              "      <td>-10.201511</td>\n",
              "      <td>5.570840</td>\n",
              "    </tr>\n",
              "    <tr>\n",
              "      <th>2</th>\n",
              "      <td>-52993.450793</td>\n",
              "      <td>-456.309896</td>\n",
              "      <td>-122.422723</td>\n",
              "      <td>22.983679</td>\n",
              "      <td>1.567645</td>\n",
              "      <td>-2.111413</td>\n",
              "    </tr>\n",
              "    <tr>\n",
              "      <th>3</th>\n",
              "      <td>64006.556976</td>\n",
              "      <td>-432.861316</td>\n",
              "      <td>-124.433456</td>\n",
              "      <td>15.038811</td>\n",
              "      <td>-12.465922</td>\n",
              "      <td>18.798351</td>\n",
              "    </tr>\n",
              "    <tr>\n",
              "      <th>4</th>\n",
              "      <td>-58993.464662</td>\n",
              "      <td>-519.053114</td>\n",
              "      <td>-122.514162</td>\n",
              "      <td>-17.210746</td>\n",
              "      <td>-17.656407</td>\n",
              "      <td>3.682687</td>\n",
              "    </tr>\n",
              "  </tbody>\n",
              "</table>\n",
              "</div>"
            ],
            "text/plain": [
              "             PC1          PC2         PC3        PC4        PC5        PC6\n",
              "0     366.269321  7282.022645 -116.301937  -2.103814   4.755772   2.236397\n",
              "1 -100993.442100  -410.852258 -121.870311  13.850313 -10.201511   5.570840\n",
              "2  -52993.450793  -456.309896 -122.422723  22.983679   1.567645  -2.111413\n",
              "3   64006.556976  -432.861316 -124.433456  15.038811 -12.465922  18.798351\n",
              "4  -58993.464662  -519.053114 -122.514162 -17.210746 -17.656407   3.682687"
            ]
          },
          "metadata": {
            "tags": []
          },
          "execution_count": 293
        }
      ]
    },
    {
      "cell_type": "code",
      "metadata": {
        "colab": {
          "base_uri": "https://localhost:8080/"
        },
        "id": "IdLHzLURvevu",
        "outputId": "7a227919-87b8-4eb0-a9b3-cf40ad504212"
      },
      "source": [
        "sum(pca.explained_variance_ratio_)"
      ],
      "execution_count": null,
      "outputs": [
        {
          "output_type": "execute_result",
          "data": {
            "text/plain": [
              "0.9999999997749863"
            ]
          },
          "metadata": {
            "tags": []
          },
          "execution_count": 294
        }
      ]
    },
    {
      "cell_type": "code",
      "metadata": {
        "id": "e62KR_EM306N"
      },
      "source": [
        "x2=dataf"
      ],
      "execution_count": null,
      "outputs": []
    },
    {
      "cell_type": "code",
      "metadata": {
        "id": "HJTi53CN3xex"
      },
      "source": [
        "from sklearn.model_selection import train_test_split\r\n",
        "x2_train,x2_test,y2_train,y2_test=train_test_split(x2,y2,test_size=0.2)"
      ],
      "execution_count": null,
      "outputs": []
    },
    {
      "cell_type": "markdown",
      "metadata": {
        "id": "HNU7KdRFwTXE"
      },
      "source": [
        "# SVM"
      ]
    },
    {
      "cell_type": "code",
      "metadata": {
        "colab": {
          "base_uri": "https://localhost:8080/"
        },
        "id": "xPtwI14Iv0lv",
        "outputId": "98933f66-1cb0-4477-b16c-18fa919b01ac"
      },
      "source": [
        "from sklearn.svm import SVC\r\n",
        "svc2 = SVC(kernel = \"linear\")\r\n",
        "svc2.fit(x2_train, y2_train)"
      ],
      "execution_count": null,
      "outputs": [
        {
          "output_type": "execute_result",
          "data": {
            "text/plain": [
              "SVC(C=1.0, break_ties=False, cache_size=200, class_weight=None, coef0=0.0,\n",
              "    decision_function_shape='ovr', degree=3, gamma='scale', kernel='linear',\n",
              "    max_iter=-1, probability=False, random_state=None, shrinking=True,\n",
              "    tol=0.001, verbose=False)"
            ]
          },
          "metadata": {
            "tags": []
          },
          "execution_count": 297
        }
      ]
    },
    {
      "cell_type": "code",
      "metadata": {
        "colab": {
          "base_uri": "https://localhost:8080/"
        },
        "id": "csfE3Dpl4tsd",
        "outputId": "09090884-b833-4aa0-d1fd-4164adbf2b41"
      },
      "source": [
        "print(\"Training accuracy of the model is {:.2f}\".format(svc2.score(x2_train, y2_train)))\r\n",
        "print(\"Testing accuracy of the model is {:.2f}\".format(svc2.score(x2_test, y2_test)))"
      ],
      "execution_count": null,
      "outputs": [
        {
          "output_type": "stream",
          "text": [
            "Training accuracy of the model is 0.82\n",
            "Testing accuracy of the model is 0.88\n"
          ],
          "name": "stdout"
        }
      ]
    },
    {
      "cell_type": "code",
      "metadata": {
        "colab": {
          "base_uri": "https://localhost:8080/"
        },
        "id": "1qq-Kl8T47TH",
        "outputId": "254b3da7-23fd-4169-b27c-cd2a1aa67410"
      },
      "source": [
        "predictionsSVC2 = svc2.predict(x2_test)\r\n",
        "print(predictionsSVC2)\r\n",
        "scoreSVC2= accuracy_score(y2_test, predictionsSVC2)\r\n",
        "print (scoreSVC2)"
      ],
      "execution_count": null,
      "outputs": [
        {
          "output_type": "stream",
          "text": [
            "[0 0 0 0 0 0 0 0 0 0 0 0 0 0 0 0 0 0 0 0 0 0 0 0 1 0 0 1 1 0 0 0 0 1 0 0 0\n",
            " 0 0 0 0 0 0 1 0 0 0 1 0 0 0 0 0 0 0 0 0 0 0]\n",
            "0.8813559322033898\n"
          ],
          "name": "stdout"
        }
      ]
    },
    {
      "cell_type": "code",
      "metadata": {
        "colab": {
          "base_uri": "https://localhost:8080/"
        },
        "id": "u1CM-AyP4_je",
        "outputId": "23a3788b-8671-4de5-dc5f-11785153ed6c"
      },
      "source": [
        "from sklearn.metrics import confusion_matrix\r\n",
        "matSVC2=confusion_matrix(predictionsSVC2, y2_test)\r\n",
        "print(matSVC2)"
      ],
      "execution_count": null,
      "outputs": [
        {
          "output_type": "stream",
          "text": [
            "[[46  7]\n",
            " [ 0  6]]\n"
          ],
          "name": "stdout"
        }
      ]
    },
    {
      "cell_type": "code",
      "metadata": {
        "colab": {
          "base_uri": "https://localhost:8080/",
          "height": 284
        },
        "id": "hZA0nQHe5KEZ",
        "outputId": "889d1822-55ad-4f33-924e-c211a94a98ae"
      },
      "source": [
        "from seaborn import heatmap\r\n",
        "heatmap(matSVC2, cmap = \"Pastel1_r\", xticklabels=['0' ,'1'], yticklabels=['0' ,'1'], annot=True)"
      ],
      "execution_count": null,
      "outputs": [
        {
          "output_type": "execute_result",
          "data": {
            "text/plain": [
              "<matplotlib.axes._subplots.AxesSubplot at 0x7f4be6560c88>"
            ]
          },
          "metadata": {
            "tags": []
          },
          "execution_count": 301
        },
        {
          "output_type": "display_data",
          "data": {
            "image/png": "[encoded data removed]",
            "text/plain": [
              "<Figure size 432x288 with 2 Axes>"
            ]
          },
          "metadata": {
            "tags": [],
            "needs_background": "light"
          }
        }
      ]
    },
    {
      "cell_type": "markdown",
      "metadata": {
        "id": "SxjDTjrO5t28"
      },
      "source": [
        "# MLP"
      ]
    },
    {
      "cell_type": "code",
      "metadata": {
        "id": "nGbPr_FF5X1v"
      },
      "source": [
        "from sklearn.neural_network import MLPClassifier\r\n",
        "nnc2= MLPClassifier(hidden_layer_sizes=(8), activation = \"relu\", max_iter=1000000)"
      ],
      "execution_count": null,
      "outputs": []
    },
    {
      "cell_type": "code",
      "metadata": {
        "colab": {
          "base_uri": "https://localhost:8080/"
        },
        "id": "oHM1JgN253n7",
        "outputId": "938f338a-8553-4ecf-b58e-518dfa21e35d"
      },
      "source": [
        "nnc2.fit(x2_train, y2_train)"
      ],
      "execution_count": null,
      "outputs": [
        {
          "output_type": "execute_result",
          "data": {
            "text/plain": [
              "MLPClassifier(activation='relu', alpha=0.0001, batch_size='auto', beta_1=0.9,\n",
              "              beta_2=0.999, early_stopping=False, epsilon=1e-08,\n",
              "              hidden_layer_sizes=8, learning_rate='constant',\n",
              "              learning_rate_init=0.001, max_fun=15000, max_iter=1000000,\n",
              "              momentum=0.9, n_iter_no_change=10, nesterovs_momentum=True,\n",
              "              power_t=0.5, random_state=None, shuffle=True, solver='adam',\n",
              "              tol=0.0001, validation_fraction=0.1, verbose=False,\n",
              "              warm_start=False)"
            ]
          },
          "metadata": {
            "tags": []
          },
          "execution_count": 303
        }
      ]
    },
    {
      "cell_type": "code",
      "metadata": {
        "colab": {
          "base_uri": "https://localhost:8080/"
        },
        "id": "6I3-YAbP5-fe",
        "outputId": "69576989-7961-4510-f546-16c880b74204"
      },
      "source": [
        "print(\"Training accuracy of the model is {:.2f}\".format(nnc2.score(x2_train, y2_train)))\r\n",
        "print(\"Testing accuracy of the model is {:.2f}\".format(nnc2.score(x2_test, y2_test)))"
      ],
      "execution_count": null,
      "outputs": [
        {
          "output_type": "stream",
          "text": [
            "Training accuracy of the model is 0.74\n",
            "Testing accuracy of the model is 0.83\n"
          ],
          "name": "stdout"
        }
      ]
    },
    {
      "cell_type": "code",
      "metadata": {
        "colab": {
          "base_uri": "https://localhost:8080/"
        },
        "id": "M1rvSTsu7g5m",
        "outputId": "dc77003d-8935-478d-a39e-5adad89b0bf2"
      },
      "source": [
        "predictionsNNC2 = nnc2.predict(x2_test)\r\n",
        "print(predictionsNNC2)\r\n",
        "\r\n",
        "scoreNNC2= accuracy_score(y2_test, predictionsNNC2)\r\n",
        "print (scoreNNC2)"
      ],
      "execution_count": null,
      "outputs": [
        {
          "output_type": "stream",
          "text": [
            "[0 0 0 0 1 0 0 0 0 0 1 0 0 1 0 0 0 0 0 0 0 0 0 0 1 0 0 1 0 0 0 0 0 0 0 0 0\n",
            " 0 0 0 0 0 0 1 0 0 0 0 0 0 0 0 0 0 0 0 1 0 0]\n",
            "0.8305084745762712\n"
          ],
          "name": "stdout"
        }
      ]
    },
    {
      "cell_type": "code",
      "metadata": {
        "colab": {
          "base_uri": "https://localhost:8080/"
        },
        "id": "5CdyKLz_6NRY",
        "outputId": "e402bdec-b7a4-4821-fa95-6fb6383af2c3"
      },
      "source": [
        "from sklearn.metrics import confusion_matrix\r\n",
        "matNNC2=confusion_matrix(predictionsNNC2, y2_test)\r\n",
        "print(matNNC2)"
      ],
      "execution_count": null,
      "outputs": [
        {
          "output_type": "stream",
          "text": [
            "[[44  8]\n",
            " [ 2  5]]\n"
          ],
          "name": "stdout"
        }
      ]
    },
    {
      "cell_type": "code",
      "metadata": {
        "colab": {
          "base_uri": "https://localhost:8080/",
          "height": 284
        },
        "id": "05Wi3F028vH0",
        "outputId": "7cab8acd-ffa7-43cd-c039-6f73f7a114f4"
      },
      "source": [
        "from seaborn import heatmap\r\n",
        "heatmap(matNNC2, cmap = \"Pastel1_r\", xticklabels=['0' ,'1'], yticklabels=['0' ,'1'], annot=True)"
      ],
      "execution_count": null,
      "outputs": [
        {
          "output_type": "execute_result",
          "data": {
            "text/plain": [
              "<matplotlib.axes._subplots.AxesSubplot at 0x7f4be6506668>"
            ]
          },
          "metadata": {
            "tags": []
          },
          "execution_count": 307
        },
        {
          "output_type": "display_data",
          "data": {
            "image/png": "[encoded data removed]",
            "text/plain": [
              "<Figure size 432x288 with 2 Axes>"
            ]
          },
          "metadata": {
            "tags": [],
            "needs_background": "light"
          }
        }
      ]
    },
    {
      "cell_type": "markdown",
      "metadata": {
        "id": "BBWz9pbT87Y5"
      },
      "source": [
        "# RFC"
      ]
    },
    {
      "cell_type": "code",
      "metadata": {
        "colab": {
          "base_uri": "https://localhost:8080/"
        },
        "id": "PLKU5Zd-84AE",
        "outputId": "71abec48-0b5b-48c1-8080-15b8f669f61d"
      },
      "source": [
        "from sklearn.ensemble import RandomForestClassifier\r\n",
        "rfc2 = RandomForestClassifier(n_estimators = 50)\r\n",
        "rfc2.fit(x2_train, y2_train)"
      ],
      "execution_count": null,
      "outputs": [
        {
          "output_type": "execute_result",
          "data": {
            "text/plain": [
              "RandomForestClassifier(bootstrap=True, ccp_alpha=0.0, class_weight=None,\n",
              "                       criterion='gini', max_depth=None, max_features='auto',\n",
              "                       max_leaf_nodes=None, max_samples=None,\n",
              "                       min_impurity_decrease=0.0, min_impurity_split=None,\n",
              "                       min_samples_leaf=1, min_samples_split=2,\n",
              "                       min_weight_fraction_leaf=0.0, n_estimators=50,\n",
              "                       n_jobs=None, oob_score=False, random_state=None,\n",
              "                       verbose=0, warm_start=False)"
            ]
          },
          "metadata": {
            "tags": []
          },
          "execution_count": 309
        }
      ]
    },
    {
      "cell_type": "code",
      "metadata": {
        "colab": {
          "base_uri": "https://localhost:8080/"
        },
        "id": "FiMDHRfa9YW8",
        "outputId": "80dd1737-88ef-42b9-8ab8-d6b87ea448ce"
      },
      "source": [
        "print (\"The training accuracy of the model is {:.2f}\".format(rfc2.score(x2_train, y2_train)))\r\n",
        "print ( \"The testing accuracy of the model is {:.2f}\".format(rfc2.score(x2_test,y2_test)))"
      ],
      "execution_count": null,
      "outputs": [
        {
          "output_type": "stream",
          "text": [
            "The training accuracy of the model is 1.00\n",
            "The testing accuracy of the model is 0.86\n"
          ],
          "name": "stdout"
        }
      ]
    },
    {
      "cell_type": "code",
      "metadata": {
        "colab": {
          "base_uri": "https://localhost:8080/"
        },
        "id": "ATM9aZ-T9mIn",
        "outputId": "3addaa12-047d-4e90-b1f8-5b25b241e904"
      },
      "source": [
        "predictionsRFC2 = rfc2.predict(x2_test)\r\n",
        "scoreRFC2= accuracy_score(y2_test, predictionsRFC2)\r\n",
        "print (scoreRFC2)\r\n"
      ],
      "execution_count": null,
      "outputs": [
        {
          "output_type": "stream",
          "text": [
            "0.864406779661017\n"
          ],
          "name": "stdout"
        }
      ]
    },
    {
      "cell_type": "code",
      "metadata": {
        "colab": {
          "base_uri": "https://localhost:8080/"
        },
        "id": "gtuyrSNe9yaq",
        "outputId": "5ab2bc68-53b8-4bb3-f820-c5e1364f93e4"
      },
      "source": [
        "from sklearn.metrics import confusion_matrix \r\n",
        "matRFC2= confusion_matrix(predictionsRFC2, y2_test)\r\n",
        "print(matRFC2)"
      ],
      "execution_count": null,
      "outputs": [
        {
          "output_type": "stream",
          "text": [
            "[[43  5]\n",
            " [ 3  8]]\n"
          ],
          "name": "stdout"
        }
      ]
    },
    {
      "cell_type": "code",
      "metadata": {
        "colab": {
          "base_uri": "https://localhost:8080/",
          "height": 284
        },
        "id": "1P8c7BIG96Wp",
        "outputId": "26ae26a0-b506-4b8f-e4e8-bc2ab09d4d19"
      },
      "source": [
        "from seaborn import heatmap\r\n",
        "heatmap(matRFC2 , cmap=\"Pastel1_r\", xticklabels=['0' ,'1'], yticklabels=['0' ,'1'], annot=True)"
      ],
      "execution_count": null,
      "outputs": [
        {
          "output_type": "execute_result",
          "data": {
            "text/plain": [
              "<matplotlib.axes._subplots.AxesSubplot at 0x7f4be6879ac8>"
            ]
          },
          "metadata": {
            "tags": []
          },
          "execution_count": 313
        },
        {
          "output_type": "display_data",
          "data": {
            "image/png": "[encoded data removed]",
            "text/plain": [
              "<Figure size 432x288 with 2 Axes>"
            ]
          },
          "metadata": {
            "tags": [],
            "needs_background": "light"
          }
        }
      ]
    },
    {
      "cell_type": "code",
      "metadata": {
        "colab": {
          "base_uri": "https://localhost:8080/",
          "height": 809
        },
        "id": "fAVvzSx9-UNo",
        "outputId": "d162dfa0-321b-42a5-8743-11d7cbdc552f"
      },
      "source": [
        "plt.bar(['Pre-PCA', 'Post-PCA'],[scoreSVC, scoreSVC2])\r\n",
        "plt.title('Comparing Accuracy of Support Vector Machine ')\r\n",
        "plt.show()\r\n",
        "\r\n",
        "plt.bar(['Pre-PCA', 'Post-PCA'],[scoreNNC, scoreNNC2])\r\n",
        "plt.title('Comparing Accuracy of Neural Network ')\r\n",
        "plt.show()\r\n",
        "\r\n",
        "plt.bar(['Pre-PCA', 'Post-PCA'],[scoreRFC, scoreRFC2])\r\n",
        "plt.title('Comparing Accuracy of Support Random Forest ')\r\n",
        "plt.show()\r\n",
        "\r\n"
      ],
      "execution_count": null,
      "outputs": [
        {
          "output_type": "display_data",
          "data": {
            "image/png": "[encoded data removed]",
            "text/plain": [
              "<Figure size 432x288 with 1 Axes>"
            ]
          },
          "metadata": {
            "tags": [],
            "needs_background": "light"
          }
        },
        {
          "output_type": "display_data",
          "data": {
            "image/png": "[encoded data removed]",
            "text/plain": [
              "<Figure size 432x288 with 1 Axes>"
            ]
          },
          "metadata": {
            "tags": [],
            "needs_background": "light"
          }
        },
        {
          "output_type": "display_data",
          "data": {
            "image/png": "[encoded data removed]",
            "text/plain": [
              "<Figure size 432x288 with 1 Axes>"
            ]
          },
          "metadata": {
            "tags": [],
            "needs_background": "light"
          }
        }
      ]
    }
  ]
}