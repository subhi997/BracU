{
 "cells": [
  {
   "cell_type": "code",
   "execution_count": 1,
   "metadata": {},
   "outputs": [],
   "source": [
    "#importing libraries \n",
    "import numpy as np\n",
    "import pandas as pd\n",
    "import sklearn\n",
    "from sklearn.metrics import accuracy_score\n",
    "import matplotlib.pyplot as plt\n",
    "%matplotlib inline "
   ]
  },
  {
   "cell_type": "code",
   "execution_count": 2,
   "metadata": {},
   "outputs": [
    {
     "data": {
      "text/html": [
       "<div>\n",
       "<style scoped>\n",
       "    .dataframe tbody tr th:only-of-type {\n",
       "        vertical-align: middle;\n",
       "    }\n",
       "\n",
       "    .dataframe tbody tr th {\n",
       "        vertical-align: top;\n",
       "    }\n",
       "\n",
       "    .dataframe thead th {\n",
       "        text-align: right;\n",
       "    }\n",
       "</style>\n",
       "<table border=\"1\" class=\"dataframe\">\n",
       "  <thead>\n",
       "    <tr style=\"text-align: right;\">\n",
       "      <th></th>\n",
       "      <th>Unnamed: 0</th>\n",
       "      <th>age</th>\n",
       "      <th>anaemia</th>\n",
       "      <th>creatinine_phosphokinase</th>\n",
       "      <th>diabetes</th>\n",
       "      <th>ejection_fraction</th>\n",
       "      <th>high_blood_pressure</th>\n",
       "      <th>platelets</th>\n",
       "      <th>serum_creatinine</th>\n",
       "      <th>serum_sodium</th>\n",
       "      <th>sex</th>\n",
       "      <th>smoking</th>\n",
       "      <th>time</th>\n",
       "      <th>DEATH_EVENT</th>\n",
       "    </tr>\n",
       "  </thead>\n",
       "  <tbody>\n",
       "    <tr>\n",
       "      <th>0</th>\n",
       "      <td>0</td>\n",
       "      <td>75.0</td>\n",
       "      <td>0</td>\n",
       "      <td>582</td>\n",
       "      <td>0</td>\n",
       "      <td>20</td>\n",
       "      <td>1</td>\n",
       "      <td>265000.00</td>\n",
       "      <td>1.9</td>\n",
       "      <td>NaN</td>\n",
       "      <td>Male</td>\n",
       "      <td>No</td>\n",
       "      <td>4.0</td>\n",
       "      <td>1</td>\n",
       "    </tr>\n",
       "    <tr>\n",
       "      <th>1</th>\n",
       "      <td>1</td>\n",
       "      <td>55.0</td>\n",
       "      <td>0</td>\n",
       "      <td>7861</td>\n",
       "      <td>0</td>\n",
       "      <td>38</td>\n",
       "      <td>0</td>\n",
       "      <td>263358.03</td>\n",
       "      <td>1.1</td>\n",
       "      <td>136.0</td>\n",
       "      <td>Male</td>\n",
       "      <td>No</td>\n",
       "      <td>6.0</td>\n",
       "      <td>1</td>\n",
       "    </tr>\n",
       "    <tr>\n",
       "      <th>2</th>\n",
       "      <td>2</td>\n",
       "      <td>65.0</td>\n",
       "      <td>0</td>\n",
       "      <td>146</td>\n",
       "      <td>0</td>\n",
       "      <td>20</td>\n",
       "      <td>0</td>\n",
       "      <td>162000.00</td>\n",
       "      <td>1.3</td>\n",
       "      <td>129.0</td>\n",
       "      <td>Male</td>\n",
       "      <td>Yes</td>\n",
       "      <td>7.0</td>\n",
       "      <td>1</td>\n",
       "    </tr>\n",
       "    <tr>\n",
       "      <th>3</th>\n",
       "      <td>3</td>\n",
       "      <td>50.0</td>\n",
       "      <td>1</td>\n",
       "      <td>111</td>\n",
       "      <td>0</td>\n",
       "      <td>20</td>\n",
       "      <td>0</td>\n",
       "      <td>210000.00</td>\n",
       "      <td>1.9</td>\n",
       "      <td>137.0</td>\n",
       "      <td>Male</td>\n",
       "      <td>No</td>\n",
       "      <td>7.0</td>\n",
       "      <td>1</td>\n",
       "    </tr>\n",
       "    <tr>\n",
       "      <th>4</th>\n",
       "      <td>4</td>\n",
       "      <td>65.0</td>\n",
       "      <td>1</td>\n",
       "      <td>160</td>\n",
       "      <td>1</td>\n",
       "      <td>20</td>\n",
       "      <td>0</td>\n",
       "      <td>327000.00</td>\n",
       "      <td>2.7</td>\n",
       "      <td>116.0</td>\n",
       "      <td>Female</td>\n",
       "      <td>No</td>\n",
       "      <td>8.0</td>\n",
       "      <td>1</td>\n",
       "    </tr>\n",
       "  </tbody>\n",
       "</table>\n",
       "</div>"
      ],
      "text/plain": [
       "   Unnamed: 0   age  anaemia  creatinine_phosphokinase  diabetes  \\\n",
       "0           0  75.0        0                       582         0   \n",
       "1           1  55.0        0                      7861         0   \n",
       "2           2  65.0        0                       146         0   \n",
       "3           3  50.0        1                       111         0   \n",
       "4           4  65.0        1                       160         1   \n",
       "\n",
       "   ejection_fraction  high_blood_pressure  platelets  serum_creatinine  \\\n",
       "0                 20                    1  265000.00               1.9   \n",
       "1                 38                    0  263358.03               1.1   \n",
       "2                 20                    0  162000.00               1.3   \n",
       "3                 20                    0  210000.00               1.9   \n",
       "4                 20                    0  327000.00               2.7   \n",
       "\n",
       "   serum_sodium     sex smoking  time  DEATH_EVENT  \n",
       "0           NaN    Male      No   4.0            1  \n",
       "1         136.0    Male      No   6.0            1  \n",
       "2         129.0    Male     Yes   7.0            1  \n",
       "3         137.0    Male      No   7.0            1  \n",
       "4         116.0  Female      No   8.0            1  "
      ]
     },
     "execution_count": 2,
     "metadata": {},
     "output_type": "execute_result"
    }
   ],
   "source": [
    "heart_dataset= pd.read_csv('/Users/IMADN/Desktop/ML3/heart failur classification dataset.csv')\n",
    "heart_dataset.head()"
   ]
  },
  {
   "cell_type": "code",
   "execution_count": 3,
   "metadata": {},
   "outputs": [
    {
     "name": "stdout",
     "output_type": "stream",
     "text": [
      "<class 'pandas.core.frame.DataFrame'>\n",
      "RangeIndex: 299 entries, 0 to 298\n",
      "Data columns (total 14 columns):\n",
      " #   Column                    Non-Null Count  Dtype  \n",
      "---  ------                    --------------  -----  \n",
      " 0   Unnamed: 0                299 non-null    int64  \n",
      " 1   age                       299 non-null    float64\n",
      " 2   anaemia                   299 non-null    int64  \n",
      " 3   creatinine_phosphokinase  299 non-null    int64  \n",
      " 4   diabetes                  299 non-null    int64  \n",
      " 5   ejection_fraction         299 non-null    int64  \n",
      " 6   high_blood_pressure       299 non-null    int64  \n",
      " 7   platelets                 299 non-null    float64\n",
      " 8   serum_creatinine          299 non-null    float64\n",
      " 9   serum_sodium              293 non-null    float64\n",
      " 10  sex                       299 non-null    object \n",
      " 11  smoking                   299 non-null    object \n",
      " 12  time                      292 non-null    float64\n",
      " 13  DEATH_EVENT               299 non-null    int64  \n",
      "dtypes: float64(5), int64(7), object(2)\n",
      "memory usage: 32.8+ KB\n"
     ]
    }
   ],
   "source": [
    "heart_dataset.info()"
   ]
  },
  {
   "cell_type": "code",
   "execution_count": 4,
   "metadata": {},
   "outputs": [
    {
     "data": {
      "text/plain": [
       "Unnamed: 0                  0\n",
       "age                         0\n",
       "anaemia                     0\n",
       "creatinine_phosphokinase    0\n",
       "diabetes                    0\n",
       "ejection_fraction           0\n",
       "high_blood_pressure         0\n",
       "platelets                   0\n",
       "serum_creatinine            0\n",
       "serum_sodium                6\n",
       "sex                         0\n",
       "smoking                     0\n",
       "time                        7\n",
       "DEATH_EVENT                 0\n",
       "dtype: int64"
      ]
     },
     "execution_count": 4,
     "metadata": {},
     "output_type": "execute_result"
    }
   ],
   "source": [
    "heart_dataset.isnull().sum()"
   ]
  },
  {
   "cell_type": "code",
   "execution_count": 5,
   "metadata": {
    "scrolled": true
   },
   "outputs": [
    {
     "data": {
      "text/plain": [
       "Unnamed: 0                  0\n",
       "age                         0\n",
       "anaemia                     0\n",
       "creatinine_phosphokinase    0\n",
       "diabetes                    0\n",
       "ejection_fraction           0\n",
       "high_blood_pressure         0\n",
       "platelets                   0\n",
       "serum_creatinine            0\n",
       "serum_sodium                0\n",
       "sex                         0\n",
       "smoking                     0\n",
       "time                        0\n",
       "DEATH_EVENT                 0\n",
       "dtype: int64"
      ]
     },
     "execution_count": 5,
     "metadata": {},
     "output_type": "execute_result"
    }
   ],
   "source": [
    "#removing null rows\n",
    "heart_dataset = heart_dataset.dropna(how = 'any', axis = 0)\n",
    "heart_dataset.isnull().sum()"
   ]
  },
  {
   "cell_type": "code",
   "execution_count": 6,
   "metadata": {},
   "outputs": [
    {
     "data": {
      "text/html": [
       "<div>\n",
       "<style scoped>\n",
       "    .dataframe tbody tr th:only-of-type {\n",
       "        vertical-align: middle;\n",
       "    }\n",
       "\n",
       "    .dataframe tbody tr th {\n",
       "        vertical-align: top;\n",
       "    }\n",
       "\n",
       "    .dataframe thead th {\n",
       "        text-align: right;\n",
       "    }\n",
       "</style>\n",
       "<table border=\"1\" class=\"dataframe\">\n",
       "  <thead>\n",
       "    <tr style=\"text-align: right;\">\n",
       "      <th></th>\n",
       "      <th>age</th>\n",
       "      <th>anaemia</th>\n",
       "      <th>creatinine_phosphokinase</th>\n",
       "      <th>diabetes</th>\n",
       "      <th>ejection_fraction</th>\n",
       "      <th>high_blood_pressure</th>\n",
       "      <th>platelets</th>\n",
       "      <th>serum_creatinine</th>\n",
       "      <th>serum_sodium</th>\n",
       "      <th>sex</th>\n",
       "      <th>smoking</th>\n",
       "      <th>time</th>\n",
       "      <th>DEATH_EVENT</th>\n",
       "    </tr>\n",
       "  </thead>\n",
       "  <tbody>\n",
       "    <tr>\n",
       "      <th>1</th>\n",
       "      <td>55.0</td>\n",
       "      <td>0</td>\n",
       "      <td>7861</td>\n",
       "      <td>0</td>\n",
       "      <td>38</td>\n",
       "      <td>0</td>\n",
       "      <td>263358.03</td>\n",
       "      <td>1.1</td>\n",
       "      <td>136.0</td>\n",
       "      <td>Male</td>\n",
       "      <td>No</td>\n",
       "      <td>6.0</td>\n",
       "      <td>1</td>\n",
       "    </tr>\n",
       "    <tr>\n",
       "      <th>2</th>\n",
       "      <td>65.0</td>\n",
       "      <td>0</td>\n",
       "      <td>146</td>\n",
       "      <td>0</td>\n",
       "      <td>20</td>\n",
       "      <td>0</td>\n",
       "      <td>162000.00</td>\n",
       "      <td>1.3</td>\n",
       "      <td>129.0</td>\n",
       "      <td>Male</td>\n",
       "      <td>Yes</td>\n",
       "      <td>7.0</td>\n",
       "      <td>1</td>\n",
       "    </tr>\n",
       "    <tr>\n",
       "      <th>3</th>\n",
       "      <td>50.0</td>\n",
       "      <td>1</td>\n",
       "      <td>111</td>\n",
       "      <td>0</td>\n",
       "      <td>20</td>\n",
       "      <td>0</td>\n",
       "      <td>210000.00</td>\n",
       "      <td>1.9</td>\n",
       "      <td>137.0</td>\n",
       "      <td>Male</td>\n",
       "      <td>No</td>\n",
       "      <td>7.0</td>\n",
       "      <td>1</td>\n",
       "    </tr>\n",
       "    <tr>\n",
       "      <th>4</th>\n",
       "      <td>65.0</td>\n",
       "      <td>1</td>\n",
       "      <td>160</td>\n",
       "      <td>1</td>\n",
       "      <td>20</td>\n",
       "      <td>0</td>\n",
       "      <td>327000.00</td>\n",
       "      <td>2.7</td>\n",
       "      <td>116.0</td>\n",
       "      <td>Female</td>\n",
       "      <td>No</td>\n",
       "      <td>8.0</td>\n",
       "      <td>1</td>\n",
       "    </tr>\n",
       "    <tr>\n",
       "      <th>5</th>\n",
       "      <td>90.0</td>\n",
       "      <td>1</td>\n",
       "      <td>47</td>\n",
       "      <td>0</td>\n",
       "      <td>40</td>\n",
       "      <td>1</td>\n",
       "      <td>204000.00</td>\n",
       "      <td>2.1</td>\n",
       "      <td>132.0</td>\n",
       "      <td>Male</td>\n",
       "      <td>Yes</td>\n",
       "      <td>8.0</td>\n",
       "      <td>1</td>\n",
       "    </tr>\n",
       "    <tr>\n",
       "      <th>...</th>\n",
       "      <td>...</td>\n",
       "      <td>...</td>\n",
       "      <td>...</td>\n",
       "      <td>...</td>\n",
       "      <td>...</td>\n",
       "      <td>...</td>\n",
       "      <td>...</td>\n",
       "      <td>...</td>\n",
       "      <td>...</td>\n",
       "      <td>...</td>\n",
       "      <td>...</td>\n",
       "      <td>...</td>\n",
       "      <td>...</td>\n",
       "    </tr>\n",
       "    <tr>\n",
       "      <th>292</th>\n",
       "      <td>52.0</td>\n",
       "      <td>0</td>\n",
       "      <td>190</td>\n",
       "      <td>1</td>\n",
       "      <td>38</td>\n",
       "      <td>0</td>\n",
       "      <td>382000.00</td>\n",
       "      <td>1.0</td>\n",
       "      <td>140.0</td>\n",
       "      <td>Male</td>\n",
       "      <td>Yes</td>\n",
       "      <td>258.0</td>\n",
       "      <td>0</td>\n",
       "    </tr>\n",
       "    <tr>\n",
       "      <th>293</th>\n",
       "      <td>63.0</td>\n",
       "      <td>1</td>\n",
       "      <td>103</td>\n",
       "      <td>1</td>\n",
       "      <td>35</td>\n",
       "      <td>0</td>\n",
       "      <td>179000.00</td>\n",
       "      <td>0.9</td>\n",
       "      <td>136.0</td>\n",
       "      <td>Male</td>\n",
       "      <td>Yes</td>\n",
       "      <td>270.0</td>\n",
       "      <td>0</td>\n",
       "    </tr>\n",
       "    <tr>\n",
       "      <th>294</th>\n",
       "      <td>62.0</td>\n",
       "      <td>0</td>\n",
       "      <td>61</td>\n",
       "      <td>1</td>\n",
       "      <td>38</td>\n",
       "      <td>1</td>\n",
       "      <td>155000.00</td>\n",
       "      <td>1.1</td>\n",
       "      <td>143.0</td>\n",
       "      <td>Male</td>\n",
       "      <td>Yes</td>\n",
       "      <td>270.0</td>\n",
       "      <td>0</td>\n",
       "    </tr>\n",
       "    <tr>\n",
       "      <th>296</th>\n",
       "      <td>45.0</td>\n",
       "      <td>0</td>\n",
       "      <td>2060</td>\n",
       "      <td>1</td>\n",
       "      <td>60</td>\n",
       "      <td>0</td>\n",
       "      <td>742000.00</td>\n",
       "      <td>0.8</td>\n",
       "      <td>138.0</td>\n",
       "      <td>Female</td>\n",
       "      <td>No</td>\n",
       "      <td>278.0</td>\n",
       "      <td>0</td>\n",
       "    </tr>\n",
       "    <tr>\n",
       "      <th>297</th>\n",
       "      <td>45.0</td>\n",
       "      <td>0</td>\n",
       "      <td>2413</td>\n",
       "      <td>0</td>\n",
       "      <td>38</td>\n",
       "      <td>0</td>\n",
       "      <td>140000.00</td>\n",
       "      <td>1.4</td>\n",
       "      <td>140.0</td>\n",
       "      <td>Male</td>\n",
       "      <td>Yes</td>\n",
       "      <td>280.0</td>\n",
       "      <td>0</td>\n",
       "    </tr>\n",
       "  </tbody>\n",
       "</table>\n",
       "<p>286 rows × 13 columns</p>\n",
       "</div>"
      ],
      "text/plain": [
       "      age  anaemia  creatinine_phosphokinase  diabetes  ejection_fraction  \\\n",
       "1    55.0        0                      7861         0                 38   \n",
       "2    65.0        0                       146         0                 20   \n",
       "3    50.0        1                       111         0                 20   \n",
       "4    65.0        1                       160         1                 20   \n",
       "5    90.0        1                        47         0                 40   \n",
       "..    ...      ...                       ...       ...                ...   \n",
       "292  52.0        0                       190         1                 38   \n",
       "293  63.0        1                       103         1                 35   \n",
       "294  62.0        0                        61         1                 38   \n",
       "296  45.0        0                      2060         1                 60   \n",
       "297  45.0        0                      2413         0                 38   \n",
       "\n",
       "     high_blood_pressure  platelets  serum_creatinine  serum_sodium     sex  \\\n",
       "1                      0  263358.03               1.1         136.0    Male   \n",
       "2                      0  162000.00               1.3         129.0    Male   \n",
       "3                      0  210000.00               1.9         137.0    Male   \n",
       "4                      0  327000.00               2.7         116.0  Female   \n",
       "5                      1  204000.00               2.1         132.0    Male   \n",
       "..                   ...        ...               ...           ...     ...   \n",
       "292                    0  382000.00               1.0         140.0    Male   \n",
       "293                    0  179000.00               0.9         136.0    Male   \n",
       "294                    1  155000.00               1.1         143.0    Male   \n",
       "296                    0  742000.00               0.8         138.0  Female   \n",
       "297                    0  140000.00               1.4         140.0    Male   \n",
       "\n",
       "    smoking   time  DEATH_EVENT  \n",
       "1        No    6.0            1  \n",
       "2       Yes    7.0            1  \n",
       "3        No    7.0            1  \n",
       "4        No    8.0            1  \n",
       "5       Yes    8.0            1  \n",
       "..      ...    ...          ...  \n",
       "292     Yes  258.0            0  \n",
       "293     Yes  270.0            0  \n",
       "294     Yes  270.0            0  \n",
       "296      No  278.0            0  \n",
       "297     Yes  280.0            0  \n",
       "\n",
       "[286 rows x 13 columns]"
      ]
     },
     "execution_count": 6,
     "metadata": {},
     "output_type": "execute_result"
    }
   ],
   "source": [
    "#removing unnamed column\n",
    "heart_dataset.drop(\"Unnamed: 0\",axis=1,inplace=True)\n",
    "heart_dataset"
   ]
  },
  {
   "cell_type": "code",
   "execution_count": 7,
   "metadata": {},
   "outputs": [
    {
     "data": {
      "text/html": [
       "<div>\n",
       "<style scoped>\n",
       "    .dataframe tbody tr th:only-of-type {\n",
       "        vertical-align: middle;\n",
       "    }\n",
       "\n",
       "    .dataframe tbody tr th {\n",
       "        vertical-align: top;\n",
       "    }\n",
       "\n",
       "    .dataframe thead th {\n",
       "        text-align: right;\n",
       "    }\n",
       "</style>\n",
       "<table border=\"1\" class=\"dataframe\">\n",
       "  <thead>\n",
       "    <tr style=\"text-align: right;\">\n",
       "      <th></th>\n",
       "      <th>age</th>\n",
       "      <th>anaemia</th>\n",
       "      <th>creatinine_phosphokinase</th>\n",
       "      <th>diabetes</th>\n",
       "      <th>ejection_fraction</th>\n",
       "      <th>high_blood_pressure</th>\n",
       "      <th>platelets</th>\n",
       "      <th>serum_creatinine</th>\n",
       "      <th>serum_sodium</th>\n",
       "      <th>sex</th>\n",
       "      <th>smoking</th>\n",
       "      <th>time</th>\n",
       "      <th>DEATH_EVENT</th>\n",
       "    </tr>\n",
       "  </thead>\n",
       "  <tbody>\n",
       "    <tr>\n",
       "      <th>1</th>\n",
       "      <td>55.0</td>\n",
       "      <td>0</td>\n",
       "      <td>7861</td>\n",
       "      <td>0</td>\n",
       "      <td>38</td>\n",
       "      <td>0</td>\n",
       "      <td>263358.03</td>\n",
       "      <td>1.1</td>\n",
       "      <td>136.0</td>\n",
       "      <td>1</td>\n",
       "      <td>0</td>\n",
       "      <td>6.0</td>\n",
       "      <td>1</td>\n",
       "    </tr>\n",
       "    <tr>\n",
       "      <th>2</th>\n",
       "      <td>65.0</td>\n",
       "      <td>0</td>\n",
       "      <td>146</td>\n",
       "      <td>0</td>\n",
       "      <td>20</td>\n",
       "      <td>0</td>\n",
       "      <td>162000.00</td>\n",
       "      <td>1.3</td>\n",
       "      <td>129.0</td>\n",
       "      <td>1</td>\n",
       "      <td>1</td>\n",
       "      <td>7.0</td>\n",
       "      <td>1</td>\n",
       "    </tr>\n",
       "    <tr>\n",
       "      <th>3</th>\n",
       "      <td>50.0</td>\n",
       "      <td>1</td>\n",
       "      <td>111</td>\n",
       "      <td>0</td>\n",
       "      <td>20</td>\n",
       "      <td>0</td>\n",
       "      <td>210000.00</td>\n",
       "      <td>1.9</td>\n",
       "      <td>137.0</td>\n",
       "      <td>1</td>\n",
       "      <td>0</td>\n",
       "      <td>7.0</td>\n",
       "      <td>1</td>\n",
       "    </tr>\n",
       "    <tr>\n",
       "      <th>4</th>\n",
       "      <td>65.0</td>\n",
       "      <td>1</td>\n",
       "      <td>160</td>\n",
       "      <td>1</td>\n",
       "      <td>20</td>\n",
       "      <td>0</td>\n",
       "      <td>327000.00</td>\n",
       "      <td>2.7</td>\n",
       "      <td>116.0</td>\n",
       "      <td>0</td>\n",
       "      <td>0</td>\n",
       "      <td>8.0</td>\n",
       "      <td>1</td>\n",
       "    </tr>\n",
       "    <tr>\n",
       "      <th>5</th>\n",
       "      <td>90.0</td>\n",
       "      <td>1</td>\n",
       "      <td>47</td>\n",
       "      <td>0</td>\n",
       "      <td>40</td>\n",
       "      <td>1</td>\n",
       "      <td>204000.00</td>\n",
       "      <td>2.1</td>\n",
       "      <td>132.0</td>\n",
       "      <td>1</td>\n",
       "      <td>1</td>\n",
       "      <td>8.0</td>\n",
       "      <td>1</td>\n",
       "    </tr>\n",
       "    <tr>\n",
       "      <th>...</th>\n",
       "      <td>...</td>\n",
       "      <td>...</td>\n",
       "      <td>...</td>\n",
       "      <td>...</td>\n",
       "      <td>...</td>\n",
       "      <td>...</td>\n",
       "      <td>...</td>\n",
       "      <td>...</td>\n",
       "      <td>...</td>\n",
       "      <td>...</td>\n",
       "      <td>...</td>\n",
       "      <td>...</td>\n",
       "      <td>...</td>\n",
       "    </tr>\n",
       "    <tr>\n",
       "      <th>292</th>\n",
       "      <td>52.0</td>\n",
       "      <td>0</td>\n",
       "      <td>190</td>\n",
       "      <td>1</td>\n",
       "      <td>38</td>\n",
       "      <td>0</td>\n",
       "      <td>382000.00</td>\n",
       "      <td>1.0</td>\n",
       "      <td>140.0</td>\n",
       "      <td>1</td>\n",
       "      <td>1</td>\n",
       "      <td>258.0</td>\n",
       "      <td>0</td>\n",
       "    </tr>\n",
       "    <tr>\n",
       "      <th>293</th>\n",
       "      <td>63.0</td>\n",
       "      <td>1</td>\n",
       "      <td>103</td>\n",
       "      <td>1</td>\n",
       "      <td>35</td>\n",
       "      <td>0</td>\n",
       "      <td>179000.00</td>\n",
       "      <td>0.9</td>\n",
       "      <td>136.0</td>\n",
       "      <td>1</td>\n",
       "      <td>1</td>\n",
       "      <td>270.0</td>\n",
       "      <td>0</td>\n",
       "    </tr>\n",
       "    <tr>\n",
       "      <th>294</th>\n",
       "      <td>62.0</td>\n",
       "      <td>0</td>\n",
       "      <td>61</td>\n",
       "      <td>1</td>\n",
       "      <td>38</td>\n",
       "      <td>1</td>\n",
       "      <td>155000.00</td>\n",
       "      <td>1.1</td>\n",
       "      <td>143.0</td>\n",
       "      <td>1</td>\n",
       "      <td>1</td>\n",
       "      <td>270.0</td>\n",
       "      <td>0</td>\n",
       "    </tr>\n",
       "    <tr>\n",
       "      <th>296</th>\n",
       "      <td>45.0</td>\n",
       "      <td>0</td>\n",
       "      <td>2060</td>\n",
       "      <td>1</td>\n",
       "      <td>60</td>\n",
       "      <td>0</td>\n",
       "      <td>742000.00</td>\n",
       "      <td>0.8</td>\n",
       "      <td>138.0</td>\n",
       "      <td>0</td>\n",
       "      <td>0</td>\n",
       "      <td>278.0</td>\n",
       "      <td>0</td>\n",
       "    </tr>\n",
       "    <tr>\n",
       "      <th>297</th>\n",
       "      <td>45.0</td>\n",
       "      <td>0</td>\n",
       "      <td>2413</td>\n",
       "      <td>0</td>\n",
       "      <td>38</td>\n",
       "      <td>0</td>\n",
       "      <td>140000.00</td>\n",
       "      <td>1.4</td>\n",
       "      <td>140.0</td>\n",
       "      <td>1</td>\n",
       "      <td>1</td>\n",
       "      <td>280.0</td>\n",
       "      <td>0</td>\n",
       "    </tr>\n",
       "  </tbody>\n",
       "</table>\n",
       "<p>286 rows × 13 columns</p>\n",
       "</div>"
      ],
      "text/plain": [
       "      age  anaemia  creatinine_phosphokinase  diabetes  ejection_fraction  \\\n",
       "1    55.0        0                      7861         0                 38   \n",
       "2    65.0        0                       146         0                 20   \n",
       "3    50.0        1                       111         0                 20   \n",
       "4    65.0        1                       160         1                 20   \n",
       "5    90.0        1                        47         0                 40   \n",
       "..    ...      ...                       ...       ...                ...   \n",
       "292  52.0        0                       190         1                 38   \n",
       "293  63.0        1                       103         1                 35   \n",
       "294  62.0        0                        61         1                 38   \n",
       "296  45.0        0                      2060         1                 60   \n",
       "297  45.0        0                      2413         0                 38   \n",
       "\n",
       "     high_blood_pressure  platelets  serum_creatinine  serum_sodium  sex  \\\n",
       "1                      0  263358.03               1.1         136.0    1   \n",
       "2                      0  162000.00               1.3         129.0    1   \n",
       "3                      0  210000.00               1.9         137.0    1   \n",
       "4                      0  327000.00               2.7         116.0    0   \n",
       "5                      1  204000.00               2.1         132.0    1   \n",
       "..                   ...        ...               ...           ...  ...   \n",
       "292                    0  382000.00               1.0         140.0    1   \n",
       "293                    0  179000.00               0.9         136.0    1   \n",
       "294                    1  155000.00               1.1         143.0    1   \n",
       "296                    0  742000.00               0.8         138.0    0   \n",
       "297                    0  140000.00               1.4         140.0    1   \n",
       "\n",
       "     smoking   time  DEATH_EVENT  \n",
       "1          0    6.0            1  \n",
       "2          1    7.0            1  \n",
       "3          0    7.0            1  \n",
       "4          0    8.0            1  \n",
       "5          1    8.0            1  \n",
       "..       ...    ...          ...  \n",
       "292        1  258.0            0  \n",
       "293        1  270.0            0  \n",
       "294        1  270.0            0  \n",
       "296        0  278.0            0  \n",
       "297        1  280.0            0  \n",
       "\n",
       "[286 rows x 13 columns]"
      ]
     },
     "execution_count": 7,
     "metadata": {},
     "output_type": "execute_result"
    }
   ],
   "source": [
    "#Encoding categorical features \n",
    "heart_dataset['sex'].unique()\n",
    "heart_dataset['smoking'].unique()\n",
    "\n",
    "from sklearn.preprocessing import LabelEncoder\n",
    "\n",
    "enc= LabelEncoder()\n",
    "heart_dataset['sex']= enc.fit_transform(heart_dataset['sex'])\n",
    "heart_dataset['smoking']= enc.fit_transform(heart_dataset['smoking'])\n",
    "heart_dataset"
   ]
  },
  {
   "cell_type": "code",
   "execution_count": 8,
   "metadata": {},
   "outputs": [
    {
     "data": {
      "text/plain": [
       "array([[0.27272727, 0.        , 1.        , ..., 0.        , 0.        ,\n",
       "        1.        ],\n",
       "       [0.45454545, 0.        , 0.01569278, ..., 1.        , 0.00364964,\n",
       "        1.        ],\n",
       "       [0.18181818, 1.        , 0.01122735, ..., 0.        , 0.00364964,\n",
       "        1.        ],\n",
       "       ...,\n",
       "       [0.4       , 0.        , 0.00484818, ..., 1.        , 0.96350365,\n",
       "        0.        ],\n",
       "       [0.09090909, 0.        , 0.25988773, ..., 0.        , 0.99270073,\n",
       "        0.        ],\n",
       "       [0.09090909, 0.        , 0.30492473, ..., 1.        , 1.        ,\n",
       "        0.        ]])"
      ]
     },
     "execution_count": 8,
     "metadata": {},
     "output_type": "execute_result"
    }
   ],
   "source": [
    "#scaling\n",
    "from sklearn.preprocessing import MinMaxScaler\n",
    "scaler= MinMaxScaler()\n",
    "scaler.fit(heart_dataset)\n",
    "heart_dataset1= scaler.transform(heart_dataset)   \n",
    "heart_dataset1"
   ]
  },
  {
   "cell_type": "code",
   "execution_count": 13,
   "metadata": {},
   "outputs": [
    {
     "name": "stdout",
     "output_type": "stream",
     "text": [
      "x_train shape: (228, 12)\n",
      "y_train shape: (228, 1)\n",
      "x_test shape: (58, 12)\n",
      "y_test shape: (58, 1)\n"
     ]
    }
   ],
   "source": [
    "#train test split\n",
    "features= heart_dataset[['age','anaemia','creatinine_phosphokinase','diabetes','ejection_fraction','high_blood_pressure','platelets','serum_creatinine','serum_sodium','sex','smoking','time']]\n",
    "label= heart_dataset[['DEATH_EVENT']]\n",
    "stratified = pd.DataFrame(label)\n",
    "from sklearn.model_selection import train_test_split\n",
    "x_train, x_test, y_train, y_test = train_test_split(features, label, test_size = 0.2, stratify=stratified, random_state=0)\n",
    "print(\"x_train shape:\", x_train.shape)\n",
    "print(\"y_train shape:\", y_train.shape)\n",
    "print(\"x_test shape:\", x_test.shape)\n",
    "print(\"y_test shape:\", y_test.shape)"
   ]
  },
  {
   "cell_type": "code",
   "execution_count": 20,
   "metadata": {},
   "outputs": [
    {
     "name": "stderr",
     "output_type": "stream",
     "text": [
      "C:\\Users\\IMADN\\anaconda3\\lib\\site-packages\\sklearn\\utils\\validation.py:63: DataConversionWarning: A column-vector y was passed when a 1d array was expected. Please change the shape of y to (n_samples, ), for example using ravel().\n",
      "  return f(*args, **kwargs)\n"
     ]
    },
    {
     "data": {
      "text/plain": [
       "GaussianNB()"
      ]
     },
     "execution_count": 20,
     "metadata": {},
     "output_type": "execute_result"
    }
   ],
   "source": [
    "#evaluating the model\n",
    "from sklearn.naive_bayes import GaussianNB\n",
    "gnb = GaussianNB()\n",
    "gnb.fit(x_train, y_train)"
   ]
  },
  {
   "cell_type": "code",
   "execution_count": 21,
   "metadata": {},
   "outputs": [
    {
     "name": "stdout",
     "output_type": "stream",
     "text": [
      "Training accuracy of the model is 0.80\n",
      "Testing accuracy of the model is 0.83\n"
     ]
    }
   ],
   "source": [
    "print(\"Training accuracy of the model is {:.2f}\".format(gnb.score(x_train, y_train)))\n",
    "print(\"Testing accuracy of the model is {:.2f}\".format(gnb.score(x_test, y_test)))"
   ]
  },
  {
   "cell_type": "code",
   "execution_count": 22,
   "metadata": {},
   "outputs": [
    {
     "name": "stdout",
     "output_type": "stream",
     "text": [
      "[1 0 0 0 0 0 0 0 0 0 1 0 0 0 0 0 0 0 0 0 1 1 1 0 0 1 0 0 0 0 0 1 0 0 0 0 1\n",
      " 0 1 0 0 1 0 0 0 0 0 1 0 0 0 0 0 0 0 0 0 1]\n"
     ]
    }
   ],
   "source": [
    "predictions = gnb.predict(x_test)\n",
    "print(predictions)"
   ]
  },
  {
   "cell_type": "code",
   "execution_count": 23,
   "metadata": {},
   "outputs": [
    {
     "name": "stdout",
     "output_type": "stream",
     "text": [
      "[[38  8]\n",
      " [ 2 10]]\n"
     ]
    }
   ],
   "source": [
    "from sklearn.metrics import confusion_matrix\n",
    "mat=confusion_matrix(predictions, y_test)\n",
    "print(mat)"
   ]
  },
  {
   "cell_type": "code",
   "execution_count": 25,
   "metadata": {},
   "outputs": [
    {
     "data": {
      "text/plain": [
       "<matplotlib.axes._subplots.AxesSubplot at 0x25627f09fa0>"
      ]
     },
     "execution_count": 25,
     "metadata": {},
     "output_type": "execute_result"
    },
    {
     "data": {
      "image/png": "[encoded data removed]",
      "text/plain": [
       "<Figure size 432x288 with 2 Axes>"
      ]
     },
     "metadata": {
      "needs_background": "light"
     },
     "output_type": "display_data"
    }
   ],
   "source": [
    "from seaborn import heatmap\n",
    "heatmap(mat, cmap = \"Pastel1_r\", xticklabels=['0' ,'1'], yticklabels=['0' ,'1'], annot=True)"
   ]
  },
  {
   "cell_type": "code",
   "execution_count": 26,
   "metadata": {},
   "outputs": [
    {
     "name": "stderr",
     "output_type": "stream",
     "text": [
      "C:\\Users\\IMADN\\anaconda3\\lib\\site-packages\\sklearn\\utils\\validation.py:63: DataConversionWarning: A column-vector y was passed when a 1d array was expected. Please change the shape of y to (n_samples, ), for example using ravel().\n",
      "  return f(*args, **kwargs)\n"
     ]
    },
    {
     "data": {
      "text/plain": [
       "SVC(kernel='linear')"
      ]
     },
     "execution_count": 26,
     "metadata": {},
     "output_type": "execute_result"
    }
   ],
   "source": [
    "#Support Vector Machine \n",
    "from sklearn.svm import SVC\n",
    "svc= SVC(kernel = \"linear\")\n",
    "svc.fit(x_train, y_train)"
   ]
  },
  {
   "cell_type": "code",
   "execution_count": 27,
   "metadata": {},
   "outputs": [
    {
     "name": "stdout",
     "output_type": "stream",
     "text": [
      "Training accuracy of the model is 0.80\n",
      "Testing accuracy of the model is 0.88\n"
     ]
    }
   ],
   "source": [
    "print(\"Training accuracy of the model is {:.2f}\".format(svc.score(x_train, y_train)))\n",
    "print(\"Testing accuracy of the model is {:.2f}\".format(svc.score(x_test, y_test)))"
   ]
  },
  {
   "cell_type": "code",
   "execution_count": 28,
   "metadata": {},
   "outputs": [
    {
     "name": "stdout",
     "output_type": "stream",
     "text": [
      "[1 0 0 0 0 0 0 0 0 0 1 0 0 0 1 0 0 0 0 0 1 0 1 0 0 1 0 0 0 0 0 1 0 0 0 0 0\n",
      " 0 1 0 0 1 0 0 0 0 0 1 0 0 0 1 0 1 0 0 0 1]\n",
      "0.8793103448275862\n"
     ]
    }
   ],
   "source": [
    "predictionsSVC = svc.predict(x_test)\n",
    "print(predictionsSVC)\n",
    " \n",
    "scoreSVC= accuracy_score(y_test, predictionsSVC)\n",
    "print (scoreSVC)"
   ]
  },
  {
   "cell_type": "code",
   "execution_count": 29,
   "metadata": {},
   "outputs": [],
   "source": [
    "from sklearn.neural_network import MLPClassifier\n",
    "nnc= MLPClassifier(hidden_layer_sizes=(8), activation = \"relu\", max_iter=1000000)"
   ]
  },
  {
   "cell_type": "code",
   "execution_count": 30,
   "metadata": {},
   "outputs": [
    {
     "name": "stdout",
     "output_type": "stream",
     "text": [
      "[[39  6]\n",
      " [ 1 12]]\n"
     ]
    }
   ],
   "source": [
    "from sklearn.metrics import confusion_matrix\n",
    "matSVC= confusion_matrix(predictionsSVC, y_test)\n",
    "print(matSVC)"
   ]
  },
  {
   "cell_type": "code",
   "execution_count": 31,
   "metadata": {},
   "outputs": [
    {
     "data": {
      "text/plain": [
       "<matplotlib.axes._subplots.AxesSubplot at 0x25627faf400>"
      ]
     },
     "execution_count": 31,
     "metadata": {},
     "output_type": "execute_result"
    },
    {
     "data": {
      "image/png": "[encoded data removed]",
      "text/plain": [
       "<Figure size 432x288 with 2 Axes>"
      ]
     },
     "metadata": {
      "needs_background": "light"
     },
     "output_type": "display_data"
    }
   ],
   "source": [
    "from seaborn import heatmap\n",
    "heatmap(matSVC, cmap = \"Pastel1_r\", xticklabels=['0' ,'1'], yticklabels=['0' ,'1'], annot=True)"
   ]
  },
  {
   "cell_type": "code",
   "execution_count": 36,
   "metadata": {},
   "outputs": [
    {
     "name": "stderr",
     "output_type": "stream",
     "text": [
      "C:\\Users\\IMADN\\anaconda3\\lib\\site-packages\\sklearn\\utils\\validation.py:63: DataConversionWarning: A column-vector y was passed when a 1d array was expected. Please change the shape of y to (n_samples, ), for example using ravel().\n",
      "  return f(*args, **kwargs)\n"
     ]
    },
    {
     "data": {
      "text/plain": [
       "MLPClassifier(hidden_layer_sizes=8, max_iter=1000000)"
      ]
     },
     "execution_count": 36,
     "metadata": {},
     "output_type": "execute_result"
    }
   ],
   "source": [
    "#Neural Network (Multilayer Perceptron Classifier)\n",
    "from sklearn.neural_network import MLPClassifier\n",
    "nnc= MLPClassifier(hidden_layer_sizes=(8), activation = \"relu\", max_iter=1000000)\n",
    "nnc.fit(x_train, y_train)"
   ]
  },
  {
   "cell_type": "code",
   "execution_count": 37,
   "metadata": {},
   "outputs": [
    {
     "name": "stdout",
     "output_type": "stream",
     "text": [
      "The Training accuracy of the model is 0.31\n",
      "The Testing accuracy of the model is 0.31\n"
     ]
    }
   ],
   "source": [
    "print(\"The Training accuracy of the model is {:.2f}\".format(nnc.score(x_train, y_train)))\n",
    "print(\"The Testing accuracy of the model is {:.2f}\".format(nnc.score(x_test, y_test)))"
   ]
  },
  {
   "cell_type": "code",
   "execution_count": 38,
   "metadata": {},
   "outputs": [
    {
     "name": "stdout",
     "output_type": "stream",
     "text": [
      "[1 1 1 1 1 1 1 1 1 1 1 1 1 1 1 1 1 1 1 1 1 1 1 1 1 1 1 1 1 1 1 1 1 1 1 1 1\n",
      " 1 1 1 1 1 1 1 1 1 1 1 1 1 1 1 1 1 1 1 1 1]\n",
      "0.3103448275862069\n"
     ]
    }
   ],
   "source": [
    "predictionsNNC = nnc.predict(x_test)\n",
    "print(predictionsNNC)\n",
    "\n",
    "scoreNNC= accuracy_score(y_test, predictionsNNC)\n",
    "print (scoreNNC)"
   ]
  },
  {
   "cell_type": "code",
   "execution_count": 39,
   "metadata": {},
   "outputs": [
    {
     "name": "stdout",
     "output_type": "stream",
     "text": [
      "[[ 0  0]\n",
      " [40 18]]\n"
     ]
    }
   ],
   "source": [
    "from sklearn.metrics import confusion_matrix\n",
    "matNNC=confusion_matrix(predictionsNNC, y_test)\n",
    "print(matNNC)"
   ]
  },
  {
   "cell_type": "code",
   "execution_count": 40,
   "metadata": {},
   "outputs": [
    {
     "data": {
      "text/plain": [
       "<matplotlib.axes._subplots.AxesSubplot at 0x25627fb8310>"
      ]
     },
     "execution_count": 40,
     "metadata": {},
     "output_type": "execute_result"
    },
    {
     "data": {
      "image/png": "[encoded data removed]",
      "text/plain": [
       "<Figure size 432x288 with 2 Axes>"
      ]
     },
     "metadata": {
      "needs_background": "light"
     },
     "output_type": "display_data"
    }
   ],
   "source": [
    "from seaborn import heatmap\n",
    "heatmap(matNNC , cmap=\"Pastel1_r\", xticklabels=['0' ,'1'], yticklabels=['0' ,'1'], annot=True)"
   ]
  },
  {
   "cell_type": "code",
   "execution_count": 41,
   "metadata": {},
   "outputs": [
    {
     "name": "stderr",
     "output_type": "stream",
     "text": [
      "<ipython-input-41-e8c9cede21d1>:3: DataConversionWarning: A column-vector y was passed when a 1d array was expected. Please change the shape of y to (n_samples,), for example using ravel().\n",
      "  rfc.fit(x_train, y_train)\n"
     ]
    },
    {
     "data": {
      "text/plain": [
       "RandomForestClassifier(n_estimators=50)"
      ]
     },
     "execution_count": 41,
     "metadata": {},
     "output_type": "execute_result"
    }
   ],
   "source": [
    "#Random Forest\n",
    "from sklearn.ensemble import RandomForestClassifier\n",
    "rfc = RandomForestClassifier(n_estimators = 50)\n",
    "rfc.fit(x_train, y_train)"
   ]
  },
  {
   "cell_type": "code",
   "execution_count": 42,
   "metadata": {},
   "outputs": [
    {
     "name": "stdout",
     "output_type": "stream",
     "text": [
      "The training accuracy of the model is 1.00\n",
      "The testing accuracy of the model is 0.90\n"
     ]
    }
   ],
   "source": [
    "print (\"The training accuracy of the model is {:.2f}\".format(rfc.score(x_train, y_train)))\n",
    "print ( \"The testing accuracy of the model is {:.2f}\".format(rfc.score(x_test,y_test)))"
   ]
  },
  {
   "cell_type": "code",
   "execution_count": 43,
   "metadata": {},
   "outputs": [
    {
     "name": "stdout",
     "output_type": "stream",
     "text": [
      "0.896551724137931\n"
     ]
    }
   ],
   "source": [
    "predictionsRFC = rfc.predict(x_test)\n",
    " \n",
    "scoreRFC= accuracy_score(y_test, predictionsRFC)\n",
    "print (scoreRFC)"
   ]
  },
  {
   "cell_type": "code",
   "execution_count": 44,
   "metadata": {},
   "outputs": [
    {
     "name": "stdout",
     "output_type": "stream",
     "text": [
      "[[38  4]\n",
      " [ 2 14]]\n"
     ]
    }
   ],
   "source": [
    "from sklearn.metrics import confusion_matrix \n",
    "matRFC= confusion_matrix(predictionsRFC, y_test)\n",
    "print(matRFC)"
   ]
  },
  {
   "cell_type": "code",
   "execution_count": 45,
   "metadata": {},
   "outputs": [
    {
     "data": {
      "text/plain": [
       "<matplotlib.axes._subplots.AxesSubplot at 0x256282e22b0>"
      ]
     },
     "execution_count": 45,
     "metadata": {},
     "output_type": "execute_result"
    },
    {
     "data": {
      "image/png": "[encoded data removed]",
      "text/plain": [
       "<Figure size 432x288 with 2 Axes>"
      ]
     },
     "metadata": {
      "needs_background": "light"
     },
     "output_type": "display_data"
    }
   ],
   "source": [
    "from seaborn import heatmap\n",
    "heatmap(matRFC , cmap=\"Pastel1_r\", xticklabels=['0' ,'1'], yticklabels=['0' ,'1'], annot=True)"
   ]
  },
  {
   "cell_type": "code",
   "execution_count": 46,
   "metadata": {},
   "outputs": [],
   "source": [
    "#PCA\n",
    "from sklearn.decomposition import PCA\n",
    "pca = PCA(n_components=6)"
   ]
  },
  {
   "cell_type": "code",
   "execution_count": 47,
   "metadata": {},
   "outputs": [],
   "source": [
    "y2 = heart_dataset.DEATH_EVENT"
   ]
  },
  {
   "cell_type": "code",
   "execution_count": 48,
   "metadata": {},
   "outputs": [
    {
     "name": "stdout",
     "output_type": "stream",
     "text": [
      "[[ 1.51012033e+03  7.27876856e+03 -1.16226574e+02 -2.85481791e+00\n",
      "   4.87005496e+00  2.24041514e+00]\n",
      " [-9.98499413e+04 -4.09489544e+02 -1.21011997e+02  1.44265161e+01\n",
      "  -9.14546170e+00  5.52372985e+00]\n",
      " [-5.18499521e+04 -4.57133044e+02 -1.21258816e+02  2.28701761e+01\n",
      "   3.00424052e+00 -2.20941726e+00]\n",
      " ...\n",
      " [-1.06849959e+05 -4.92891071e+02  1.42144343e+02 -2.83344654e+00\n",
      "  -3.49508153e+00 -5.99039646e+00]\n",
      " [ 4.80150548e+05  1.35127722e+03  1.43533615e+02 -1.01516035e+01\n",
      "   1.48615252e+01  2.05492176e+00]\n",
      " [-1.21849338e+05  1.86306932e+03  1.55004775e+02  4.29084562e+00\n",
      "   8.99984527e+00 -2.12187481e+00]]\n"
     ]
    }
   ],
   "source": [
    "dataf=heart_dataset.drop('DEATH_EVENT',axis=1)\n",
    "principal_components= pca.fit_transform(dataf)\n",
    "print(principal_components)"
   ]
  },
  {
   "cell_type": "code",
   "execution_count": 49,
   "metadata": {},
   "outputs": [
    {
     "data": {
      "text/html": [
       "<div>\n",
       "<style scoped>\n",
       "    .dataframe tbody tr th:only-of-type {\n",
       "        vertical-align: middle;\n",
       "    }\n",
       "\n",
       "    .dataframe tbody tr th {\n",
       "        vertical-align: top;\n",
       "    }\n",
       "\n",
       "    .dataframe thead th {\n",
       "        text-align: right;\n",
       "    }\n",
       "</style>\n",
       "<table border=\"1\" class=\"dataframe\">\n",
       "  <thead>\n",
       "    <tr style=\"text-align: right;\">\n",
       "      <th></th>\n",
       "      <th>PC1</th>\n",
       "      <th>PC2</th>\n",
       "      <th>PC3</th>\n",
       "      <th>PC4</th>\n",
       "      <th>PC5</th>\n",
       "      <th>PC6</th>\n",
       "    </tr>\n",
       "  </thead>\n",
       "  <tbody>\n",
       "    <tr>\n",
       "      <th>0</th>\n",
       "      <td>1510.120332</td>\n",
       "      <td>7278.768558</td>\n",
       "      <td>-116.226574</td>\n",
       "      <td>-2.854818</td>\n",
       "      <td>4.870055</td>\n",
       "      <td>2.240415</td>\n",
       "    </tr>\n",
       "    <tr>\n",
       "      <th>1</th>\n",
       "      <td>-99849.941342</td>\n",
       "      <td>-409.489544</td>\n",
       "      <td>-121.011997</td>\n",
       "      <td>14.426516</td>\n",
       "      <td>-9.145462</td>\n",
       "      <td>5.523730</td>\n",
       "    </tr>\n",
       "    <tr>\n",
       "      <th>2</th>\n",
       "      <td>-51849.952128</td>\n",
       "      <td>-457.133044</td>\n",
       "      <td>-121.258816</td>\n",
       "      <td>22.870176</td>\n",
       "      <td>3.004241</td>\n",
       "      <td>-2.209417</td>\n",
       "    </tr>\n",
       "    <tr>\n",
       "      <th>3</th>\n",
       "      <td>65150.056567</td>\n",
       "      <td>-439.013088</td>\n",
       "      <td>-122.610589</td>\n",
       "      <td>15.914046</td>\n",
       "      <td>-11.729975</td>\n",
       "      <td>18.736421</td>\n",
       "    </tr>\n",
       "    <tr>\n",
       "      <th>4</th>\n",
       "      <td>-57849.968874</td>\n",
       "      <td>-519.605050</td>\n",
       "      <td>-121.431082</td>\n",
       "      <td>-16.123275</td>\n",
       "      <td>-18.488296</td>\n",
       "      <td>3.767367</td>\n",
       "    </tr>\n",
       "  </tbody>\n",
       "</table>\n",
       "</div>"
      ],
      "text/plain": [
       "            PC1          PC2         PC3        PC4        PC5        PC6\n",
       "0   1510.120332  7278.768558 -116.226574  -2.854818   4.870055   2.240415\n",
       "1 -99849.941342  -409.489544 -121.011997  14.426516  -9.145462   5.523730\n",
       "2 -51849.952128  -457.133044 -121.258816  22.870176   3.004241  -2.209417\n",
       "3  65150.056567  -439.013088 -122.610589  15.914046 -11.729975  18.736421\n",
       "4 -57849.968874  -519.605050 -121.431082 -16.123275 -18.488296   3.767367"
      ]
     },
     "execution_count": 49,
     "metadata": {},
     "output_type": "execute_result"
    }
   ],
   "source": [
    "principal_df= pd.DataFrame(data=principal_components, columns = [\"PC1\", \"PC2\", \"PC3\", \"PC4\", \"PC5\", \"PC6\"])\n",
    "principal_df.head()"
   ]
  },
  {
   "cell_type": "code",
   "execution_count": 50,
   "metadata": {},
   "outputs": [
    {
     "data": {
      "text/plain": [
       "0.9999999997623413"
      ]
     },
     "execution_count": 50,
     "metadata": {},
     "output_type": "execute_result"
    }
   ],
   "source": [
    "sum(pca.explained_variance_ratio_)"
   ]
  },
  {
   "cell_type": "code",
   "execution_count": 51,
   "metadata": {},
   "outputs": [],
   "source": [
    "x2=dataf"
   ]
  },
  {
   "cell_type": "code",
   "execution_count": 52,
   "metadata": {},
   "outputs": [],
   "source": [
    "from sklearn.model_selection import train_test_split\n",
    "x2_train,x2_test,y2_train,y2_test=train_test_split(x2,y2,test_size=0.2)"
   ]
  },
  {
   "cell_type": "code",
   "execution_count": 53,
   "metadata": {},
   "outputs": [
    {
     "data": {
      "text/plain": [
       "SVC(kernel='linear')"
      ]
     },
     "execution_count": 53,
     "metadata": {},
     "output_type": "execute_result"
    }
   ],
   "source": [
    "#Support Vector Machine (2ndtime)\n",
    "from sklearn.svm import SVC\n",
    "svc2 = SVC(kernel = \"linear\")\n",
    "svc2.fit(x2_train, y2_train)"
   ]
  },
  {
   "cell_type": "code",
   "execution_count": 54,
   "metadata": {},
   "outputs": [
    {
     "name": "stdout",
     "output_type": "stream",
     "text": [
      "Training accuracy of the model is 0.81\n",
      "Testing accuracy of the model is 0.71\n"
     ]
    }
   ],
   "source": [
    "print(\"Training accuracy of the model is {:.2f}\".format(svc2.score(x2_train, y2_train)))\n",
    "print(\"Testing accuracy of the model is {:.2f}\".format(svc2.score(x2_test, y2_test)))"
   ]
  },
  {
   "cell_type": "code",
   "execution_count": 55,
   "metadata": {},
   "outputs": [
    {
     "name": "stdout",
     "output_type": "stream",
     "text": [
      "[1 0 0 0 0 0 0 0 1 0 1 0 0 0 0 0 0 0 0 0 0 0 0 0 0 0 0 0 0 0 0 0 0 0 0 0 0\n",
      " 0 0 0 0 0 1 0 0 0 0 0 1 0 0 0 0 0 0 0 0 0]\n",
      "0.7068965517241379\n"
     ]
    }
   ],
   "source": [
    "predictionsSVC2 = svc2.predict(x2_test)\n",
    "print(predictionsSVC2)\n",
    "\n",
    "scoreSVC2= accuracy_score(y2_test, predictionsSVC2)\n",
    "print (scoreSVC2)"
   ]
  },
  {
   "cell_type": "code",
   "execution_count": 56,
   "metadata": {},
   "outputs": [
    {
     "name": "stdout",
     "output_type": "stream",
     "text": [
      "[[36 17]\n",
      " [ 0  5]]\n"
     ]
    }
   ],
   "source": [
    "from sklearn.metrics import confusion_matrix\n",
    "matSVC2=confusion_matrix(predictionsSVC2, y2_test)\n",
    "print(matSVC2)"
   ]
  },
  {
   "cell_type": "code",
   "execution_count": 57,
   "metadata": {},
   "outputs": [],
   "source": [
    "#Neural Network (MLPClassifier) (2ndtime)\n",
    "from sklearn.neural_network import MLPClassifier\n",
    "nnc2= MLPClassifier(hidden_layer_sizes=(8), activation = \"relu\", max_iter=1000000)"
   ]
  },
  {
   "cell_type": "code",
   "execution_count": 58,
   "metadata": {},
   "outputs": [
    {
     "data": {
      "text/plain": [
       "MLPClassifier(hidden_layer_sizes=8, max_iter=1000000)"
      ]
     },
     "execution_count": 58,
     "metadata": {},
     "output_type": "execute_result"
    }
   ],
   "source": [
    "nnc2.fit(x2_train, y2_train)"
   ]
  },
  {
   "cell_type": "code",
   "execution_count": 59,
   "metadata": {},
   "outputs": [
    {
     "name": "stdout",
     "output_type": "stream",
     "text": [
      "Training accuracy of the model is 0.70\n",
      "Testing accuracy of the model is 0.62\n"
     ]
    }
   ],
   "source": [
    "print(\"Training accuracy of the model is {:.2f}\".format(nnc2.score(x2_train, y2_train)))\n",
    "print(\"Testing accuracy of the model is {:.2f}\".format(nnc2.score(x2_test, y2_test)))"
   ]
  },
  {
   "cell_type": "code",
   "execution_count": 60,
   "metadata": {},
   "outputs": [
    {
     "name": "stdout",
     "output_type": "stream",
     "text": [
      "[0 0 0 0 0 0 0 0 0 0 0 0 0 0 0 0 0 0 0 0 0 0 0 0 0 0 0 0 0 0 0 0 0 0 0 0 0\n",
      " 0 0 0 0 0 0 0 0 0 0 0 0 0 0 0 0 0 0 0 0 0]\n",
      "0.6206896551724138\n"
     ]
    }
   ],
   "source": [
    "predictionsNNC2 = nnc2.predict(x2_test)\n",
    "print(predictionsNNC2)\n",
    " \n",
    "scoreNNC2= accuracy_score(y2_test, predictionsNNC2)\n",
    "print (scoreNNC2)"
   ]
  },
  {
   "cell_type": "code",
   "execution_count": 61,
   "metadata": {},
   "outputs": [
    {
     "data": {
      "text/plain": [
       "RandomForestClassifier(n_estimators=50)"
      ]
     },
     "execution_count": 61,
     "metadata": {},
     "output_type": "execute_result"
    }
   ],
   "source": [
    "#Random Forest (2ndtime)\n",
    "from sklearn.ensemble import RandomForestClassifier\n",
    "rfc2 = RandomForestClassifier(n_estimators = 50)\n",
    "rfc2.fit(x2_train, y2_train)"
   ]
  },
  {
   "cell_type": "code",
   "execution_count": 62,
   "metadata": {},
   "outputs": [
    {
     "name": "stdout",
     "output_type": "stream",
     "text": [
      "The training accuracy of the model is 1.00\n",
      "The testing accuracy of the model is 0.83\n"
     ]
    }
   ],
   "source": [
    "print (\"The training accuracy of the model is {:.2f}\".format(rfc2.score(x2_train, y2_train)))\n",
    "print ( \"The testing accuracy of the model is {:.2f}\".format(rfc2.score(x2_test,y2_test)))"
   ]
  },
  {
   "cell_type": "code",
   "execution_count": 63,
   "metadata": {},
   "outputs": [
    {
     "name": "stdout",
     "output_type": "stream",
     "text": [
      "0.8275862068965517\n"
     ]
    }
   ],
   "source": [
    "predictionsRFC2 = rfc2.predict(x2_test)\n",
    "scoreRFC2= accuracy_score(y2_test, predictionsRFC2)\n",
    "print (scoreRFC2)"
   ]
  },
  {
   "cell_type": "code",
   "execution_count": 64,
   "metadata": {},
   "outputs": [
    {
     "data": {
      "image/png": "[encoded data removed]",
      "text/plain": [
       "<Figure size 432x288 with 1 Axes>"
      ]
     },
     "metadata": {
      "needs_background": "light"
     },
     "output_type": "display_data"
    },
    {
     "data": {
      "image/png": "[encoded data removed]",
      "text/plain": [
       "<Figure size 432x288 with 1 Axes>"
      ]
     },
     "metadata": {
      "needs_background": "light"
     },
     "output_type": "display_data"
    },
    {
     "data": {
      "image/png": "[encoded data removed]",
      "text/plain": [
       "<Figure size 432x288 with 1 Axes>"
      ]
     },
     "metadata": {
      "needs_background": "light"
     },
     "output_type": "display_data"
    }
   ],
   "source": [
    "#the accuracy of the pre-PCA and post-PCA results\n",
    "plt.bar(['Pre-PCA', 'Post-PCA'],[scoreSVC, scoreSVC2])\n",
    "plt.title('Comparing Accuracy of Support Vector Machine ')\n",
    "plt.show()\n",
    " \n",
    "plt.bar(['Pre-PCA', 'Post-PCA'],[scoreNNC, scoreNNC2])\n",
    "plt.title('Comparing Accuracy of Neural Network ')\n",
    "plt.show()\n",
    " \n",
    "plt.bar(['Pre-PCA', 'Post-PCA'],[scoreRFC, scoreRFC2])\n",
    "plt.title('Comparing Accuracy of Support Random Forest ')\n",
    "plt.show()"
   ]
  },
  {
   "cell_type": "code",
   "execution_count": null,
   "metadata": {},
   "outputs": [],
   "source": []
  }
 ],
 "metadata": {
  "kernelspec": {
   "display_name": "Python 3",
   "language": "python",
   "name": "python3"
  },
  "language_info": {
   "codemirror_mode": {
    "name": "ipython",
    "version": 3
   },
   "file_extension": ".py",
   "mimetype": "text/x-python",
   "name": "python",
   "nbconvert_exporter": "python",
   "pygments_lexer": "ipython3",
   "version": "3.8.3"
  }
 },
 "nbformat": 4,
 "nbformat_minor": 4
}
