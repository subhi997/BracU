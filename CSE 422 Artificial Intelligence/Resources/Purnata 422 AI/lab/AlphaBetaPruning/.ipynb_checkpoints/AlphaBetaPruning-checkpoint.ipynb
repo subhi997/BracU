{
 "cells": [
  {
   "cell_type": "code",
   "execution_count": null,
   "metadata": {},
   "outputs": [],
   "source": [
    "#import nympu as np\n",
    "file=open('C:\\\\Users\\IMADN\\Desktop\\AlphaBetaPruning\\input.txt', 'r')\n",
    "dep=file.readline().strip()\n",
    "depth=int(dep)*2\n",
    "#print(depth)\n",
    "branch=int(file.readline().strip())\n",
    "#print(branch)\n",
    "\n",
    "#alpha beta values\n",
    "line=file.readline().strip()\n",
    "value=line.split(\" \")\n",
    "beta= int(value[0])\n",
    "alpha= int(value[1])\n",
    "#print(beta)\n",
    "#print(alpha)"
   ]
  },
  {
   "cell_type": "code",
   "execution_count": null,
   "metadata": {},
   "outputs": [],
   "source": [
    "#leafnode\n",
    "source=[]\n",
    "x=pow(branch, depth)\n",
    "for i in range(x):\n",
    "    y=int(input(\"Enter node value: \"))\n",
    "    source.append(y)\n",
    "#print(source)"
   ]
  }
 ],
 "metadata": {
  "kernelspec": {
   "display_name": "Python 3",
   "language": "python",
   "name": "python3"
  },
  "language_info": {
   "codemirror_mode": {
    "name": "ipython",
    "version": 3
   },
   "file_extension": ".py",
   "mimetype": "text/x-python",
   "name": "python",
   "nbconvert_exporter": "python",
   "pygments_lexer": "ipython3",
   "version": "3.8.3"
  }
 },
 "nbformat": 4,
 "nbformat_minor": 4
}
