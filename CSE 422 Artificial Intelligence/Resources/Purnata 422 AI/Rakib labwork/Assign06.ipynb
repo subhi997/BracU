{
  "nbformat": 4,
  "nbformat_minor": 0,
  "metadata": {
    "colab": {
      "name": "17241003_MMA_Rakib_Assign06.ipynb",
      "provenance": []
    },
    "kernelspec": {
      "name": "python3",
      "display_name": "Python 3"
    }
  },
  "cells": [
    {
      "cell_type": "code",
      "metadata": {
        "id": "NckVewJrXD0Y"
      },
      "source": [
        "import pandas as pd\r\n",
        "import numpy as np\r\n",
        "import matplotlib.pyplot as plt"
      ],
      "execution_count": 1,
      "outputs": []
    },
    {
      "cell_type": "code",
      "metadata": {
        "colab": {
          "base_uri": "https://localhost:8080/",
          "height": 161
        },
        "id": "w54CVl1SXVMg",
        "outputId": "61010df5-b1c6-40f6-af0c-7de959ffdc53"
      },
      "source": [
        "heart = pd.read_csv('/heart failur classification dataset.csv',index_col=0)\r\n",
        "heart.head(3)\r\n"
      ],
      "execution_count": 3,
      "outputs": [
        {
          "output_type": "execute_result",
          "data": {
            "text/html": [
              "<div>\n",
              "<style scoped>\n",
              "    .dataframe tbody tr th:only-of-type {\n",
              "        vertical-align: middle;\n",
              "    }\n",
              "\n",
              "    .dataframe tbody tr th {\n",
              "        vertical-align: top;\n",
              "    }\n",
              "\n",
              "    .dataframe thead th {\n",
              "        text-align: right;\n",
              "    }\n",
              "</style>\n",
              "<table border=\"1\" class=\"dataframe\">\n",
              "  <thead>\n",
              "    <tr style=\"text-align: right;\">\n",
              "      <th></th>\n",
              "      <th>age</th>\n",
              "      <th>anaemia</th>\n",
              "      <th>creatinine_phosphokinase</th>\n",
              "      <th>diabetes</th>\n",
              "      <th>ejection_fraction</th>\n",
              "      <th>high_blood_pressure</th>\n",
              "      <th>platelets</th>\n",
              "      <th>serum_creatinine</th>\n",
              "      <th>serum_sodium</th>\n",
              "      <th>sex</th>\n",
              "      <th>smoking</th>\n",
              "      <th>time</th>\n",
              "      <th>DEATH_EVENT</th>\n",
              "    </tr>\n",
              "  </thead>\n",
              "  <tbody>\n",
              "    <tr>\n",
              "      <th>0</th>\n",
              "      <td>75.0</td>\n",
              "      <td>0</td>\n",
              "      <td>582</td>\n",
              "      <td>0</td>\n",
              "      <td>20</td>\n",
              "      <td>1</td>\n",
              "      <td>265000.00</td>\n",
              "      <td>1.9</td>\n",
              "      <td>NaN</td>\n",
              "      <td>Male</td>\n",
              "      <td>No</td>\n",
              "      <td>4.0</td>\n",
              "      <td>1</td>\n",
              "    </tr>\n",
              "    <tr>\n",
              "      <th>1</th>\n",
              "      <td>55.0</td>\n",
              "      <td>0</td>\n",
              "      <td>7861</td>\n",
              "      <td>0</td>\n",
              "      <td>38</td>\n",
              "      <td>0</td>\n",
              "      <td>263358.03</td>\n",
              "      <td>1.1</td>\n",
              "      <td>136.0</td>\n",
              "      <td>Male</td>\n",
              "      <td>No</td>\n",
              "      <td>6.0</td>\n",
              "      <td>1</td>\n",
              "    </tr>\n",
              "    <tr>\n",
              "      <th>2</th>\n",
              "      <td>65.0</td>\n",
              "      <td>0</td>\n",
              "      <td>146</td>\n",
              "      <td>0</td>\n",
              "      <td>20</td>\n",
              "      <td>0</td>\n",
              "      <td>162000.00</td>\n",
              "      <td>1.3</td>\n",
              "      <td>129.0</td>\n",
              "      <td>Male</td>\n",
              "      <td>Yes</td>\n",
              "      <td>7.0</td>\n",
              "      <td>1</td>\n",
              "    </tr>\n",
              "  </tbody>\n",
              "</table>\n",
              "</div>"
            ],
            "text/plain": [
              "    age  anaemia  creatinine_phosphokinase  ...  smoking  time  DEATH_EVENT\n",
              "0  75.0        0                       582  ...       No   4.0            1\n",
              "1  55.0        0                      7861  ...       No   6.0            1\n",
              "2  65.0        0                       146  ...      Yes   7.0            1\n",
              "\n",
              "[3 rows x 13 columns]"
            ]
          },
          "metadata": {
            "tags": []
          },
          "execution_count": 3
        }
      ]
    },
    {
      "cell_type": "code",
      "metadata": {
        "colab": {
          "base_uri": "https://localhost:8080/"
        },
        "id": "juyK7VvAXeXR",
        "outputId": "92645b12-b9af-471d-c374-0c38459c7730"
      },
      "source": [
        "heart.isnull().sum()"
      ],
      "execution_count": 4,
      "outputs": [
        {
          "output_type": "execute_result",
          "data": {
            "text/plain": [
              "age                         0\n",
              "anaemia                     0\n",
              "creatinine_phosphokinase    0\n",
              "diabetes                    0\n",
              "ejection_fraction           0\n",
              "high_blood_pressure         0\n",
              "platelets                   0\n",
              "serum_creatinine            0\n",
              "serum_sodium                6\n",
              "sex                         0\n",
              "smoking                     0\n",
              "time                        7\n",
              "DEATH_EVENT                 0\n",
              "dtype: int64"
            ]
          },
          "metadata": {
            "tags": []
          },
          "execution_count": 4
        }
      ]
    },
    {
      "cell_type": "code",
      "metadata": {
        "colab": {
          "base_uri": "https://localhost:8080/"
        },
        "id": "HtzVRgT1Xoc0",
        "outputId": "388736a9-0ca3-4793-bba4-e7d03d7ebf78"
      },
      "source": [
        "heart = heart.dropna(axis = 0, subset = ['serum_sodium'])\r\n",
        "\r\n",
        "print(\"Shape after removing null values: \", heart.shape)\r\n"
      ],
      "execution_count": 5,
      "outputs": [
        {
          "output_type": "stream",
          "text": [
            "Shape after removing null values:  (293, 13)\n"
          ],
          "name": "stdout"
        }
      ]
    },
    {
      "cell_type": "code",
      "metadata": {
        "colab": {
          "base_uri": "https://localhost:8080/"
        },
        "id": "nelQzSyVXxZ9",
        "outputId": "ef262ecf-de53-4261-e292-e06272fb8b7e"
      },
      "source": [
        "pip install -U scikit-learn"
      ],
      "execution_count": 6,
      "outputs": [
        {
          "output_type": "stream",
          "text": [
            "Collecting scikit-learn\n",
            "\u001b[?25l  Downloading https://files.pythonhosted.org/packages/30/aa/db462d385c56905b731403885454188683f63c86ea68900f6f7e7558b5fa/scikit_learn-0.24.0-cp36-cp36m-manylinux2010_x86_64.whl (22.2MB)\n",
            "\u001b[K     |████████████████████████████████| 22.2MB 4.7MB/s \n",
            "\u001b[?25hRequirement already satisfied, skipping upgrade: scipy>=0.19.1 in /usr/local/lib/python3.6/dist-packages (from scikit-learn) (1.4.1)\n",
            "Requirement already satisfied, skipping upgrade: joblib>=0.11 in /usr/local/lib/python3.6/dist-packages (from scikit-learn) (1.0.0)\n",
            "Collecting threadpoolctl>=2.0.0\n",
            "  Downloading https://files.pythonhosted.org/packages/f7/12/ec3f2e203afa394a149911729357aa48affc59c20e2c1c8297a60f33f133/threadpoolctl-2.1.0-py3-none-any.whl\n",
            "Requirement already satisfied, skipping upgrade: numpy>=1.13.3 in /usr/local/lib/python3.6/dist-packages (from scikit-learn) (1.19.4)\n",
            "Installing collected packages: threadpoolctl, scikit-learn\n",
            "  Found existing installation: scikit-learn 0.22.2.post1\n",
            "    Uninstalling scikit-learn-0.22.2.post1:\n",
            "      Successfully uninstalled scikit-learn-0.22.2.post1\n",
            "Successfully installed scikit-learn-0.24.0 threadpoolctl-2.1.0\n"
          ],
          "name": "stdout"
        }
      ]
    },
    {
      "cell_type": "code",
      "metadata": {
        "colab": {
          "base_uri": "https://localhost:8080/"
        },
        "id": "6gA5VqcMX9XW",
        "outputId": "8e2116df-1012-42f1-bf6b-5ac316e5fe21"
      },
      "source": [
        "heart.keys()"
      ],
      "execution_count": 7,
      "outputs": [
        {
          "output_type": "execute_result",
          "data": {
            "text/plain": [
              "Index(['age', 'anaemia', 'creatinine_phosphokinase', 'diabetes',\n",
              "       'ejection_fraction', 'high_blood_pressure', 'platelets',\n",
              "       'serum_creatinine', 'serum_sodium', 'sex', 'smoking', 'time',\n",
              "       'DEATH_EVENT'],\n",
              "      dtype='object')"
            ]
          },
          "metadata": {
            "tags": []
          },
          "execution_count": 7
        }
      ]
    },
    {
      "cell_type": "code",
      "metadata": {
        "colab": {
          "base_uri": "https://localhost:8080/"
        },
        "id": "mCzA1y6LYC1I",
        "outputId": "1eb4725a-23e6-4af7-a5ce-486a068a6c7e"
      },
      "source": [
        "heart = heart.drop(['time'], axis = 1)\r\n",
        "\r\n",
        "heart.shape"
      ],
      "execution_count": 8,
      "outputs": [
        {
          "output_type": "execute_result",
          "data": {
            "text/plain": [
              "(293, 12)"
            ]
          },
          "metadata": {
            "tags": []
          },
          "execution_count": 8
        }
      ]
    },
    {
      "cell_type": "code",
      "metadata": {
        "id": "vHse-36sYpXd"
      },
      "source": [
        "heart['sex']=heart['sex'].map({'Male':1,'Female':0})"
      ],
      "execution_count": 9,
      "outputs": []
    },
    {
      "cell_type": "code",
      "metadata": {
        "id": "8g31h6q7Ys3A"
      },
      "source": [
        "heart['smoking']=heart['smoking'].map({'No':0,'Yes':1})"
      ],
      "execution_count": 10,
      "outputs": []
    },
    {
      "cell_type": "code",
      "metadata": {
        "id": "QDONz54tYxgV"
      },
      "source": [
        "X = heart.iloc[:, :-1]\r\n",
        "y = heart.iloc[:, -1]"
      ],
      "execution_count": 14,
      "outputs": []
    },
    {
      "cell_type": "code",
      "metadata": {
        "id": "hL9EIMbUZEBP"
      },
      "source": [
        "from sklearn.metrics import accuracy_score\r\n",
        "from sklearn.model_selection import train_test_split"
      ],
      "execution_count": 16,
      "outputs": []
    },
    {
      "cell_type": "code",
      "metadata": {
        "id": "ifgBw6sbZF08"
      },
      "source": [
        "x_train, x_test, y_train, y_test = train_test_split(X, y, test_size=0.2, random_state=0)"
      ],
      "execution_count": 17,
      "outputs": []
    },
    {
      "cell_type": "code",
      "metadata": {
        "colab": {
          "base_uri": "https://localhost:8080/"
        },
        "id": "QycsWxenZTra",
        "outputId": "65b6e575-5ca2-459a-e2c6-25a169fd7fb9"
      },
      "source": [
        "from sklearn.svm import SVC\r\n",
        "svc = SVC(kernel=\"linear\")\r\n",
        "svc.fit(x_train, y_train)"
      ],
      "execution_count": 19,
      "outputs": [
        {
          "output_type": "execute_result",
          "data": {
            "text/plain": [
              "SVC(kernel='linear')"
            ]
          },
          "metadata": {
            "tags": []
          },
          "execution_count": 19
        }
      ]
    },
    {
      "cell_type": "code",
      "metadata": {
        "colab": {
          "base_uri": "https://localhost:8080/"
        },
        "id": "MuoQ6DdaZViF",
        "outputId": "e48afc74-a603-41f0-d2c7-5c99addf3763"
      },
      "source": [
        "print(\"Training accuracy of the model is {:.2f}\".format(svc.score(x_train, y_train)))\r\n",
        "print(\"Testing accuracy of the model is {:.2f}\".format(svc.score(x_test, y_test)))"
      ],
      "execution_count": 23,
      "outputs": [
        {
          "output_type": "stream",
          "text": [
            "Training accuracy of the model is 0.68\n",
            "Testing accuracy of the model is 0.76\n"
          ],
          "name": "stdout"
        }
      ]
    },
    {
      "cell_type": "code",
      "metadata": {
        "colab": {
          "base_uri": "https://localhost:8080/"
        },
        "id": "mWkgQD7faUG2",
        "outputId": "b9787e39-4344-4f93-b8d2-a5ea8a8c6c72"
      },
      "source": [
        "predictions = svc.predict(x_test)\r\n",
        "print(predictions)"
      ],
      "execution_count": 21,
      "outputs": [
        {
          "output_type": "stream",
          "text": [
            "[0 0 0 0 0 0 0 0 0 0 0 0 0 0 0 0 0 0 0 0 0 0 0 0 0 0 0 0 0 0 1 0 0 1 0 0 0\n",
            " 0 0 0 0 0 0 0 0 0 0 0 0 0 0 0 0 0 0 0 0 0 0]\n"
          ],
          "name": "stdout"
        }
      ]
    },
    {
      "cell_type": "code",
      "metadata": {
        "colab": {
          "base_uri": "https://localhost:8080/"
        },
        "id": "h8HSqipwa_xP",
        "outputId": "63ed364e-c016-4532-a67b-4efd0130552e"
      },
      "source": [
        "from sklearn.metrics import confusion_matrix\r\n",
        "mat=confusion_matrix(predictions, y_test)\r\n",
        "print(mat)"
      ],
      "execution_count": 24,
      "outputs": [
        {
          "output_type": "stream",
          "text": [
            "[[44 13]\n",
            " [ 1  1]]\n"
          ],
          "name": "stdout"
        }
      ]
    },
    {
      "cell_type": "code",
      "metadata": {
        "colab": {
          "base_uri": "https://localhost:8080/"
        },
        "id": "VWE5_bPDbFTG",
        "outputId": "3a37bcbe-8138-428d-971e-e1894926e08f"
      },
      "source": [
        "from sklearn.ensemble import RandomForestClassifier\r\n",
        "rfc = RandomForestClassifier(n_estimators=50)\r\n",
        "rfc.fit(x_train, y_train)"
      ],
      "execution_count": 25,
      "outputs": [
        {
          "output_type": "execute_result",
          "data": {
            "text/plain": [
              "RandomForestClassifier(n_estimators=50)"
            ]
          },
          "metadata": {
            "tags": []
          },
          "execution_count": 25
        }
      ]
    },
    {
      "cell_type": "code",
      "metadata": {
        "colab": {
          "base_uri": "https://localhost:8080/"
        },
        "id": "WjEqBerKbKwf",
        "outputId": "e171e466-79ef-4ab5-a785-208dc333a12f"
      },
      "source": [
        "print(\"The Training accuracy of the model is {:.2f}\".format(rfc.score(x_train, y_train)))\r\n",
        "print(\"The Testing accuracy of the model is {:.2f}\".format(rfc.score(x_test, y_test)))"
      ],
      "execution_count": 26,
      "outputs": [
        {
          "output_type": "stream",
          "text": [
            "The Training accuracy of the model is 1.00\n",
            "The Testing accuracy of the model is 0.78\n"
          ],
          "name": "stdout"
        }
      ]
    },
    {
      "cell_type": "code",
      "metadata": {
        "id": "vhCKX24bbQRV"
      },
      "source": [
        "predictions = rfc.predict(x_test)"
      ],
      "execution_count": 27,
      "outputs": []
    },
    {
      "cell_type": "code",
      "metadata": {
        "colab": {
          "base_uri": "https://localhost:8080/"
        },
        "id": "MUJW6-rKbTna",
        "outputId": "d524554d-34cf-4491-debf-740c5e50653d"
      },
      "source": [
        "from sklearn.metrics import confusion_matrix\r\n",
        "mat=confusion_matrix(predictions, y_test)\r\n",
        "print(mat)"
      ],
      "execution_count": 28,
      "outputs": [
        {
          "output_type": "stream",
          "text": [
            "[[39  7]\n",
            " [ 6  7]]\n"
          ],
          "name": "stdout"
        }
      ]
    },
    {
      "cell_type": "code",
      "metadata": {
        "id": "PiBh0eUAbcm7"
      },
      "source": [
        "from sklearn.neural_network import MLPClassifier\r\n",
        "nnc=MLPClassifier(hidden_layer_sizes=(7), activation=\"relu\", max_iter=10000)"
      ],
      "execution_count": 29,
      "outputs": []
    },
    {
      "cell_type": "code",
      "metadata": {
        "colab": {
          "base_uri": "https://localhost:8080/"
        },
        "id": "JbUzHoj5bgBO",
        "outputId": "db11405c-548d-4e18-f1ce-13f7c6b51c28"
      },
      "source": [
        "nnc.fit(x_train, y_train)"
      ],
      "execution_count": 30,
      "outputs": [
        {
          "output_type": "execute_result",
          "data": {
            "text/plain": [
              "MLPClassifier(hidden_layer_sizes=7, max_iter=10000)"
            ]
          },
          "metadata": {
            "tags": []
          },
          "execution_count": 30
        }
      ]
    },
    {
      "cell_type": "code",
      "metadata": {
        "colab": {
          "base_uri": "https://localhost:8080/"
        },
        "id": "b9XLAPMSbkpO",
        "outputId": "c8069dc4-0555-49ae-972d-d26ea498b72d"
      },
      "source": [
        "print(\"The Training accuracy of the model is {:.2f}\".format(nnc.score(x_train, y_train)))\r\n",
        "print(\"The Testing accuracy of the model is {:.2f}\".format(nnc.score(x_test, y_test)))"
      ],
      "execution_count": 31,
      "outputs": [
        {
          "output_type": "stream",
          "text": [
            "The Training accuracy of the model is 0.53\n",
            "The Testing accuracy of the model is 0.58\n"
          ],
          "name": "stdout"
        }
      ]
    },
    {
      "cell_type": "code",
      "metadata": {
        "colab": {
          "base_uri": "https://localhost:8080/"
        },
        "id": "wu-AnMwrbo24",
        "outputId": "4e3723de-d9d7-44c0-c7ec-c82e46292afd"
      },
      "source": [
        "predictions = nnc.predict(x_test)\r\n",
        "print(predictions)"
      ],
      "execution_count": 32,
      "outputs": [
        {
          "output_type": "stream",
          "text": [
            "[0 0 1 0 0 0 1 1 0 0 0 1 0 0 1 0 0 1 0 0 1 1 0 0 1 1 1 0 0 1 0 1 1 0 0 0 0\n",
            " 1 1 1 0 1 0 1 0 0 0 1 0 0 0 0 0 1 0 0 0 0 0]\n"
          ],
          "name": "stdout"
        }
      ]
    },
    {
      "cell_type": "code",
      "metadata": {
        "colab": {
          "base_uri": "https://localhost:8080/"
        },
        "id": "ayCXtUftbuNk",
        "outputId": "7375cf01-7837-432e-de1d-7e7acceaad34"
      },
      "source": [
        "from sklearn.metrics import confusion_matrix\r\n",
        "mat=confusion_matrix(predictions, y_test)\r\n",
        "print(mat)"
      ],
      "execution_count": 33,
      "outputs": [
        {
          "output_type": "stream",
          "text": [
            "[[29  9]\n",
            " [16  5]]\n"
          ],
          "name": "stdout"
        }
      ]
    },
    {
      "cell_type": "code",
      "metadata": {
        "colab": {
          "base_uri": "https://localhost:8080/"
        },
        "id": "SonA3dNWc4Yc",
        "outputId": "6e85d646-0146-4937-93be-b33d58ac8835"
      },
      "source": [
        "from sklearn.linear_model import LogisticRegression\r\n",
        "log = LogisticRegression(max_iter=10000)\r\n",
        "log.fit(x_train, y_train)"
      ],
      "execution_count": 40,
      "outputs": [
        {
          "output_type": "execute_result",
          "data": {
            "text/plain": [
              "LogisticRegression(max_iter=10000)"
            ]
          },
          "metadata": {
            "tags": []
          },
          "execution_count": 40
        }
      ]
    },
    {
      "cell_type": "code",
      "metadata": {
        "colab": {
          "base_uri": "https://localhost:8080/"
        },
        "id": "B8CbR3svc8Vw",
        "outputId": "deeb0e1c-ba28-4eec-a11f-6cf2ac3f994e"
      },
      "source": [
        "print(\"The Training accuracy of the model is {:.2f}\".format(log.score(x_train, y_train)))\r\n",
        "print(\"The Testing accuracy of the model is {:.2f}\".format(log.score(x_test, y_test)))"
      ],
      "execution_count": 41,
      "outputs": [
        {
          "output_type": "stream",
          "text": [
            "The Training accuracy of the model is 0.74\n",
            "The Testing accuracy of the model is 0.76\n"
          ],
          "name": "stdout"
        }
      ]
    },
    {
      "cell_type": "code",
      "metadata": {
        "id": "FSJCy4dZda1E"
      },
      "source": [
        "from sklearn.decomposition import PCA \r\n",
        "pca = PCA(n_components=6)"
      ],
      "execution_count": 85,
      "outputs": []
    },
    {
      "cell_type": "code",
      "metadata": {
        "colab": {
          "base_uri": "https://localhost:8080/"
        },
        "id": "SkN3EhRYeMVR",
        "outputId": "b12e6553-dbd8-4070-871d-b4bd4c79f844"
      },
      "source": [
        "principal_components= pca.fit_transform(heart)\r\n",
        "print(principal_components)"
      ],
      "execution_count": 86,
      "outputs": [
        {
          "output_type": "stream",
          "text": [
            "[[ 3.66271909e+02  7.28189037e+03  3.55246056e+00  1.83485072e+00\n",
            "   2.69719435e+00 -2.21131748e-01]\n",
            " [-1.00993440e+05 -4.10985763e+02 -1.02733544e+01 -1.51865360e+01\n",
            "   6.00128345e+00 -4.42543218e-01]\n",
            " [-5.29934482e+04 -4.56444524e+02 -2.08312384e+01 -4.65394534e+00\n",
            "  -1.58357053e+00  7.89849711e-01]\n",
            " ...\n",
            " [ 4.79006965e+05  1.37643657e+03  4.51531265e+00  2.14551720e+01\n",
            "   1.56661284e+00 -2.87804457e-01]\n",
            " [-1.22992944e+05  1.86082555e+03 -9.07705410e+00  1.19157884e+01\n",
            "  -2.67141128e+00  2.90103966e-01]\n",
            " [ 1.32006566e+05 -4.11832095e+02 -3.71934965e+00  1.11872705e+01\n",
            "   1.46112804e+00  2.97921748e-01]]\n"
          ],
          "name": "stdout"
        }
      ]
    },
    {
      "cell_type": "code",
      "metadata": {
        "colab": {
          "base_uri": "https://localhost:8080/"
        },
        "id": "73L09aqheUH9",
        "outputId": "d4226b4e-b3f6-49b3-f005-2a2005babc57"
      },
      "source": [
        "sum(pca.explained_variance_ratio_)"
      ],
      "execution_count": 87,
      "outputs": [
        {
          "output_type": "execute_result",
          "data": {
            "text/plain": [
              "0.9999999998620583"
            ]
          },
          "metadata": {
            "tags": []
          },
          "execution_count": 87
        }
      ]
    },
    {
      "cell_type": "code",
      "metadata": {
        "colab": {
          "base_uri": "https://localhost:8080/"
        },
        "id": "w7aO2dE3q2Ma",
        "outputId": "5fbf821f-80d8-4df9-effa-336d5044fbe8"
      },
      "source": [
        "principal_df = pd.DataFrame(data=principal_components, columns=[\"principle component 1\", \"principle component 2\", \"principle component 3\", \"principle component 4\", \"principle component 5\", \"principle component 6\"])\r\n",
        "#principal_df.head()\r\n",
        "main_df=pd.concat([principal_df,heart[\"DEATH_EVENT\"]], axis=1)\r\n",
        "main_df = main_df.iloc[1:]\r\n",
        "print(main_df)\r\n"
      ],
      "execution_count": 116,
      "outputs": [
        {
          "output_type": "stream",
          "text": [
            "     principle component 1  ...  DEATH_EVENT\n",
            "1           -100993.439555  ...          1.0\n",
            "2            -52993.448237  ...          1.0\n",
            "3             64006.559536  ...          1.0\n",
            "4            -58993.462128  ...          1.0\n",
            "5           -135993.416980  ...          1.0\n",
            "..                     ...  ...          ...\n",
            "293                    NaN  ...          0.0\n",
            "294                    NaN  ...          0.0\n",
            "296                    NaN  ...          0.0\n",
            "297                    NaN  ...          0.0\n",
            "298                    NaN  ...          0.0\n",
            "\n",
            "[297 rows x 7 columns]\n"
          ],
          "name": "stdout"
        }
      ]
    },
    {
      "cell_type": "code",
      "metadata": {
        "id": "B0KgVRdTwqro"
      },
      "source": [
        "main_df = main_df.dropna()"
      ],
      "execution_count": 117,
      "outputs": []
    },
    {
      "cell_type": "code",
      "metadata": {
        "id": "TWPyfcfiszFA"
      },
      "source": [
        "X = main_df.iloc[:, :-1]\r\n",
        "y = main_df.iloc[:, -1]"
      ],
      "execution_count": 118,
      "outputs": []
    },
    {
      "cell_type": "code",
      "metadata": {
        "id": "JOZgHMzuvR7z"
      },
      "source": [
        "x_train, x_test, y_train, y_test = train_test_split(X , y , test_size=0.2, random_state=42)"
      ],
      "execution_count": 119,
      "outputs": []
    },
    {
      "cell_type": "code",
      "metadata": {
        "colab": {
          "base_uri": "https://localhost:8080/"
        },
        "id": "CFivZt2Gwxhz",
        "outputId": "570f7891-f45f-461b-c3b8-b6a59d8ef7e6"
      },
      "source": [
        "svc.fit(x_train, y_train)"
      ],
      "execution_count": 120,
      "outputs": [
        {
          "output_type": "execute_result",
          "data": {
            "text/plain": [
              "SVC(kernel='linear')"
            ]
          },
          "metadata": {
            "tags": []
          },
          "execution_count": 120
        }
      ]
    },
    {
      "cell_type": "code",
      "metadata": {
        "colab": {
          "base_uri": "https://localhost:8080/"
        },
        "id": "d3HTSJ3hxbEH",
        "outputId": "bd2352c5-a0e6-43e2-bc69-739d4ca0ccaf"
      },
      "source": [
        "print(\"Training accuracy of the model is {:.2f}\".format(svc.score(x_train, y_train)))\r\n",
        "print(\"Testing accuracy of the model is {:.2f}\".format(svc.score(x_test, y_test)))"
      ],
      "execution_count": 121,
      "outputs": [
        {
          "output_type": "stream",
          "text": [
            "Training accuracy of the model is 0.67\n",
            "Testing accuracy of the model is 0.72\n"
          ],
          "name": "stdout"
        }
      ]
    },
    {
      "cell_type": "code",
      "metadata": {
        "colab": {
          "base_uri": "https://localhost:8080/"
        },
        "id": "YQt9yyvMxiXE",
        "outputId": "6d59e3e7-fcee-4f5e-9066-851f0f1c28d8"
      },
      "source": [
        "rfc.fit(x_train, y_train)"
      ],
      "execution_count": 122,
      "outputs": [
        {
          "output_type": "execute_result",
          "data": {
            "text/plain": [
              "RandomForestClassifier(n_estimators=50)"
            ]
          },
          "metadata": {
            "tags": []
          },
          "execution_count": 122
        }
      ]
    },
    {
      "cell_type": "code",
      "metadata": {
        "colab": {
          "base_uri": "https://localhost:8080/"
        },
        "id": "KjNj1jJ5xmtD",
        "outputId": "88231865-1154-4971-9fde-25a80f655353"
      },
      "source": [
        "print(\"The Training accuracy of the model is {:.2f}\".format(rfc.score(x_train, y_train)))\r\n",
        "print(\"The Testing accuracy of the model is {:.2f}\".format(rfc.score(x_test, y_test)))"
      ],
      "execution_count": 123,
      "outputs": [
        {
          "output_type": "stream",
          "text": [
            "The Training accuracy of the model is 1.00\n",
            "The Testing accuracy of the model is 0.67\n"
          ],
          "name": "stdout"
        }
      ]
    },
    {
      "cell_type": "code",
      "metadata": {
        "colab": {
          "base_uri": "https://localhost:8080/"
        },
        "id": "EelgncO-xuZK",
        "outputId": "ed69b656-cceb-4708-adea-75495fa54f42"
      },
      "source": [
        "nnc.fit(x_train, y_train)"
      ],
      "execution_count": 124,
      "outputs": [
        {
          "output_type": "execute_result",
          "data": {
            "text/plain": [
              "MLPClassifier(hidden_layer_sizes=7, max_iter=10000)"
            ]
          },
          "metadata": {
            "tags": []
          },
          "execution_count": 124
        }
      ]
    },
    {
      "cell_type": "code",
      "metadata": {
        "colab": {
          "base_uri": "https://localhost:8080/"
        },
        "id": "qgA1Brkrx0wG",
        "outputId": "dfab4883-b745-4e71-b027-8e0aee194a23"
      },
      "source": [
        "print(\"The Training accuracy of the model is {:.2f}\".format(nnc.score(x_train, y_train)))\r\n",
        "print(\"The Testing accuracy of the model is {:.2f}\".format(nnc.score(x_test, y_test)))"
      ],
      "execution_count": 125,
      "outputs": [
        {
          "output_type": "stream",
          "text": [
            "The Training accuracy of the model is 0.48\n",
            "The Testing accuracy of the model is 0.55\n"
          ],
          "name": "stdout"
        }
      ]
    },
    {
      "cell_type": "code",
      "metadata": {
        "colab": {
          "base_uri": "https://localhost:8080/",
          "height": 283
        },
        "id": "bc1kYyOyyBt0",
        "outputId": "7bec1d61-3b72-4514-8e07-1e67110f326f"
      },
      "source": [
        "data = [[0.76],[0.72]]\r\n",
        "X = np.arange(1)\r\n",
        "plt.bar(X + 0.00, data[0], color = 'b', width = 0.25)\r\n",
        "plt.bar(X + 0.25, data[1], color = 'g', width = 0.25)"
      ],
      "execution_count": 132,
      "outputs": [
        {
          "output_type": "execute_result",
          "data": {
            "text/plain": [
              "<BarContainer object of 1 artists>"
            ]
          },
          "metadata": {
            "tags": []
          },
          "execution_count": 132
        },
        {
          "output_type": "display_data",
          "data": {
            "image/png": "[encoded data removed]",
            "text/plain": [
              "<Figure size 432x288 with 1 Axes>"
            ]
          },
          "metadata": {
            "tags": [],
            "needs_background": "light"
          }
        }
      ]
    },
    {
      "cell_type": "code",
      "metadata": {
        "colab": {
          "base_uri": "https://localhost:8080/",
          "height": 283
        },
        "id": "p78VertVzgtD",
        "outputId": "e9ff0633-0742-4cf3-c690-8c581dc4fd05"
      },
      "source": [
        "data = [[0.78],[0.67]]\r\n",
        "X = np.arange(1)\r\n",
        "plt.bar(X + 0.00, data[0], color = 'b', width = 0.25)\r\n",
        "plt.bar(X + 0.25, data[1], color = 'g', width = 0.25)"
      ],
      "execution_count": 133,
      "outputs": [
        {
          "output_type": "execute_result",
          "data": {
            "text/plain": [
              "<BarContainer object of 1 artists>"
            ]
          },
          "metadata": {
            "tags": []
          },
          "execution_count": 133
        },
        {
          "output_type": "display_data",
          "data": {
            "image/png": "[encoded data removed]",
            "text/plain": [
              "<Figure size 432x288 with 1 Axes>"
            ]
          },
          "metadata": {
            "tags": [],
            "needs_background": "light"
          }
        }
      ]
    },
    {
      "cell_type": "code",
      "metadata": {
        "colab": {
          "base_uri": "https://localhost:8080/",
          "height": 283
        },
        "id": "5yBXbtz0zi6m",
        "outputId": "c82c4449-ce2e-433e-c091-55b97b0859bd"
      },
      "source": [
        "data = [[0.58],[0.55]]\r\n",
        "X = np.arange(1)\r\n",
        "plt.bar(X + 0.00, data[0], color = 'b', width = 0.25)\r\n",
        "plt.bar(X + 0.25, data[1], color = 'g', width = 0.25)"
      ],
      "execution_count": 134,
      "outputs": [
        {
          "output_type": "execute_result",
          "data": {
            "text/plain": [
              "<BarContainer object of 1 artists>"
            ]
          },
          "metadata": {
            "tags": []
          },
          "execution_count": 134
        },
        {
          "output_type": "display_data",
          "data": {
            "image/png": "[encoded data removed]",
            "text/plain": [
              "<Figure size 432x288 with 1 Axes>"
            ]
          },
          "metadata": {
            "tags": [],
            "needs_background": "light"
          }
        }
      ]
    }
  ]
}