{
  "nbformat": 4,
  "nbformat_minor": 0,
  "metadata": {
    "colab": {
      "name": "Lab03_AlphaBetaPruning.ipynb",
      "provenance": []
    },
    "kernelspec": {
      "name": "python3",
      "display_name": "Python 3"
    }
  },
  "cells": [
    {
      "cell_type": "code",
      "metadata": {
        "colab": {
          "base_uri": "https://localhost:8080/"
        },
        "id": "Rsfij-q5W18D",
        "outputId": "d6694ff9-0b55-49ca-f305-1b5911165f01"
      },
      "source": [
        "turns = int(input(\"Enter number of turns: \"))\n",
        "depth = turns * 2"
      ],
      "execution_count": null,
      "outputs": [
        {
          "output_type": "stream",
          "text": [
            "Enter number of turns: 1\n"
          ],
          "name": "stdout"
        }
      ]
    },
    {
      "cell_type": "code",
      "metadata": {
        "colab": {
          "base_uri": "https://localhost:8080/"
        },
        "id": "C6MqcbIIZJhV",
        "outputId": "85eb55b9-9096-4ef8-c5db-1ab994a91bf9"
      },
      "source": [
        "branch = int(input(\"Enter number of branches per node: \"))\n",
        "\n",
        "#value for the range of leaf nodes\n",
        "minimum = int(input(\"Minimum value: \"))\n",
        "maximum = int(input(\"Maximum Value: \"))\n",
        "\n",
        "#leaf nodes\n",
        "terminal_states = branch ** depth"
      ],
      "execution_count": null,
      "outputs": [
        {
          "output_type": "stream",
          "text": [
            "Enter number of branches per node: 3\n",
            "Minimum value: 1\n",
            "Maximum Value: 20\n"
          ],
          "name": "stdout"
        }
      ]
    },
    {
      "cell_type": "code",
      "metadata": {
        "colab": {
          "base_uri": "https://localhost:8080/"
        },
        "id": "NQanl9Spp5Vi",
        "outputId": "9db8f654-e041-45e8-f45e-46f4cd4c825b"
      },
      "source": [
        "score = []\n",
        "for i in range(terminal_states):\n",
        "  y = int(input(\"Enter node value: \"))\n",
        "  if y>=minimum and y<=maximum:\n",
        "    score.append(y)"
      ],
      "execution_count": null,
      "outputs": [
        {
          "output_type": "stream",
          "text": [
            "Enter node value: 3\n",
            "Enter node value: 12\n",
            "Enter node value: 8\n",
            "Enter node value: 2\n",
            "Enter node value: 4\n",
            "Enter node value: 6\n",
            "Enter node value: 14\n",
            "Enter node value: 5\n",
            "Enter node value: 2\n"
          ],
          "name": "stdout"
        }
      ]
    },
    {
      "cell_type": "code",
      "metadata": {
        "id": "MdJ04xTCrXIK"
      },
      "source": [
        "alpha = 1000\n",
        "beta = -1000\n",
        "pruneCount = 0\n",
        "def alpha_beta(depth, node, score, maximizingPlayer, alpha, beta):\n",
        "  global pruneCount\n",
        "  if depth==0 or node==None:\n",
        "    return score[node]\n",
        "\n",
        "  if maximizingPlayer:\n",
        "    maxEval = -100000\n",
        "    for child in range(depth):\n",
        "      n = (node*2)+child\n",
        "      value = alpha_beta(depth-1, n, score, False, alpha, beta)\n",
        "      maxEval = max(maxEval,value)\n",
        "      alpha = max(alpha,value)\n",
        "      if beta <= alpha:\n",
        "        pruneCount += 1\n",
        "        break\n",
        "    return maxEval\n",
        "  \n",
        "  else:\n",
        "    minEval = 100000\n",
        "    for child in range(depth):\n",
        "      n = (node*2)+child\n",
        "      value = alpha_beta(depth-1, n, score, True, alpha, beta)\n",
        "      minEval = min(minEval,value)\n",
        "      beta = min(beta,value)\n",
        "      if beta <= alpha:\n",
        "        pruneCount += 1\n",
        "        break\n",
        "    return minEval\n",
        "      \n",
        "\n",
        "\n"
      ],
      "execution_count": null,
      "outputs": []
    },
    {
      "cell_type": "code",
      "metadata": {
        "colab": {
          "base_uri": "https://localhost:8080/"
        },
        "id": "W_OTYeW7fk1q",
        "outputId": "33bc6785-7caa-404b-9331-e58776fe6f27"
      },
      "source": [
        "#Sample Output\n",
        "print(\"Depth:\",depth)\n",
        "print(\"Branch:\",branch)\n",
        "print(\"Terminal States (Leaf Nodes):\",terminal_states)\n",
        "\n",
        "x = alpha_beta(depth, node, score, True, alpha, beta)\n",
        "print(\"Maximum amount:\",x)\n",
        "\n",
        "print(\"Comparisons Before Alpha-Beta Pruning: \",terminal_states)\n",
        "\n",
        "y = terminal_states - pruneCount\n",
        "print(\"Comparisons After Alpha-Beta Pruning: \",y)\n",
        "\n",
        "#print(pruneCount)\n"
      ],
      "execution_count": null,
      "outputs": [
        {
          "output_type": "stream",
          "text": [
            "Depth: 2\n",
            "Branch: 3\n",
            "Terminal States (Leaf Nodes): 9\n",
            "Maximum amount: 3\n",
            "Comparisons Before Alpha-Beta Pruning:  9\n",
            "Comparisons After Alpha-Beta Pruning:  7\n",
            "2\n"
          ],
          "name": "stdout"
        }
      ]
    }
  ]
}