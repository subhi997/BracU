{
  "nbformat": 4,
  "nbformat_minor": 0,
  "metadata": {
    "colab": {
      "name": "Lab05.ipynb",
      "provenance": []
    },
    "kernelspec": {
      "name": "python3",
      "display_name": "Python 3"
    },
    "language_info": {
      "name": "python"
    }
  },
  "cells": [
    {
      "cell_type": "code",
      "metadata": {
        "id": "4e9yRM4O_Y5F"
      },
      "source": [
        "#importing libraries\n",
        "import pandas as pd\n",
        "import numpy as np"
      ],
      "execution_count": null,
      "outputs": []
    },
    {
      "cell_type": "code",
      "metadata": {
        "colab": {
          "base_uri": "https://localhost:8080/",
          "height": 179
        },
        "id": "0D10Ie6G_d7_",
        "outputId": "fba7f7fb-068f-43d3-f461-e58c5fd49aa0"
      },
      "source": [
        "heart_dataset = pd.read_csv('/content/sample_data/heart failur classification dataset.csv')\n",
        "heart_dataset.head(3)"
      ],
      "execution_count": null,
      "outputs": [
        {
          "output_type": "execute_result",
          "data": {
            "text/html": [
              "<div>\n",
              "<style scoped>\n",
              "    .dataframe tbody tr th:only-of-type {\n",
              "        vertical-align: middle;\n",
              "    }\n",
              "\n",
              "    .dataframe tbody tr th {\n",
              "        vertical-align: top;\n",
              "    }\n",
              "\n",
              "    .dataframe thead th {\n",
              "        text-align: right;\n",
              "    }\n",
              "</style>\n",
              "<table border=\"1\" class=\"dataframe\">\n",
              "  <thead>\n",
              "    <tr style=\"text-align: right;\">\n",
              "      <th></th>\n",
              "      <th>Unnamed: 0</th>\n",
              "      <th>age</th>\n",
              "      <th>anaemia</th>\n",
              "      <th>creatinine_phosphokinase</th>\n",
              "      <th>diabetes</th>\n",
              "      <th>ejection_fraction</th>\n",
              "      <th>high_blood_pressure</th>\n",
              "      <th>platelets</th>\n",
              "      <th>serum_creatinine</th>\n",
              "      <th>serum_sodium</th>\n",
              "      <th>sex</th>\n",
              "      <th>smoking</th>\n",
              "      <th>time</th>\n",
              "      <th>DEATH_EVENT</th>\n",
              "    </tr>\n",
              "  </thead>\n",
              "  <tbody>\n",
              "    <tr>\n",
              "      <th>0</th>\n",
              "      <td>0</td>\n",
              "      <td>75.0</td>\n",
              "      <td>0</td>\n",
              "      <td>582</td>\n",
              "      <td>0</td>\n",
              "      <td>20</td>\n",
              "      <td>1</td>\n",
              "      <td>265000.00</td>\n",
              "      <td>1.9</td>\n",
              "      <td>NaN</td>\n",
              "      <td>Male</td>\n",
              "      <td>No</td>\n",
              "      <td>4.0</td>\n",
              "      <td>1</td>\n",
              "    </tr>\n",
              "    <tr>\n",
              "      <th>1</th>\n",
              "      <td>1</td>\n",
              "      <td>55.0</td>\n",
              "      <td>0</td>\n",
              "      <td>7861</td>\n",
              "      <td>0</td>\n",
              "      <td>38</td>\n",
              "      <td>0</td>\n",
              "      <td>263358.03</td>\n",
              "      <td>1.1</td>\n",
              "      <td>136.0</td>\n",
              "      <td>Male</td>\n",
              "      <td>No</td>\n",
              "      <td>6.0</td>\n",
              "      <td>1</td>\n",
              "    </tr>\n",
              "    <tr>\n",
              "      <th>2</th>\n",
              "      <td>2</td>\n",
              "      <td>65.0</td>\n",
              "      <td>0</td>\n",
              "      <td>146</td>\n",
              "      <td>0</td>\n",
              "      <td>20</td>\n",
              "      <td>0</td>\n",
              "      <td>162000.00</td>\n",
              "      <td>1.3</td>\n",
              "      <td>129.0</td>\n",
              "      <td>Male</td>\n",
              "      <td>Yes</td>\n",
              "      <td>7.0</td>\n",
              "      <td>1</td>\n",
              "    </tr>\n",
              "  </tbody>\n",
              "</table>\n",
              "</div>"
            ],
            "text/plain": [
              "   Unnamed: 0   age  anaemia  ...  smoking  time  DEATH_EVENT\n",
              "0           0  75.0        0  ...       No   4.0            1\n",
              "1           1  55.0        0  ...       No   6.0            1\n",
              "2           2  65.0        0  ...      Yes   7.0            1\n",
              "\n",
              "[3 rows x 14 columns]"
            ]
          },
          "metadata": {
            "tags": []
          },
          "execution_count": 2
        }
      ]
    },
    {
      "cell_type": "code",
      "metadata": {
        "colab": {
          "base_uri": "https://localhost:8080/"
        },
        "id": "eKr-XVBT_pEn",
        "outputId": "fd62e712-0407-4b21-cda6-4b566df43228"
      },
      "source": [
        "heart_dataset.shape"
      ],
      "execution_count": null,
      "outputs": [
        {
          "output_type": "execute_result",
          "data": {
            "text/plain": [
              "(299, 14)"
            ]
          },
          "metadata": {
            "tags": []
          },
          "execution_count": 3
        }
      ]
    },
    {
      "cell_type": "code",
      "metadata": {
        "colab": {
          "base_uri": "https://localhost:8080/"
        },
        "id": "RLnMtz7o_sRX",
        "outputId": "e8c73060-8d6f-4fc4-8da0-4a8fb474c14f"
      },
      "source": [
        "heart_dataset.isnull().sum()"
      ],
      "execution_count": null,
      "outputs": [
        {
          "output_type": "execute_result",
          "data": {
            "text/plain": [
              "Unnamed: 0                  0\n",
              "age                         0\n",
              "anaemia                     0\n",
              "creatinine_phosphokinase    0\n",
              "diabetes                    0\n",
              "ejection_fraction           0\n",
              "high_blood_pressure         0\n",
              "platelets                   0\n",
              "serum_creatinine            0\n",
              "serum_sodium                6\n",
              "sex                         0\n",
              "smoking                     0\n",
              "time                        7\n",
              "DEATH_EVENT                 0\n",
              "dtype: int64"
            ]
          },
          "metadata": {
            "tags": []
          },
          "execution_count": 4
        }
      ]
    },
    {
      "cell_type": "markdown",
      "metadata": {
        "id": "cf3BZVMD_2qw"
      },
      "source": [
        "dropping columns\n"
      ]
    },
    {
      "cell_type": "code",
      "metadata": {
        "colab": {
          "base_uri": "https://localhost:8080/"
        },
        "id": "UMX_Q4Oe_4nC",
        "outputId": "dafdc46c-8cf9-4aaf-b9c9-f3c98d8b4133"
      },
      "source": [
        "heart_dataset = heart_dataset.drop(['time'], axis = 1)\n",
        "heart_dataset.shape\n",
        "heart_dataset.isnull().sum()"
      ],
      "execution_count": null,
      "outputs": [
        {
          "output_type": "execute_result",
          "data": {
            "text/plain": [
              "Unnamed: 0                  0\n",
              "age                         0\n",
              "anaemia                     0\n",
              "creatinine_phosphokinase    0\n",
              "diabetes                    0\n",
              "ejection_fraction           0\n",
              "high_blood_pressure         0\n",
              "platelets                   0\n",
              "serum_creatinine            0\n",
              "serum_sodium                6\n",
              "sex                         0\n",
              "smoking                     0\n",
              "DEATH_EVENT                 0\n",
              "dtype: int64"
            ]
          },
          "metadata": {
            "tags": []
          },
          "execution_count": 5
        }
      ]
    },
    {
      "cell_type": "markdown",
      "metadata": {
        "id": "kKR7ojzFAQvZ"
      },
      "source": [
        "dropping rows"
      ]
    },
    {
      "cell_type": "code",
      "metadata": {
        "colab": {
          "base_uri": "https://localhost:8080/"
        },
        "id": "hoWbJ6oJASOg",
        "outputId": "f8057cc6-0b15-417d-d148-64ec34e0d11d"
      },
      "source": [
        "# Check how many values are missing in the serum_sodium column\n",
        "print(\"Number of rows with null values in serum_sodium column: \", heart_dataset['serum_sodium'].isnull().sum())\n",
        "# Subset the heart dataset\n",
        "heart_dataset_subset = heart_dataset[heart_dataset['serum_sodium'].notnull()]\n",
        "# Print out the shape of the subset\n",
        "print(\"Shape after removing null values: \", heart_dataset_subset.shape)\n"
      ],
      "execution_count": null,
      "outputs": [
        {
          "output_type": "stream",
          "text": [
            "Number of rows with null values in serum_sodium column:  6\n",
            "Shape after removing null values:  (293, 13)\n"
          ],
          "name": "stdout"
        }
      ]
    },
    {
      "cell_type": "code",
      "metadata": {
        "colab": {
          "base_uri": "https://localhost:8080/"
        },
        "id": "y3on9mHfBOkF",
        "outputId": "8033723a-6ca8-4efe-9a25-17e29a5325b2"
      },
      "source": [
        "print(\"Shape of dataframe before dropping:\", heart_dataset.shape)\n",
        "heart_dataset = heart_dataset.dropna(axis = 0, subset = ['serum_sodium'])\n",
        "print(\"Shape after dropping:\", heart_dataset.shape)"
      ],
      "execution_count": null,
      "outputs": [
        {
          "output_type": "stream",
          "text": [
            "Shape of dataframe before dropping: (299, 13)\n",
            "Shape after dropping: (293, 13)\n"
          ],
          "name": "stdout"
        }
      ]
    },
    {
      "cell_type": "markdown",
      "metadata": {
        "id": "bEBIIN7uB-PE"
      },
      "source": [
        "Encoding Categorical Features"
      ]
    },
    {
      "cell_type": "code",
      "metadata": {
        "colab": {
          "base_uri": "https://localhost:8080/"
        },
        "id": "66ngyG6hCA6c",
        "outputId": "8e72c22f-f7c3-4869-f0ec-0813e3502b80"
      },
      "source": [
        "heart_dataset.info()"
      ],
      "execution_count": null,
      "outputs": [
        {
          "output_type": "stream",
          "text": [
            "<class 'pandas.core.frame.DataFrame'>\n",
            "Int64Index: 293 entries, 1 to 298\n",
            "Data columns (total 13 columns):\n",
            " #   Column                    Non-Null Count  Dtype  \n",
            "---  ------                    --------------  -----  \n",
            " 0   Unnamed: 0                293 non-null    int64  \n",
            " 1   age                       293 non-null    float64\n",
            " 2   anaemia                   293 non-null    int64  \n",
            " 3   creatinine_phosphokinase  293 non-null    int64  \n",
            " 4   diabetes                  293 non-null    int64  \n",
            " 5   ejection_fraction         293 non-null    int64  \n",
            " 6   high_blood_pressure       293 non-null    int64  \n",
            " 7   platelets                 293 non-null    float64\n",
            " 8   serum_creatinine          293 non-null    float64\n",
            " 9   serum_sodium              293 non-null    float64\n",
            " 10  sex                       293 non-null    object \n",
            " 11  smoking                   293 non-null    object \n",
            " 12  DEATH_EVENT               293 non-null    int64  \n",
            "dtypes: float64(4), int64(7), object(2)\n",
            "memory usage: 32.0+ KB\n"
          ],
          "name": "stdout"
        }
      ]
    },
    {
      "cell_type": "code",
      "metadata": {
        "colab": {
          "base_uri": "https://localhost:8080/"
        },
        "id": "8hPcDhihCWfW",
        "outputId": "579591cd-543a-4e71-81e8-48cde22bf411"
      },
      "source": [
        "heart_dataset['sex'].unique()\n",
        "heart_dataset['smoking'].unique()"
      ],
      "execution_count": null,
      "outputs": [
        {
          "output_type": "execute_result",
          "data": {
            "text/plain": [
              "array(['No', 'Yes'], dtype=object)"
            ]
          },
          "metadata": {
            "tags": []
          },
          "execution_count": 9
        }
      ]
    },
    {
      "cell_type": "code",
      "metadata": {
        "colab": {
          "base_uri": "https://localhost:8080/",
          "height": 456
        },
        "id": "PLe_uwAFCkzy",
        "outputId": "8b5241d3-4c14-4294-b763-0af4bace39dd"
      },
      "source": [
        "from sklearn.preprocessing import LabelEncoder\n",
        "\n",
        "# Set up the LabelEncoder object\n",
        "enc = LabelEncoder()\n",
        "heart_dataset['sex']= enc.fit_transform(heart_dataset['sex'])\n",
        "heart_dataset['smoking']= enc.fit_transform(heart_dataset['smoking'])\n",
        "heart_dataset"
      ],
      "execution_count": null,
      "outputs": [
        {
          "output_type": "execute_result",
          "data": {
            "text/html": [
              "<div>\n",
              "<style scoped>\n",
              "    .dataframe tbody tr th:only-of-type {\n",
              "        vertical-align: middle;\n",
              "    }\n",
              "\n",
              "    .dataframe tbody tr th {\n",
              "        vertical-align: top;\n",
              "    }\n",
              "\n",
              "    .dataframe thead th {\n",
              "        text-align: right;\n",
              "    }\n",
              "</style>\n",
              "<table border=\"1\" class=\"dataframe\">\n",
              "  <thead>\n",
              "    <tr style=\"text-align: right;\">\n",
              "      <th></th>\n",
              "      <th>Unnamed: 0</th>\n",
              "      <th>age</th>\n",
              "      <th>anaemia</th>\n",
              "      <th>creatinine_phosphokinase</th>\n",
              "      <th>diabetes</th>\n",
              "      <th>ejection_fraction</th>\n",
              "      <th>high_blood_pressure</th>\n",
              "      <th>platelets</th>\n",
              "      <th>serum_creatinine</th>\n",
              "      <th>serum_sodium</th>\n",
              "      <th>sex</th>\n",
              "      <th>smoking</th>\n",
              "      <th>DEATH_EVENT</th>\n",
              "    </tr>\n",
              "  </thead>\n",
              "  <tbody>\n",
              "    <tr>\n",
              "      <th>1</th>\n",
              "      <td>1</td>\n",
              "      <td>55.0</td>\n",
              "      <td>0</td>\n",
              "      <td>7861</td>\n",
              "      <td>0</td>\n",
              "      <td>38</td>\n",
              "      <td>0</td>\n",
              "      <td>263358.03</td>\n",
              "      <td>1.1</td>\n",
              "      <td>136.0</td>\n",
              "      <td>1</td>\n",
              "      <td>0</td>\n",
              "      <td>1</td>\n",
              "    </tr>\n",
              "    <tr>\n",
              "      <th>2</th>\n",
              "      <td>2</td>\n",
              "      <td>65.0</td>\n",
              "      <td>0</td>\n",
              "      <td>146</td>\n",
              "      <td>0</td>\n",
              "      <td>20</td>\n",
              "      <td>0</td>\n",
              "      <td>162000.00</td>\n",
              "      <td>1.3</td>\n",
              "      <td>129.0</td>\n",
              "      <td>1</td>\n",
              "      <td>1</td>\n",
              "      <td>1</td>\n",
              "    </tr>\n",
              "    <tr>\n",
              "      <th>3</th>\n",
              "      <td>3</td>\n",
              "      <td>50.0</td>\n",
              "      <td>1</td>\n",
              "      <td>111</td>\n",
              "      <td>0</td>\n",
              "      <td>20</td>\n",
              "      <td>0</td>\n",
              "      <td>210000.00</td>\n",
              "      <td>1.9</td>\n",
              "      <td>137.0</td>\n",
              "      <td>1</td>\n",
              "      <td>0</td>\n",
              "      <td>1</td>\n",
              "    </tr>\n",
              "    <tr>\n",
              "      <th>4</th>\n",
              "      <td>4</td>\n",
              "      <td>65.0</td>\n",
              "      <td>1</td>\n",
              "      <td>160</td>\n",
              "      <td>1</td>\n",
              "      <td>20</td>\n",
              "      <td>0</td>\n",
              "      <td>327000.00</td>\n",
              "      <td>2.7</td>\n",
              "      <td>116.0</td>\n",
              "      <td>0</td>\n",
              "      <td>0</td>\n",
              "      <td>1</td>\n",
              "    </tr>\n",
              "    <tr>\n",
              "      <th>5</th>\n",
              "      <td>5</td>\n",
              "      <td>90.0</td>\n",
              "      <td>1</td>\n",
              "      <td>47</td>\n",
              "      <td>0</td>\n",
              "      <td>40</td>\n",
              "      <td>1</td>\n",
              "      <td>204000.00</td>\n",
              "      <td>2.1</td>\n",
              "      <td>132.0</td>\n",
              "      <td>1</td>\n",
              "      <td>1</td>\n",
              "      <td>1</td>\n",
              "    </tr>\n",
              "    <tr>\n",
              "      <th>...</th>\n",
              "      <td>...</td>\n",
              "      <td>...</td>\n",
              "      <td>...</td>\n",
              "      <td>...</td>\n",
              "      <td>...</td>\n",
              "      <td>...</td>\n",
              "      <td>...</td>\n",
              "      <td>...</td>\n",
              "      <td>...</td>\n",
              "      <td>...</td>\n",
              "      <td>...</td>\n",
              "      <td>...</td>\n",
              "      <td>...</td>\n",
              "    </tr>\n",
              "    <tr>\n",
              "      <th>293</th>\n",
              "      <td>293</td>\n",
              "      <td>63.0</td>\n",
              "      <td>1</td>\n",
              "      <td>103</td>\n",
              "      <td>1</td>\n",
              "      <td>35</td>\n",
              "      <td>0</td>\n",
              "      <td>179000.00</td>\n",
              "      <td>0.9</td>\n",
              "      <td>136.0</td>\n",
              "      <td>1</td>\n",
              "      <td>1</td>\n",
              "      <td>0</td>\n",
              "    </tr>\n",
              "    <tr>\n",
              "      <th>294</th>\n",
              "      <td>294</td>\n",
              "      <td>62.0</td>\n",
              "      <td>0</td>\n",
              "      <td>61</td>\n",
              "      <td>1</td>\n",
              "      <td>38</td>\n",
              "      <td>1</td>\n",
              "      <td>155000.00</td>\n",
              "      <td>1.1</td>\n",
              "      <td>143.0</td>\n",
              "      <td>1</td>\n",
              "      <td>1</td>\n",
              "      <td>0</td>\n",
              "    </tr>\n",
              "    <tr>\n",
              "      <th>296</th>\n",
              "      <td>296</td>\n",
              "      <td>45.0</td>\n",
              "      <td>0</td>\n",
              "      <td>2060</td>\n",
              "      <td>1</td>\n",
              "      <td>60</td>\n",
              "      <td>0</td>\n",
              "      <td>742000.00</td>\n",
              "      <td>0.8</td>\n",
              "      <td>138.0</td>\n",
              "      <td>0</td>\n",
              "      <td>0</td>\n",
              "      <td>0</td>\n",
              "    </tr>\n",
              "    <tr>\n",
              "      <th>297</th>\n",
              "      <td>297</td>\n",
              "      <td>45.0</td>\n",
              "      <td>0</td>\n",
              "      <td>2413</td>\n",
              "      <td>0</td>\n",
              "      <td>38</td>\n",
              "      <td>0</td>\n",
              "      <td>140000.00</td>\n",
              "      <td>1.4</td>\n",
              "      <td>140.0</td>\n",
              "      <td>1</td>\n",
              "      <td>1</td>\n",
              "      <td>0</td>\n",
              "    </tr>\n",
              "    <tr>\n",
              "      <th>298</th>\n",
              "      <td>298</td>\n",
              "      <td>50.0</td>\n",
              "      <td>0</td>\n",
              "      <td>196</td>\n",
              "      <td>0</td>\n",
              "      <td>45</td>\n",
              "      <td>0</td>\n",
              "      <td>395000.00</td>\n",
              "      <td>1.6</td>\n",
              "      <td>136.0</td>\n",
              "      <td>1</td>\n",
              "      <td>1</td>\n",
              "      <td>0</td>\n",
              "    </tr>\n",
              "  </tbody>\n",
              "</table>\n",
              "<p>293 rows × 13 columns</p>\n",
              "</div>"
            ],
            "text/plain": [
              "     Unnamed: 0   age  anaemia  ...  sex  smoking  DEATH_EVENT\n",
              "1             1  55.0        0  ...    1        0            1\n",
              "2             2  65.0        0  ...    1        1            1\n",
              "3             3  50.0        1  ...    1        0            1\n",
              "4             4  65.0        1  ...    0        0            1\n",
              "5             5  90.0        1  ...    1        1            1\n",
              "..          ...   ...      ...  ...  ...      ...          ...\n",
              "293         293  63.0        1  ...    1        1            0\n",
              "294         294  62.0        0  ...    1        1            0\n",
              "296         296  45.0        0  ...    0        0            0\n",
              "297         297  45.0        0  ...    1        1            0\n",
              "298         298  50.0        0  ...    1        1            0\n",
              "\n",
              "[293 rows x 13 columns]"
            ]
          },
          "metadata": {
            "tags": []
          },
          "execution_count": 10
        }
      ]
    },
    {
      "cell_type": "markdown",
      "metadata": {
        "id": "qDXJH710C9Ew"
      },
      "source": [
        "Feature Scaling"
      ]
    },
    {
      "cell_type": "code",
      "metadata": {
        "id": "GL9Ath0VEg0W"
      },
      "source": [
        "from sklearn.model_selection import train_test_split\n",
        "y = pd.DataFrame(heart_dataset['DEATH_EVENT'])\n",
        "X_train, X_test, y_train, y_test = train_test_split(heart_dataset, heart_dataset['DEATH_EVENT'], test_size = 0.25, random_state=0, stratify = y)"
      ],
      "execution_count": null,
      "outputs": []
    },
    {
      "cell_type": "code",
      "metadata": {
        "colab": {
          "base_uri": "https://localhost:8080/"
        },
        "id": "Wxuj-4BzFLHm",
        "outputId": "4ff2154b-d4e4-4dba-d917-309ef9f789f9"
      },
      "source": [
        "print(\"X_train shape:\", X_train.shape)\n",
        "print(\"y_train shape:\", y_train.shape)\n",
        "print(\"X_test shape:\", X_test.shape)\n",
        "print(\"y_test shape:\", y_test.shape)"
      ],
      "execution_count": null,
      "outputs": [
        {
          "output_type": "stream",
          "text": [
            "X_train shape: (219, 13)\n",
            "y_train shape: (219,)\n",
            "X_test shape: (74, 13)\n",
            "y_test shape: (74,)\n"
          ],
          "name": "stdout"
        }
      ]
    },
    {
      "cell_type": "code",
      "metadata": {
        "colab": {
          "base_uri": "https://localhost:8080/"
        },
        "id": "1f-PfqMiDJQn",
        "outputId": "bd82ebb2-32e6-4a16-ae9d-dfc069f8780c"
      },
      "source": [
        "from sklearn.preprocessing import MinMaxScaler\n",
        "scaler = MinMaxScaler()\n",
        "scaler.fit(X_train)\n",
        "#transform data\n",
        "X_train_scaled = scaler.transform(X_train)  \n",
        "X_train_scaled"
      ],
      "execution_count": null,
      "outputs": [
        {
          "output_type": "execute_result",
          "data": {
            "text/plain": [
              "array([[0.39393939, 0.45454545, 1.        , ..., 0.        , 0.        ,\n",
              "        0.        ],\n",
              "       [0.18855219, 0.36363636, 1.        , ..., 1.        , 1.        ,\n",
              "        0.        ],\n",
              "       [0.003367  , 0.45454545, 0.        , ..., 1.        , 1.        ,\n",
              "        1.        ],\n",
              "       ...,\n",
              "       [0.64309764, 0.18181818, 1.        , ..., 1.        , 0.        ,\n",
              "        0.        ],\n",
              "       [0.01346801, 0.90909091, 1.        , ..., 1.        , 1.        ,\n",
              "        1.        ],\n",
              "       [0.49158249, 0.43636364, 0.        , ..., 1.        , 0.        ,\n",
              "        0.        ]])"
            ]
          },
          "metadata": {
            "tags": []
          },
          "execution_count": 13
        }
      ]
    },
    {
      "cell_type": "code",
      "metadata": {
        "colab": {
          "base_uri": "https://localhost:8080/"
        },
        "id": "7IZybk3BGGuO",
        "outputId": "e8c3d25c-89fb-4703-b230-aaa1fc7a9bf4"
      },
      "source": [
        "print(\"per-feature minimum before scaling:\\n {}\".format(X_train.min(axis=0)))\n",
        "print(\"per-feature maximum before scaling:\\n {}\".format(X_train.max(axis=0)))"
      ],
      "execution_count": null,
      "outputs": [
        {
          "output_type": "stream",
          "text": [
            "per-feature minimum before scaling:\n",
            " Unnamed: 0                      1.0\n",
            "age                            40.0\n",
            "anaemia                         0.0\n",
            "creatinine_phosphokinase       30.0\n",
            "diabetes                        0.0\n",
            "ejection_fraction              14.0\n",
            "high_blood_pressure             0.0\n",
            "platelets                   25100.0\n",
            "serum_creatinine                0.5\n",
            "serum_sodium                  113.0\n",
            "sex                             0.0\n",
            "smoking                         0.0\n",
            "DEATH_EVENT                     0.0\n",
            "dtype: float64\n",
            "per-feature maximum before scaling:\n",
            " Unnamed: 0                     298.0\n",
            "age                             95.0\n",
            "anaemia                          1.0\n",
            "creatinine_phosphokinase      7861.0\n",
            "diabetes                         1.0\n",
            "ejection_fraction               70.0\n",
            "high_blood_pressure              1.0\n",
            "platelets                   850000.0\n",
            "serum_creatinine                 9.4\n",
            "serum_sodium                   148.0\n",
            "sex                              1.0\n",
            "smoking                          1.0\n",
            "DEATH_EVENT                      1.0\n",
            "dtype: float64\n"
          ],
          "name": "stdout"
        }
      ]
    },
    {
      "cell_type": "code",
      "metadata": {
        "colab": {
          "base_uri": "https://localhost:8080/"
        },
        "id": "dMhIEGbbGKmg",
        "outputId": "d5ebd98e-bbd4-4b2b-a4fe-bbdd576c2cb4"
      },
      "source": [
        "print(\"per-feature minimum after scaling:\\n {}\".format(\n",
        "    X_train_scaled.min(axis=0)))\n",
        "print(\"per-feature maximum after scaling:\\n {}\".format(\n",
        "    X_train_scaled.max(axis=0)))"
      ],
      "execution_count": null,
      "outputs": [
        {
          "output_type": "stream",
          "text": [
            "per-feature minimum after scaling:\n",
            " [0. 0. 0. 0. 0. 0. 0. 0. 0. 0. 0. 0. 0.]\n",
            "per-feature maximum after scaling:\n",
            " [1. 1. 1. 1. 1. 1. 1. 1. 1. 1. 1. 1. 1.]\n"
          ],
          "name": "stdout"
        }
      ]
    },
    {
      "cell_type": "code",
      "metadata": {
        "id": "fm8rxFioGOYZ"
      },
      "source": [
        "# transform test data\n",
        "X_test_scaled = scaler.transform(X_test)"
      ],
      "execution_count": null,
      "outputs": []
    },
    {
      "cell_type": "code",
      "metadata": {
        "colab": {
          "base_uri": "https://localhost:8080/"
        },
        "id": "IxvhDfELGtRI",
        "outputId": "40f45a30-0067-4bb4-fd9f-ced41c542978"
      },
      "source": [
        "from sklearn.neighbors import KNeighborsClassifier\n",
        "knn=KNeighborsClassifier()\n",
        "scaler = MinMaxScaler()\n",
        "scaler.fit(X_train)\n",
        "#train\n",
        "knn.fit(X_train_scaled, y_train)\n",
        "\n",
        "# scoring on the scaled test set\n",
        "print(\"Scaled test set accuracy: {:.2f}\".format(knn.score(X_test_scaled, y_test)))"
      ],
      "execution_count": null,
      "outputs": [
        {
          "output_type": "stream",
          "text": [
            "Scaled test set accuracy: 1.00\n"
          ],
          "name": "stdout"
        }
      ]
    }
  ]
}