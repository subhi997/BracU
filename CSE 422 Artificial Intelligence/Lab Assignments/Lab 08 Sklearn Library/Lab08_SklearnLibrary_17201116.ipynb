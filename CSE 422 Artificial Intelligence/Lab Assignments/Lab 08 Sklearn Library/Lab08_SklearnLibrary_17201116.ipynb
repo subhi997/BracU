{
  "nbformat": 4,
  "nbformat_minor": 0,
  "metadata": {
    "colab": {
      "name": "Lab08_SklearnLibrary_17201116.ipynb",
      "provenance": []
    },
    "kernelspec": {
      "name": "python3",
      "display_name": "Python 3"
    },
    "language_info": {
      "name": "python"
    }
  },
  "cells": [
    {
      "cell_type": "code",
      "metadata": {
        "id": "Hn3QhrfI9EyQ"
      },
      "source": [
        "#importing libraries\n",
        "import numpy as np\n",
        "import pandas as pd\n",
        "import matplotlib.pyplot as plt\n",
        "%matplotlib inline "
      ],
      "execution_count": 331,
      "outputs": []
    },
    {
      "cell_type": "code",
      "metadata": {
        "colab": {
          "base_uri": "https://localhost:8080/",
          "height": 179
        },
        "id": "bCMwAjj43sH7",
        "outputId": "3ecae152-255d-4c37-d8bf-eb40cb5085d1"
      },
      "source": [
        "heart_dataset = pd.read_csv('/content/heart failur classification dataset.csv')\n",
        "heart_dataset.head(3)"
      ],
      "execution_count": 332,
      "outputs": [
        {
          "output_type": "execute_result",
          "data": {
            "text/html": [
              "<div>\n",
              "<style scoped>\n",
              "    .dataframe tbody tr th:only-of-type {\n",
              "        vertical-align: middle;\n",
              "    }\n",
              "\n",
              "    .dataframe tbody tr th {\n",
              "        vertical-align: top;\n",
              "    }\n",
              "\n",
              "    .dataframe thead th {\n",
              "        text-align: right;\n",
              "    }\n",
              "</style>\n",
              "<table border=\"1\" class=\"dataframe\">\n",
              "  <thead>\n",
              "    <tr style=\"text-align: right;\">\n",
              "      <th></th>\n",
              "      <th>Unnamed: 0</th>\n",
              "      <th>age</th>\n",
              "      <th>anaemia</th>\n",
              "      <th>creatinine_phosphokinase</th>\n",
              "      <th>diabetes</th>\n",
              "      <th>ejection_fraction</th>\n",
              "      <th>high_blood_pressure</th>\n",
              "      <th>platelets</th>\n",
              "      <th>serum_creatinine</th>\n",
              "      <th>serum_sodium</th>\n",
              "      <th>sex</th>\n",
              "      <th>smoking</th>\n",
              "      <th>time</th>\n",
              "      <th>DEATH_EVENT</th>\n",
              "    </tr>\n",
              "  </thead>\n",
              "  <tbody>\n",
              "    <tr>\n",
              "      <th>0</th>\n",
              "      <td>0</td>\n",
              "      <td>75.0</td>\n",
              "      <td>0</td>\n",
              "      <td>582</td>\n",
              "      <td>0</td>\n",
              "      <td>20</td>\n",
              "      <td>1</td>\n",
              "      <td>265000.00</td>\n",
              "      <td>1.9</td>\n",
              "      <td>NaN</td>\n",
              "      <td>Male</td>\n",
              "      <td>No</td>\n",
              "      <td>4.0</td>\n",
              "      <td>1</td>\n",
              "    </tr>\n",
              "    <tr>\n",
              "      <th>1</th>\n",
              "      <td>1</td>\n",
              "      <td>55.0</td>\n",
              "      <td>0</td>\n",
              "      <td>7861</td>\n",
              "      <td>0</td>\n",
              "      <td>38</td>\n",
              "      <td>0</td>\n",
              "      <td>263358.03</td>\n",
              "      <td>1.1</td>\n",
              "      <td>136.0</td>\n",
              "      <td>Male</td>\n",
              "      <td>No</td>\n",
              "      <td>6.0</td>\n",
              "      <td>1</td>\n",
              "    </tr>\n",
              "    <tr>\n",
              "      <th>2</th>\n",
              "      <td>2</td>\n",
              "      <td>65.0</td>\n",
              "      <td>0</td>\n",
              "      <td>146</td>\n",
              "      <td>0</td>\n",
              "      <td>20</td>\n",
              "      <td>0</td>\n",
              "      <td>162000.00</td>\n",
              "      <td>1.3</td>\n",
              "      <td>129.0</td>\n",
              "      <td>Male</td>\n",
              "      <td>Yes</td>\n",
              "      <td>7.0</td>\n",
              "      <td>1</td>\n",
              "    </tr>\n",
              "  </tbody>\n",
              "</table>\n",
              "</div>"
            ],
            "text/plain": [
              "   Unnamed: 0   age  anaemia  ...  smoking  time  DEATH_EVENT\n",
              "0           0  75.0        0  ...       No   4.0            1\n",
              "1           1  55.0        0  ...       No   6.0            1\n",
              "2           2  65.0        0  ...      Yes   7.0            1\n",
              "\n",
              "[3 rows x 14 columns]"
            ]
          },
          "metadata": {
            "tags": []
          },
          "execution_count": 332
        }
      ]
    },
    {
      "cell_type": "code",
      "metadata": {
        "colab": {
          "base_uri": "https://localhost:8080/"
        },
        "id": "GDIqqWBO4uUO",
        "outputId": "0e511e02-2bb4-4e93-d1c9-bd33669f0fa8"
      },
      "source": [
        "heart_dataset.shape"
      ],
      "execution_count": 333,
      "outputs": [
        {
          "output_type": "execute_result",
          "data": {
            "text/plain": [
              "(299, 14)"
            ]
          },
          "metadata": {
            "tags": []
          },
          "execution_count": 333
        }
      ]
    },
    {
      "cell_type": "code",
      "metadata": {
        "colab": {
          "base_uri": "https://localhost:8080/"
        },
        "id": "gb2W79-c4w4X",
        "outputId": "38174187-40ea-4bf4-d997-66dd2e757ce3"
      },
      "source": [
        "heart_dataset.isnull().sum()"
      ],
      "execution_count": 334,
      "outputs": [
        {
          "output_type": "execute_result",
          "data": {
            "text/plain": [
              "Unnamed: 0                  0\n",
              "age                         0\n",
              "anaemia                     0\n",
              "creatinine_phosphokinase    0\n",
              "diabetes                    0\n",
              "ejection_fraction           0\n",
              "high_blood_pressure         0\n",
              "platelets                   0\n",
              "serum_creatinine            0\n",
              "serum_sodium                6\n",
              "sex                         0\n",
              "smoking                     0\n",
              "time                        7\n",
              "DEATH_EVENT                 0\n",
              "dtype: int64"
            ]
          },
          "metadata": {
            "tags": []
          },
          "execution_count": 334
        }
      ]
    },
    {
      "cell_type": "code",
      "metadata": {
        "colab": {
          "base_uri": "https://localhost:8080/"
        },
        "id": "Bw1pNrER4zfM",
        "outputId": "272e9ec4-4c97-4a6f-a9c9-b5259e33bbdd"
      },
      "source": [
        "heart_dataset = heart_dataset.drop(['time'], axis = 1)\n",
        "heart_dataset = heart_dataset.drop(['serum_sodium'], axis = 1)\n",
        "heart_dataset.shape"
      ],
      "execution_count": 335,
      "outputs": [
        {
          "output_type": "execute_result",
          "data": {
            "text/plain": [
              "(299, 12)"
            ]
          },
          "metadata": {
            "tags": []
          },
          "execution_count": 335
        }
      ]
    },
    {
      "cell_type": "code",
      "metadata": {
        "colab": {
          "base_uri": "https://localhost:8080/"
        },
        "id": "nPswMZMG42CV",
        "outputId": "898e7d92-4cbf-4b84-e067-3ac31823b396"
      },
      "source": [
        "heart_dataset.isnull().sum()"
      ],
      "execution_count": 336,
      "outputs": [
        {
          "output_type": "execute_result",
          "data": {
            "text/plain": [
              "Unnamed: 0                  0\n",
              "age                         0\n",
              "anaemia                     0\n",
              "creatinine_phosphokinase    0\n",
              "diabetes                    0\n",
              "ejection_fraction           0\n",
              "high_blood_pressure         0\n",
              "platelets                   0\n",
              "serum_creatinine            0\n",
              "sex                         0\n",
              "smoking                     0\n",
              "DEATH_EVENT                 0\n",
              "dtype: int64"
            ]
          },
          "metadata": {
            "tags": []
          },
          "execution_count": 336
        }
      ]
    },
    {
      "cell_type": "code",
      "metadata": {
        "id": "Jhb_cLWV43zk"
      },
      "source": [
        "heart_dataset['sex']=heart_dataset['sex'].map({'Male':0,'Female':1})\n",
        "heart_dataset['smoking']=heart_dataset['smoking'].map({'No':0,'Yes':1})"
      ],
      "execution_count": 337,
      "outputs": []
    },
    {
      "cell_type": "code",
      "metadata": {
        "colab": {
          "base_uri": "https://localhost:8080/"
        },
        "id": "pz_g5oTT6PPw",
        "outputId": "45abc510-db90-4ed7-d60d-7bf1a2122a12"
      },
      "source": [
        "pip install -U scikit-learn"
      ],
      "execution_count": 338,
      "outputs": [
        {
          "output_type": "stream",
          "text": [
            "Requirement already up-to-date: scikit-learn in /usr/local/lib/python3.7/dist-packages (0.24.1)\n",
            "Requirement already satisfied, skipping upgrade: threadpoolctl>=2.0.0 in /usr/local/lib/python3.7/dist-packages (from scikit-learn) (2.1.0)\n",
            "Requirement already satisfied, skipping upgrade: numpy>=1.13.3 in /usr/local/lib/python3.7/dist-packages (from scikit-learn) (1.19.5)\n",
            "Requirement already satisfied, skipping upgrade: joblib>=0.11 in /usr/local/lib/python3.7/dist-packages (from scikit-learn) (1.0.1)\n",
            "Requirement already satisfied, skipping upgrade: scipy>=0.19.1 in /usr/local/lib/python3.7/dist-packages (from scikit-learn) (1.4.1)\n"
          ],
          "name": "stdout"
        }
      ]
    },
    {
      "cell_type": "code",
      "metadata": {
        "id": "pnupykFh6Tix"
      },
      "source": [
        "from sklearn.metrics import accuracy_score\n",
        "from sklearn.model_selection import train_test_split\n",
        "x = heart_dataset.iloc[:, :-1]\n",
        "y = heart_dataset.iloc[:, -1]\n",
        "x_train, x_test, y_train, y_test = train_test_split(x, y, test_size=0.2, random_state=0)"
      ],
      "execution_count": 339,
      "outputs": []
    },
    {
      "cell_type": "code",
      "metadata": {
        "colab": {
          "base_uri": "https://localhost:8080/"
        },
        "id": "ww0R2iq27uoT",
        "outputId": "e9f0a242-2538-44f8-88d1-68af9d16930d"
      },
      "source": [
        "print(\"Training set: x->{} , y->{} \\n Testing set: x->{} , y->{}\".format(x_train.shape, y_train.shape, x_test.shape, y_test.shape))"
      ],
      "execution_count": 340,
      "outputs": [
        {
          "output_type": "stream",
          "text": [
            "Training set: x->(239, 11) , y->(239,) \n",
            " Testing set: x->(60, 11) , y->(60,)\n"
          ],
          "name": "stdout"
        }
      ]
    },
    {
      "cell_type": "markdown",
      "metadata": {
        "id": "UU_SqiFi7T2U"
      },
      "source": [
        "Support Vector Machine (SVM)"
      ]
    },
    {
      "cell_type": "code",
      "metadata": {
        "colab": {
          "base_uri": "https://localhost:8080/"
        },
        "id": "24BtYOLc7Wdu",
        "outputId": "f9e09250-08d3-44c2-8d85-0b3961e86c98"
      },
      "source": [
        "from sklearn.svm import SVC\n",
        "svc = SVC(kernel=\"linear\")\n",
        "svc.fit(x_train, y_train)"
      ],
      "execution_count": 341,
      "outputs": [
        {
          "output_type": "execute_result",
          "data": {
            "text/plain": [
              "SVC(kernel='linear')"
            ]
          },
          "metadata": {
            "tags": []
          },
          "execution_count": 341
        }
      ]
    },
    {
      "cell_type": "code",
      "metadata": {
        "colab": {
          "base_uri": "https://localhost:8080/"
        },
        "id": "e_ivJa_o8a1c",
        "outputId": "3e87f4be-10f0-4510-b9b0-e6bcbe8038e2"
      },
      "source": [
        "print(\"Training accuracy of the model is {:.2f}\".format(svc.score(x_train, y_train)))\n",
        "print(\"Testing accuracy of the model is {:.2f}\".format(svc.score(x_test, y_test)))"
      ],
      "execution_count": 342,
      "outputs": [
        {
          "output_type": "stream",
          "text": [
            "Training accuracy of the model is 0.80\n",
            "Testing accuracy of the model is 0.77\n"
          ],
          "name": "stdout"
        }
      ]
    },
    {
      "cell_type": "code",
      "metadata": {
        "colab": {
          "base_uri": "https://localhost:8080/"
        },
        "id": "n-PqR-O_8c0Q",
        "outputId": "138913bb-a162-40ad-b6ab-14ca26153f3f"
      },
      "source": [
        "predictions = svc.predict(x_test)\n",
        "print(predictions)\n",
        "scoreSVC = accuracy_score(y_test, predictions)"
      ],
      "execution_count": 343,
      "outputs": [
        {
          "output_type": "stream",
          "text": [
            "[0 0 1 0 0 0 0 0 1 0 0 1 0 0 1 1 0 0 0 0 0 1 0 0 0 0 0 0 0 0 0 1 0 0 0 0 0\n",
            " 0 0 1 0 0 0 1 0 0 0 0 0 0 0 0 0 0 1 0 0 1 0 0]\n"
          ],
          "name": "stdout"
        }
      ]
    },
    {
      "cell_type": "code",
      "metadata": {
        "colab": {
          "base_uri": "https://localhost:8080/"
        },
        "id": "_gd4qyK081nr",
        "outputId": "b60f98d2-a02b-4d94-f2bb-39fe4f747152"
      },
      "source": [
        "from sklearn.metrics import confusion_matrix\n",
        "mat=confusion_matrix(predictions, y_test)\n",
        "print(mat)"
      ],
      "execution_count": 344,
      "outputs": [
        {
          "output_type": "stream",
          "text": [
            "[[36 13]\n",
            " [ 1 10]]\n"
          ],
          "name": "stdout"
        }
      ]
    },
    {
      "cell_type": "markdown",
      "metadata": {
        "id": "xyClWGHO9YL1"
      },
      "source": [
        "Neural Network (MLPClassifier)"
      ]
    },
    {
      "cell_type": "code",
      "metadata": {
        "id": "F_udSHoH9a56"
      },
      "source": [
        "from sklearn.neural_network import MLPClassifier\n",
        "nnc=MLPClassifier(hidden_layer_sizes=(8), activation=\"relu\", max_iter=100000)"
      ],
      "execution_count": 345,
      "outputs": []
    },
    {
      "cell_type": "code",
      "metadata": {
        "colab": {
          "base_uri": "https://localhost:8080/"
        },
        "id": "we-dId8Z9sNH",
        "outputId": "2958a4a6-14b5-42af-f32b-e3bd5d27d309"
      },
      "source": [
        "nnc.fit(x_train, y_train)"
      ],
      "execution_count": 346,
      "outputs": [
        {
          "output_type": "execute_result",
          "data": {
            "text/plain": [
              "MLPClassifier(hidden_layer_sizes=8, max_iter=100000)"
            ]
          },
          "metadata": {
            "tags": []
          },
          "execution_count": 346
        }
      ]
    },
    {
      "cell_type": "code",
      "metadata": {
        "colab": {
          "base_uri": "https://localhost:8080/"
        },
        "id": "TK_qph_M9vWC",
        "outputId": "495a43d2-033f-42f4-87ec-2391048d9c14"
      },
      "source": [
        "print(\"The Training accuracy of the model is {:.2f}\".format(nnc.score(x_train, y_train)))\n",
        "print(\"The Testing accuracy of the model is {:.2f}\".format(nnc.score(x_test, y_test)))"
      ],
      "execution_count": 347,
      "outputs": [
        {
          "output_type": "stream",
          "text": [
            "The Training accuracy of the model is 0.31\n",
            "The Testing accuracy of the model is 0.38\n"
          ],
          "name": "stdout"
        }
      ]
    },
    {
      "cell_type": "code",
      "metadata": {
        "colab": {
          "base_uri": "https://localhost:8080/"
        },
        "id": "f8XhY0CH9xZl",
        "outputId": "a51dd5f2-fff6-45bc-c4ce-48f7e1e82674"
      },
      "source": [
        "predictions = nnc.predict(x_test)\n",
        "print(predictions)\n",
        "scoreMLP = accuracy_score(y_test, predictions)"
      ],
      "execution_count": 348,
      "outputs": [
        {
          "output_type": "stream",
          "text": [
            "[1 1 1 1 1 1 1 1 1 1 1 1 1 1 1 1 1 1 1 1 1 1 1 1 1 1 1 1 1 1 1 1 1 1 1 1 1\n",
            " 1 1 1 1 1 1 1 1 1 1 1 1 1 1 1 1 1 1 1 1 1 1 1]\n"
          ],
          "name": "stdout"
        }
      ]
    },
    {
      "cell_type": "code",
      "metadata": {
        "colab": {
          "base_uri": "https://localhost:8080/"
        },
        "id": "1WPkiFtK-Clw",
        "outputId": "9e33c455-47ad-4f18-b2b6-bb9fb6c5fd6f"
      },
      "source": [
        "from sklearn.metrics import confusion_matrix\n",
        "mat=confusion_matrix(predictions, y_test)\n",
        "print(mat)"
      ],
      "execution_count": 349,
      "outputs": [
        {
          "output_type": "stream",
          "text": [
            "[[ 0  0]\n",
            " [37 23]]\n"
          ],
          "name": "stdout"
        }
      ]
    },
    {
      "cell_type": "markdown",
      "metadata": {
        "id": "5bPS5OJM-bIU"
      },
      "source": [
        "Random Forest"
      ]
    },
    {
      "cell_type": "code",
      "metadata": {
        "colab": {
          "base_uri": "https://localhost:8080/"
        },
        "id": "4L-AzMET-drn",
        "outputId": "2a04500b-b6a0-4f6b-980c-4653d653f6ab"
      },
      "source": [
        "from sklearn.ensemble import RandomForestClassifier\n",
        "rfc = RandomForestClassifier(n_estimators=50)\n",
        "rfc.fit(x_train, y_train)\n",
        "print(\"The Training accuracy of the model is {:.2f}\".format(rfc.score(x_train, y_train)))\n",
        "print(\"The Testing accuracy of the model is {:.2f}\".format(rfc.score(x_test, y_test)))\n"
      ],
      "execution_count": 350,
      "outputs": [
        {
          "output_type": "stream",
          "text": [
            "The Training accuracy of the model is 1.00\n",
            "The Testing accuracy of the model is 0.83\n"
          ],
          "name": "stdout"
        }
      ]
    },
    {
      "cell_type": "code",
      "metadata": {
        "id": "D-O5gVhr-l8h"
      },
      "source": [
        "predictions = rfc.predict(x_test)\n",
        "scoreRFC = accuracy_score(y_test, predictions)"
      ],
      "execution_count": 351,
      "outputs": []
    },
    {
      "cell_type": "code",
      "metadata": {
        "colab": {
          "base_uri": "https://localhost:8080/"
        },
        "id": "0wYxKE88-n1j",
        "outputId": "bc97dde6-44d4-4e94-bc2b-994081e9becb"
      },
      "source": [
        "from sklearn.metrics import confusion_matrix\n",
        "mat=confusion_matrix(predictions, y_test)\n",
        "print(mat)"
      ],
      "execution_count": 352,
      "outputs": [
        {
          "output_type": "stream",
          "text": [
            "[[35  8]\n",
            " [ 2 15]]\n"
          ],
          "name": "stdout"
        }
      ]
    },
    {
      "cell_type": "markdown",
      "metadata": {
        "id": "ezUTfzeS_Qbn"
      },
      "source": [
        "PCA"
      ]
    },
    {
      "cell_type": "code",
      "metadata": {
        "id": "6beRWmxG_RIc"
      },
      "source": [
        "from sklearn.decomposition import PCA \n",
        "pca = PCA(n_components=6)"
      ],
      "execution_count": 353,
      "outputs": []
    },
    {
      "cell_type": "code",
      "metadata": {
        "colab": {
          "base_uri": "https://localhost:8080/"
        },
        "id": "63_bmcyA_XFH",
        "outputId": "53a56f20-e594-4c37-b304-6eac77636d22"
      },
      "source": [
        "principal_components= pca.fit_transform(heart_dataset)\n",
        "print(principal_components)"
      ],
      "execution_count": 354,
      "outputs": [
        {
          "output_type": "stream",
          "text": [
            "[[ 1.64196942e+03 -1.04666213e-01 -1.49508304e+02  8.02067750e+00\n",
            "  -1.77989297e+01  9.80238089e-02]\n",
            " [ 1.76651064e+00  7.27929460e+03 -1.41242690e+02 -2.07483858e+00\n",
            "   5.48883704e+00 -3.64854690e-01]\n",
            " [-1.01358133e+05 -4.11096717e+02 -1.46802424e+02  1.40852130e+01\n",
            "  -8.61304264e+00 -4.12904293e-01]\n",
            " ...\n",
            " [ 4.78642317e+05  1.36185448e+03  1.45285696e+02 -9.92075299e+00\n",
            "   1.59714261e+01  5.10694405e-02]\n",
            " [-1.23357580e+05  1.86097860e+03  1.50988126e+02  5.18236275e+00\n",
            "   8.60447934e+00  3.75751273e-01]\n",
            " [ 1.31641874e+05 -4.17920478e+02  1.47975438e+02 -2.01495566e-01\n",
            "   7.27612941e+00  6.11795606e-01]]\n"
          ],
          "name": "stdout"
        }
      ]
    },
    {
      "cell_type": "code",
      "metadata": {
        "colab": {
          "base_uri": "https://localhost:8080/"
        },
        "id": "xI_vwUOd_egG",
        "outputId": "ecaa0579-f476-45bc-90fb-4f61b4541b7b"
      },
      "source": [
        "sum(pca.explained_variance_ratio_)"
      ],
      "execution_count": 355,
      "outputs": [
        {
          "output_type": "execute_result",
          "data": {
            "text/plain": [
              "0.9999999998694665"
            ]
          },
          "metadata": {
            "tags": []
          },
          "execution_count": 355
        }
      ]
    },
    {
      "cell_type": "code",
      "metadata": {
        "colab": {
          "base_uri": "https://localhost:8080/",
          "height": 204
        },
        "id": "nLGHXCUECMEd",
        "outputId": "688bdc28-74c5-4295-d941-62986c565c0c"
      },
      "source": [
        "principal_df= pd.DataFrame(data=principal_components, columns = [\"PC1\", \"PC2\", \"PC3\", \"PC4\", \"PC5\", \"PC6\"])\n",
        "principal_df.head()"
      ],
      "execution_count": 356,
      "outputs": [
        {
          "output_type": "execute_result",
          "data": {
            "text/html": [
              "<div>\n",
              "<style scoped>\n",
              "    .dataframe tbody tr th:only-of-type {\n",
              "        vertical-align: middle;\n",
              "    }\n",
              "\n",
              "    .dataframe tbody tr th {\n",
              "        vertical-align: top;\n",
              "    }\n",
              "\n",
              "    .dataframe thead th {\n",
              "        text-align: right;\n",
              "    }\n",
              "</style>\n",
              "<table border=\"1\" class=\"dataframe\">\n",
              "  <thead>\n",
              "    <tr style=\"text-align: right;\">\n",
              "      <th></th>\n",
              "      <th>PC1</th>\n",
              "      <th>PC2</th>\n",
              "      <th>PC3</th>\n",
              "      <th>PC4</th>\n",
              "      <th>PC5</th>\n",
              "      <th>PC6</th>\n",
              "    </tr>\n",
              "  </thead>\n",
              "  <tbody>\n",
              "    <tr>\n",
              "      <th>0</th>\n",
              "      <td>1641.969425</td>\n",
              "      <td>-0.104666</td>\n",
              "      <td>-149.508304</td>\n",
              "      <td>8.020678</td>\n",
              "      <td>-17.798930</td>\n",
              "      <td>0.098024</td>\n",
              "    </tr>\n",
              "    <tr>\n",
              "      <th>1</th>\n",
              "      <td>1.766511</td>\n",
              "      <td>7279.294598</td>\n",
              "      <td>-141.242690</td>\n",
              "      <td>-2.074839</td>\n",
              "      <td>5.488837</td>\n",
              "      <td>-0.364855</td>\n",
              "    </tr>\n",
              "    <tr>\n",
              "      <th>2</th>\n",
              "      <td>-101358.133280</td>\n",
              "      <td>-411.096717</td>\n",
              "      <td>-146.802424</td>\n",
              "      <td>14.085213</td>\n",
              "      <td>-8.613043</td>\n",
              "      <td>-0.412904</td>\n",
              "    </tr>\n",
              "    <tr>\n",
              "      <th>3</th>\n",
              "      <td>-53358.143091</td>\n",
              "      <td>-457.733144</td>\n",
              "      <td>-145.721888</td>\n",
              "      <td>23.254837</td>\n",
              "      <td>2.890004</td>\n",
              "      <td>0.416654</td>\n",
              "    </tr>\n",
              "    <tr>\n",
              "      <th>4</th>\n",
              "      <td>63641.865259</td>\n",
              "      <td>-437.146346</td>\n",
              "      <td>-146.038041</td>\n",
              "      <td>14.613252</td>\n",
              "      <td>-10.333549</td>\n",
              "      <td>1.072098</td>\n",
              "    </tr>\n",
              "  </tbody>\n",
              "</table>\n",
              "</div>"
            ],
            "text/plain": [
              "             PC1          PC2         PC3        PC4        PC5       PC6\n",
              "0    1641.969425    -0.104666 -149.508304   8.020678 -17.798930  0.098024\n",
              "1       1.766511  7279.294598 -141.242690  -2.074839   5.488837 -0.364855\n",
              "2 -101358.133280  -411.096717 -146.802424  14.085213  -8.613043 -0.412904\n",
              "3  -53358.143091  -457.733144 -145.721888  23.254837   2.890004  0.416654\n",
              "4   63641.865259  -437.146346 -146.038041  14.613252 -10.333549  1.072098"
            ]
          },
          "metadata": {
            "tags": []
          },
          "execution_count": 356
        }
      ]
    },
    {
      "cell_type": "code",
      "metadata": {
        "id": "VnJ3wfx2DPbD"
      },
      "source": [
        "main_df=pd.concat([principal_df,heart_dataset[\"DEATH_EVENT\"]], axis=1)"
      ],
      "execution_count": 357,
      "outputs": []
    },
    {
      "cell_type": "code",
      "metadata": {
        "colab": {
          "base_uri": "https://localhost:8080/",
          "height": 204
        },
        "id": "C4TYo54dEGSo",
        "outputId": "2ebff969-3715-44ba-96cf-a9d077985d7b"
      },
      "source": [
        "main_df.head()"
      ],
      "execution_count": 358,
      "outputs": [
        {
          "output_type": "execute_result",
          "data": {
            "text/html": [
              "<div>\n",
              "<style scoped>\n",
              "    .dataframe tbody tr th:only-of-type {\n",
              "        vertical-align: middle;\n",
              "    }\n",
              "\n",
              "    .dataframe tbody tr th {\n",
              "        vertical-align: top;\n",
              "    }\n",
              "\n",
              "    .dataframe thead th {\n",
              "        text-align: right;\n",
              "    }\n",
              "</style>\n",
              "<table border=\"1\" class=\"dataframe\">\n",
              "  <thead>\n",
              "    <tr style=\"text-align: right;\">\n",
              "      <th></th>\n",
              "      <th>PC1</th>\n",
              "      <th>PC2</th>\n",
              "      <th>PC3</th>\n",
              "      <th>PC4</th>\n",
              "      <th>PC5</th>\n",
              "      <th>PC6</th>\n",
              "      <th>DEATH_EVENT</th>\n",
              "    </tr>\n",
              "  </thead>\n",
              "  <tbody>\n",
              "    <tr>\n",
              "      <th>0</th>\n",
              "      <td>1641.969425</td>\n",
              "      <td>-0.104666</td>\n",
              "      <td>-149.508304</td>\n",
              "      <td>8.020678</td>\n",
              "      <td>-17.798930</td>\n",
              "      <td>0.098024</td>\n",
              "      <td>1</td>\n",
              "    </tr>\n",
              "    <tr>\n",
              "      <th>1</th>\n",
              "      <td>1.766511</td>\n",
              "      <td>7279.294598</td>\n",
              "      <td>-141.242690</td>\n",
              "      <td>-2.074839</td>\n",
              "      <td>5.488837</td>\n",
              "      <td>-0.364855</td>\n",
              "      <td>1</td>\n",
              "    </tr>\n",
              "    <tr>\n",
              "      <th>2</th>\n",
              "      <td>-101358.133280</td>\n",
              "      <td>-411.096717</td>\n",
              "      <td>-146.802424</td>\n",
              "      <td>14.085213</td>\n",
              "      <td>-8.613043</td>\n",
              "      <td>-0.412904</td>\n",
              "      <td>1</td>\n",
              "    </tr>\n",
              "    <tr>\n",
              "      <th>3</th>\n",
              "      <td>-53358.143091</td>\n",
              "      <td>-457.733144</td>\n",
              "      <td>-145.721888</td>\n",
              "      <td>23.254837</td>\n",
              "      <td>2.890004</td>\n",
              "      <td>0.416654</td>\n",
              "      <td>1</td>\n",
              "    </tr>\n",
              "    <tr>\n",
              "      <th>4</th>\n",
              "      <td>63641.865259</td>\n",
              "      <td>-437.146346</td>\n",
              "      <td>-146.038041</td>\n",
              "      <td>14.613252</td>\n",
              "      <td>-10.333549</td>\n",
              "      <td>1.072098</td>\n",
              "      <td>1</td>\n",
              "    </tr>\n",
              "  </tbody>\n",
              "</table>\n",
              "</div>"
            ],
            "text/plain": [
              "             PC1          PC2         PC3  ...        PC5       PC6  DEATH_EVENT\n",
              "0    1641.969425    -0.104666 -149.508304  ... -17.798930  0.098024            1\n",
              "1       1.766511  7279.294598 -141.242690  ...   5.488837 -0.364855            1\n",
              "2 -101358.133280  -411.096717 -146.802424  ...  -8.613043 -0.412904            1\n",
              "3  -53358.143091  -457.733144 -145.721888  ...   2.890004  0.416654            1\n",
              "4   63641.865259  -437.146346 -146.038041  ... -10.333549  1.072098            1\n",
              "\n",
              "[5 rows x 7 columns]"
            ]
          },
          "metadata": {
            "tags": []
          },
          "execution_count": 358
        }
      ]
    },
    {
      "cell_type": "code",
      "metadata": {
        "id": "0x50-gqQEUYn"
      },
      "source": [
        "x2 = main_df.drop(\"DEATH_EVENT\" , axis=1)\n",
        "y2 = main_df[\"DEATH_EVENT\"]"
      ],
      "execution_count": 359,
      "outputs": []
    },
    {
      "cell_type": "code",
      "metadata": {
        "id": "9rIEfscqEh5G"
      },
      "source": [
        "x2_train, x2_test, y2_train, y2_test = train_test_split(x2 , y2 , test_size=0.2, random_state=0)"
      ],
      "execution_count": 360,
      "outputs": []
    },
    {
      "cell_type": "code",
      "metadata": {
        "colab": {
          "base_uri": "https://localhost:8080/"
        },
        "id": "w1hk-luRFRV3",
        "outputId": "a567e8fe-7af3-4463-80f9-5285395d12d7"
      },
      "source": [
        "#SVM \n",
        "svc.fit(x2_train, y2_train)"
      ],
      "execution_count": 361,
      "outputs": [
        {
          "output_type": "execute_result",
          "data": {
            "text/plain": [
              "SVC(kernel='linear')"
            ]
          },
          "metadata": {
            "tags": []
          },
          "execution_count": 361
        }
      ]
    },
    {
      "cell_type": "code",
      "metadata": {
        "colab": {
          "base_uri": "https://localhost:8080/"
        },
        "id": "oYWvlQ46FY-c",
        "outputId": "62ec1c6a-7b3a-47ef-d647-9c911beaa7df"
      },
      "source": [
        "print(\"Training accuracy of the model is {:.2f}\".format(svc.score(x2_train, y2_train)))\n",
        "print(\"Testing accuracy of the model is {:.2f}\".format(svc.score(x2_test, y2_test)))"
      ],
      "execution_count": 362,
      "outputs": [
        {
          "output_type": "stream",
          "text": [
            "Training accuracy of the model is 0.83\n",
            "Testing accuracy of the model is 0.78\n"
          ],
          "name": "stdout"
        }
      ]
    },
    {
      "cell_type": "code",
      "metadata": {
        "id": "be1MDGMSI4Sw"
      },
      "source": [
        "predictions = svc.predict(x2_test)\n",
        "scoreSVC2 = accuracy_score(y2_test, predictions)"
      ],
      "execution_count": 363,
      "outputs": []
    },
    {
      "cell_type": "code",
      "metadata": {
        "colab": {
          "base_uri": "https://localhost:8080/"
        },
        "id": "6hzIaxXXFys8",
        "outputId": "0b826437-bfbd-4464-e99d-60e61c417c11"
      },
      "source": [
        "#RandomForest\n",
        "rfc.fit(x2_train, y2_train)"
      ],
      "execution_count": 364,
      "outputs": [
        {
          "output_type": "execute_result",
          "data": {
            "text/plain": [
              "RandomForestClassifier(n_estimators=50)"
            ]
          },
          "metadata": {
            "tags": []
          },
          "execution_count": 364
        }
      ]
    },
    {
      "cell_type": "code",
      "metadata": {
        "colab": {
          "base_uri": "https://localhost:8080/"
        },
        "id": "mxiCJiPlF34-",
        "outputId": "9ce6c82d-34fe-4e86-90a8-8205a535c177"
      },
      "source": [
        "print(\"The Training accuracy of the model is {:.2f}\".format(rfc.score(x2_train, y2_train)))\n",
        "print(\"The Testing accuracy of the model is {:.2f}\".format(rfc.score(x2_test, y2_test)))"
      ],
      "execution_count": 365,
      "outputs": [
        {
          "output_type": "stream",
          "text": [
            "The Training accuracy of the model is 1.00\n",
            "The Testing accuracy of the model is 0.83\n"
          ],
          "name": "stdout"
        }
      ]
    },
    {
      "cell_type": "code",
      "metadata": {
        "id": "ukRyCUvCJL6F"
      },
      "source": [
        "predictions = rfc.predict(x2_test)\n",
        "scoreRFC2 = accuracy_score(y2_test, predictions)"
      ],
      "execution_count": 366,
      "outputs": []
    },
    {
      "cell_type": "code",
      "metadata": {
        "colab": {
          "base_uri": "https://localhost:8080/"
        },
        "id": "HBFTHoi3F_O0",
        "outputId": "a9b0c802-47ca-403a-801c-6ecdf965fa2b"
      },
      "source": [
        "#MLPClassifier\n",
        "nnc.fit(x2_train, y2_train)"
      ],
      "execution_count": 367,
      "outputs": [
        {
          "output_type": "execute_result",
          "data": {
            "text/plain": [
              "MLPClassifier(hidden_layer_sizes=8, max_iter=100000)"
            ]
          },
          "metadata": {
            "tags": []
          },
          "execution_count": 367
        }
      ]
    },
    {
      "cell_type": "code",
      "metadata": {
        "colab": {
          "base_uri": "https://localhost:8080/"
        },
        "id": "vlfs6yAQGA07",
        "outputId": "6ac5b7c5-47bf-4cfe-b2c4-5e1d98e54f8c"
      },
      "source": [
        "print(\"The Training accuracy of the model is {:.2f}\".format(nnc.score(x2_train, y2_train)))\n",
        "print(\"The Testing accuracy of the model is {:.2f}\".format(nnc.score(x2_test, y2_test)))"
      ],
      "execution_count": 368,
      "outputs": [
        {
          "output_type": "stream",
          "text": [
            "The Training accuracy of the model is 0.56\n",
            "The Testing accuracy of the model is 0.45\n"
          ],
          "name": "stdout"
        }
      ]
    },
    {
      "cell_type": "code",
      "metadata": {
        "id": "dggmE5ROJC3D"
      },
      "source": [
        "predictions = nnc.predict(x2_test)\n",
        "scoreMLP2 = accuracy_score(y_test, predictions)"
      ],
      "execution_count": 369,
      "outputs": []
    },
    {
      "cell_type": "markdown",
      "metadata": {
        "id": "sUwictkcK0nJ"
      },
      "source": [
        "Comparing Accuracy"
      ]
    },
    {
      "cell_type": "code",
      "metadata": {
        "colab": {
          "base_uri": "https://localhost:8080/",
          "height": 809
        },
        "id": "Wha3giH-HCvU",
        "outputId": "a4056bf1-e25e-4f8a-c8a9-690c91e8caf1"
      },
      "source": [
        "plt.bar(['Pre-PCA','Post-PCA'],[scoreSVC, scoreSVC2],align='center',alpha=0.5)\n",
        "plt.title('Support Vector Machine')\n",
        "plt.ylabel(\"Accuracy\")\n",
        "plt.show()\n",
        "\n",
        "plt.bar(['Pre-PCA','Post-PCA'],[scoreMLP, scoreMLP2],align='center',alpha=0.5)\n",
        "plt.title('Neural Network MLPClassifier')\n",
        "plt.ylabel(\"Accuracy\")\n",
        "plt.show()\n",
        "\n",
        "plt.bar(['Pre-PCA','Post-PCA'],[scoreRFC, scoreRFC2],align='center',alpha=0.5)\n",
        "plt.title('Random Forest Classifier')\n",
        "plt.ylabel(\"Accuracy\")\n",
        "plt.show()"
      ],
      "execution_count": 370,
      "outputs": [
        {
          "output_type": "display_data",
          "data": {
            "image/png": "[encoded data removed]",
            "text/plain": [
              "<Figure size 432x288 with 1 Axes>"
            ]
          },
          "metadata": {
            "tags": [],
            "needs_background": "light"
          }
        },
        {
          "output_type": "display_data",
          "data": {
            "image/png": "[encoded data removed]",
            "text/plain": [
              "<Figure size 432x288 with 1 Axes>"
            ]
          },
          "metadata": {
            "tags": [],
            "needs_background": "light"
          }
        },
        {
          "output_type": "display_data",
          "data": {
            "image/png": "[encoded data removed]",
            "text/plain": [
              "<Figure size 432x288 with 1 Axes>"
            ]
          },
          "metadata": {
            "tags": [],
            "needs_background": "light"
          }
        }
      ]
    }
  ]
}