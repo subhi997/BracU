{
  "nbformat": 4,
  "nbformat_minor": 0,
  "metadata": {
    "colab": {
      "name": "CSE422_Lab01_Task03.ipynb",
      "provenance": [],
      "collapsed_sections": []
    },
    "kernelspec": {
      "name": "python3",
      "display_name": "Python 3"
    }
  },
  "cells": [
    {
      "cell_type": "code",
      "metadata": {
        "colab": {
          "base_uri": "https://localhost:8080/"
        },
        "id": "RRPFO3OREqQM",
        "outputId": "2d96d648-7b56-4a3c-809c-26107100989a"
      },
      "source": [
        "file = open('/content/level3.txt',mode='r')\n",
        "file = file.readlines()\n",
        "\n",
        "nodeNumber = file[0]\n",
        "connections = file[1]\n",
        "enemy = file[16]\n",
        "connections = int(connections.strip())\n",
        "enemy = int(enemy.strip())\n",
        "\n",
        "adj_list = {}\n",
        "for i in range(2,connections+2):\n",
        "  node = file[i].strip().split(\" \")\n",
        "  node1,node2 = node\n",
        "  node3 = int(node1)\n",
        "  node4 = int(node2)\n",
        "\n",
        "#construct reverse directed graph\n",
        "  if node4 not in adj_list.keys():\n",
        "    adj_list[node4] = list()\n",
        "  adj_list[node4].append(node3)\n",
        "print(adj_list)\n",
        "\n",
        "k = int(input(\"Number of participants \"))\n",
        "print(\"Enter position node for participant \")\n",
        "p = []\n",
        "for i in range(k):\n",
        "  p = input()\n"
      ],
      "execution_count": null,
      "outputs": [
        {
          "output_type": "stream",
          "text": [
            "{1: [0], 2: [0], 3: [0, 1, 2], 4: [1], 5: [3], 7: [4, 6], 8: [4, 7], 6: [5], 9: [6, 8]}\n"
          ],
          "name": "stdout"
        }
      ]
    },
    {
      "cell_type": "code",
      "metadata": {
        "id": "k9lpdri0S-H5"
      },
      "source": [
        "#BFS algorithm\n",
        "from queue import Queue\n",
        "\n",
        "visited = {}\n",
        "level = {}\n",
        "parent = {}\n",
        "bfs_traversal_output = []\n",
        "queue = Queue()\n",
        "\n",
        "for node in adj_list.keys():\n",
        "  visited[node] = False\n",
        "  parent[node] = None\n",
        "  level[node] = -1\n",
        "\n",
        "sourceNode = 9 \n",
        "visited[sourceNode] = True\n",
        "level[sourceNode] = 0\n",
        "queue.put(sourceNode)  \n",
        "\n",
        "while not queue.empty():\n",
        "  u = queue.get()\n",
        "  bfs_traversal_output.append(u)\n",
        "\n",
        "  \n",
        "  for v in adj_list[u]:\n",
        "    if not visited[v]:\n",
        "      visited[v] = True\n",
        "      parent[v] = u\n",
        "      level[v] = level[u] + 1\n",
        "      queue.put(v)\n",
        "\n",
        "move_list = []\n",
        "for i in range(k):\n",
        "  move_list = level[p(i)]\n",
        "\n",
        "print(min(move_list))  "
      ],
      "execution_count": null,
      "outputs": []
    }
  ]
}