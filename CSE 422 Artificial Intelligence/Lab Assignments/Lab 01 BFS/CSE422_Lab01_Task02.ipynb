{
  "nbformat": 4,
  "nbformat_minor": 0,
  "metadata": {
    "colab": {
      "name": "CSE422_Lab01_Task02.ipynb",
      "provenance": []
    },
    "kernelspec": {
      "name": "python3",
      "display_name": "Python 3"
    }
  },
  "cells": [
    {
      "cell_type": "code",
      "metadata": {
        "colab": {
          "base_uri": "https://localhost:8080/"
        },
        "id": "lEqvv1HnSRyL",
        "outputId": "6f5fe095-8d7f-4708-9074-0667a08e4e1d"
      },
      "source": [
        "file = open('/content/level2.txt',mode='r')\n",
        "file = file.readlines()\n",
        "\n",
        "nodeNumber = file[0]\n",
        "connections = file[1]\n",
        "enemy = file[14]\n",
        "connections = int(connections.strip())\n",
        "enemy = int(enemy.strip())\n",
        "\n",
        "adj_list = {}\n",
        "for i in range(2,connections+2):\n",
        "  node = file[i].strip().split(\" \")\n",
        "  node1,node2 = node\n",
        "  node3 = int(node1)\n",
        "  node4 = int(node2)\n",
        "\n",
        "  if node3 not in adj_list.keys():\n",
        "    adj_list[node3] = list()\n",
        "  adj_list[node3].append(node4)\n",
        "\n",
        "  if node4 not in adj_list.keys():\n",
        "      adj_list[node4] = list()\n",
        "  adj_list[node4].append(node3)\n",
        "\n",
        "print(adj_list)"
      ],
      "execution_count": null,
      "outputs": [
        {
          "output_type": "stream",
          "text": [
            "{0: [1, 2, 3], 1: [0, 3, 4], 2: [0, 3], 3: [0, 1, 2, 5], 4: [1, 8, 7], 5: [3, 6], 8: [4, 7], 7: [4, 6, 8], 6: [5, 7]}\n"
          ],
          "name": "stdout"
        }
      ]
    },
    {
      "cell_type": "code",
      "metadata": {
        "colab": {
          "base_uri": "https://localhost:8080/"
        },
        "id": "v6ETh0p7SxaX",
        "outputId": "18d87eca-1c48-4c08-f455-b16860811e61"
      },
      "source": [
        "#BFS algorithm run for Nora\n",
        "from queue import Queue\n",
        "\n",
        "visited = {}\n",
        "level = {}\n",
        "parent = {}\n",
        "bfs_traversal_output = []\n",
        "queue = Queue()\n",
        "\n",
        "for node in adj_list.keys():\n",
        "  visited[node] = False\n",
        "  parent[node] = None\n",
        "  level[node] = -1\n",
        "  \n",
        "sourceNode = 5\n",
        "visited[sourceNode] = True\n",
        "level[sourceNode] = 0\n",
        "queue.put(sourceNode)  \n",
        "\n",
        "while not queue.empty():\n",
        "  u = queue.get()\n",
        "  bfs_traversal_output.append(u)\n",
        "\n",
        "  for v in adj_list[u]:\n",
        "    if not visited[v]:\n",
        "      visited[v] = True\n",
        "      parent[v] = u\n",
        "      level[v] = level[u] + 1\n",
        "      queue.put(v)\n",
        "\n",
        "print(level[enemy])\n",
        "noraMove = level[enemy]"
      ],
      "execution_count": null,
      "outputs": [
        {
          "output_type": "stream",
          "text": [
            "2\n"
          ],
          "name": "stdout"
        }
      ]
    },
    {
      "cell_type": "code",
      "metadata": {
        "colab": {
          "base_uri": "https://localhost:8080/"
        },
        "id": "s4FcpisvSzDr",
        "outputId": "7a607870-370f-4c70-894d-0a6d53f34b89"
      },
      "source": [
        "#BFS algorithm for Lara\n",
        "from queue import Queue\n",
        "\n",
        "visited = {}\n",
        "level = {}\n",
        "parent = {}\n",
        "bfs_traversal_output = []\n",
        "queue = Queue()\n",
        "\n",
        "for node in adj_list.keys():\n",
        "  visited[node] = False\n",
        "  parent[node] = None\n",
        "  level[node] = -1\n",
        "  \n",
        "sourceNode = 3 \n",
        "visited[sourceNode] = True\n",
        "level[sourceNode] = 0\n",
        "queue.put(sourceNode)  \n",
        "\n",
        "while not queue.empty():\n",
        "  u = queue.get()\n",
        "  bfs_traversal_output.append(u)\n",
        "\n",
        "  for v in adj_list[u]:\n",
        "    if not visited[v]:\n",
        "      visited[v] = True\n",
        "      parent[v] = u\n",
        "      level[v] = level[u] + 1\n",
        "      queue.put(v)\n",
        "\n",
        "print(level[enemy])\n",
        "laraMove = level[enemy]"
      ],
      "execution_count": null,
      "outputs": [
        {
          "output_type": "stream",
          "text": [
            "3\n"
          ],
          "name": "stdout"
        }
      ]
    },
    {
      "cell_type": "code",
      "metadata": {
        "colab": {
          "base_uri": "https://localhost:8080/"
        },
        "id": "uAa_a0LKavAa",
        "outputId": "1119803b-c3e3-49b9-d6c3-14bd4b2bd28a"
      },
      "source": [
        "#Comparison for Winner\n",
        "\n",
        "if noraMove < laraMove:\n",
        "  print(\"Nora\")\n",
        "\n",
        "elif laraMove < noraMove:\n",
        "  print(\"Lara\")\n",
        "\n",
        "else:\n",
        "  print(\"Both\")"
      ],
      "execution_count": null,
      "outputs": [
        {
          "output_type": "stream",
          "text": [
            "Nora\n"
          ],
          "name": "stdout"
        }
      ]
    }
  ]
}