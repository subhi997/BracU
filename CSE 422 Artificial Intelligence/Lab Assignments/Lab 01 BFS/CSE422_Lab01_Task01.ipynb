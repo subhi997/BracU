{
  "nbformat": 4,
  "nbformat_minor": 0,
  "metadata": {
    "colab": {
      "name": "CSE422_Lab01_Task01.ipynb",
      "provenance": [],
      "collapsed_sections": [],
      "toc_visible": true
    },
    "kernelspec": {
      "name": "python3",
      "display_name": "Python 3"
    }
  },
  "cells": [
    {
      "cell_type": "code",
      "metadata": {
        "id": "72ytLMva-sea"
      },
      "source": [
        "#Level1\n",
        "file = open('/content/level1.txt',mode='r')\n",
        "file = file.readlines()\n",
        "\n",
        "nodeNumber = file[0]\n",
        "connections = file[1]\n",
        "enemy = file[15]\n",
        "sourceNode = 0\n",
        "connections = int(connections.strip())\n",
        "enemy = int(enemy.strip())\n",
        "\n",
        "\n"
      ],
      "execution_count": null,
      "outputs": []
    },
    {
      "cell_type": "code",
      "metadata": {
        "id": "oOEpLHRzOkAQ"
      },
      "source": [
        "adj_list = {}\n",
        "for i in range(2,connections+2):\n",
        "  node = file[i].strip().split(\" \")\n",
        "  node1,node2 = node\n",
        "  node3 = int(node1)\n",
        "  node4 = int(node2)\n",
        "\n",
        "  if node3 not in adj_list.keys():\n",
        "    adj_list[node3] = list()\n",
        "  adj_list[node3].append(node4)\n",
        "\n",
        "  if node4 not in adj_list.keys():\n",
        "      adj_list[node4] = list()\n",
        "  adj_list[node4].append(node3)"
      ],
      "execution_count": null,
      "outputs": []
    },
    {
      "cell_type": "code",
      "metadata": {
        "colab": {
          "base_uri": "https://localhost:8080/"
        },
        "id": "s04aQW1sOyGX",
        "outputId": "bb179b4c-668b-4fad-ce2e-0510bcc17a43"
      },
      "source": [
        "print(adj_list)"
      ],
      "execution_count": null,
      "outputs": [
        {
          "output_type": "stream",
          "text": [
            "{0: [1, 2, 3], 1: [0, 3, 4], 2: [0, 3], 3: [0, 1, 2, 5, 6], 4: [1, 8, 7], 5: [3, 6], 6: [3, 5, 7], 8: [4, 7], 7: [4, 6, 8]}\n"
          ],
          "name": "stdout"
        }
      ]
    },
    {
      "cell_type": "code",
      "metadata": {
        "colab": {
          "base_uri": "https://localhost:8080/"
        },
        "id": "nQo-uNI3Ur1l",
        "outputId": "8e359a52-4517-46e2-f211-d3d3b5adc7d1"
      },
      "source": [
        "#BFS algorithm\n",
        "from queue import Queue\n",
        "\n",
        "visited = {}\n",
        "level = {}\n",
        "parent = {}\n",
        "bfs_traversal_output = []\n",
        "queue = Queue()\n",
        "\n",
        "for node in adj_list.keys():\n",
        "  visited[node] = False\n",
        "  parent[node] = None\n",
        "  level[node] = -1\n",
        "  \n",
        " \n",
        "visited[sourceNode] = True\n",
        "level[sourceNode] = 0\n",
        "queue.put(sourceNode)  \n",
        "\n",
        "while not queue.empty():\n",
        "  u = queue.get()\n",
        "  bfs_traversal_output.append(u)\n",
        "\n",
        "  for v in adj_list[u]:\n",
        "    if not visited[v]:\n",
        "      visited[v] = True\n",
        "      parent[v] = u\n",
        "      level[v] = level[u] + 1\n",
        "      queue.put(v)\n",
        "\n",
        "print(level[enemy])\n"
      ],
      "execution_count": null,
      "outputs": [
        {
          "output_type": "stream",
          "text": [
            "2\n"
          ],
          "name": "stdout"
        }
      ]
    }
  ]
}