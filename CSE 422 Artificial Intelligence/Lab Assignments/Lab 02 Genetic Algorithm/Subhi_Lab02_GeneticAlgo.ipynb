{
  "nbformat": 4,
  "nbformat_minor": 0,
  "metadata": {
    "colab": {
      "name": "Subhi_Lab02_GeneticAlgo.ipynb",
      "provenance": [],
      "collapsed_sections": []
    },
    "kernelspec": {
      "name": "python3",
      "display_name": "Python 3"
    }
  },
  "cells": [
    {
      "cell_type": "code",
      "metadata": {
        "id": "TcdqY3p8hUZT"
      },
      "source": [
        "import numpy as np\n",
        "import random"
      ],
      "execution_count": null,
      "outputs": []
    },
    {
      "cell_type": "code",
      "metadata": {
        "id": "j5VtkKqFkkSJ"
      },
      "source": [
        "#calculate non-attacking pairs\n",
        "def fitness_func(population, queen):\n",
        "  max_fitness = int((queen*(queen-1))/2)\n",
        "  clashes = 0\n",
        "  \n",
        "  #calc row and column clashes\n",
        "  row_col_clashes = abs(len(population) - len(np.unique(population)))\n",
        "  clashes += row_col_clashes\n",
        "\n",
        "  #calc diagonal clashes\n",
        "  for i in range(len(population)):\n",
        "    for j in range(len(population)):\n",
        "      if(i != j):\n",
        "        dx = abs(i-j)\n",
        "        dy = abs(population[i]-population[j])\n",
        "        if(dx == dy):\n",
        "          clashes += 1\n",
        "\n",
        "  return int(max_fitness - clashes)\n",
        "\n"
      ],
      "execution_count": null,
      "outputs": []
    },
    {
      "cell_type": "code",
      "metadata": {
        "id": "T5DpvMkbJAq3"
      },
      "source": [
        "#random selection function\n",
        "def select(population):\n",
        "  fit = fitness_func(population,queen)\n",
        "  a = [0,1,2,3,4]\n",
        "  size = 1\n",
        "  p = [.31, .29, 0.26, 0.14]\n",
        "  replace=True\n",
        "\n",
        "  selectA = np.random.choice(fit,size,replace,p)\n",
        "  return selectA"
      ],
      "execution_count": null,
      "outputs": []
    },
    {
      "cell_type": "code",
      "metadata": {
        "id": "Vbe5ksYSyyMB"
      },
      "source": [
        "#crossover function\n",
        "\n",
        "def crossover(parent_x, parent_y):\n",
        "  index = random.randint(0,4)\n",
        "  child = np.append(parent_x[0:index],parent_y[index:8])\n",
        "  return child"
      ],
      "execution_count": null,
      "outputs": []
    },
    {
      "cell_type": "code",
      "metadata": {
        "id": "3d2TBvnQx71s"
      },
      "source": [
        "#mutation function\n",
        "\n",
        "def mutation(child):\n",
        "  index = random.randint(0,len(child)-1)\n",
        "  val = random.randint(0,len(child)-1)\n",
        "  child[index] = val\n",
        "  return child\n",
        "  "
      ],
      "execution_count": null,
      "outputs": []
    },
    {
      "cell_type": "code",
      "metadata": {
        "id": "z0PgLjxpjO3b"
      },
      "source": [
        "def genetic_algo(population, queen, mutation_threshold = 0.3):\n",
        "  nmax = 100000\n",
        "  goal_fit = int((queen*(queen-1))/2)\n",
        "\n",
        "  print(\"\\ngoal fit for current population\",goal_fit)\n",
        "  print(\"\\nproblem dimension: \", queen , \"x\" , queen)\n",
        "  print(\"population size: \",len(population))\n",
        "  print(\"max generations: \",nmax)\n",
        "\n",
        "  while nmax > 0:\n",
        "    new_population = []\n",
        "\n",
        "    for i in range(len(population)):\n",
        "      parent_x = select(population)\n",
        "      parent_y = select(population)\n",
        "      child = crossover(parent_x,parent_y)\n",
        "      if random.uniform(0,1) < mutation_threshold:\n",
        "        child = mutation(child)\n",
        "      if fitness(child, goal_fit) == goal_fit:\n",
        "        print(\"result: \",child,\" found in \", nmax-queen,\" generations.\\n\")\n",
        "        return child\n",
        "      new_population.append(child)\n",
        "    population = new_population\n",
        "    nmax -= 1\n",
        "    print(\"\\nNo solution found in \",nmax,\" generations. Try again.\\n\")  \n",
        "  return None"
      ],
      "execution_count": null,
      "outputs": []
    },
    {
      "cell_type": "code",
      "metadata": {
        "id": "RMDhwJyvsCcS",
        "colab": {
          "base_uri": "https://localhost:8080/",
          "height": 442
        },
        "outputId": "2c754a09-f7ea-45e0-f50d-f873389c92d2"
      },
      "source": [
        "#number of queens\n",
        "queen = 8\n",
        "\n",
        "#number of start_population / value of k\n",
        "start_population = 10\n",
        "\n",
        "mutation_threshold = 0.3\n",
        "\n",
        "population = np.random.randint(0, queen, (start_population, queen))\n",
        "#print(population)\n",
        "\n",
        "genetic_algo(population, queen, mutation_threshold)"
      ],
      "execution_count": null,
      "outputs": [
        {
          "output_type": "stream",
          "text": [
            "\n",
            "goal fit for current population 28\n",
            "\n",
            "problem dimension:  8 x 8\n",
            "population size:  10\n",
            "max generations:  100000\n"
          ],
          "name": "stdout"
        },
        {
          "output_type": "error",
          "ename": "ValueError",
          "evalue": "ignored",
          "traceback": [
            "\u001b[0;31m---------------------------------------------------------------------------\u001b[0m",
            "\u001b[0;31mValueError\u001b[0m                                Traceback (most recent call last)",
            "\u001b[0;32m<ipython-input-38-278fcaefad62>\u001b[0m in \u001b[0;36m<module>\u001b[0;34m()\u001b[0m\n\u001b[1;32m     10\u001b[0m \u001b[0;31m#print(population)\u001b[0m\u001b[0;34m\u001b[0m\u001b[0;34m\u001b[0m\u001b[0;34m\u001b[0m\u001b[0m\n\u001b[1;32m     11\u001b[0m \u001b[0;34m\u001b[0m\u001b[0m\n\u001b[0;32m---> 12\u001b[0;31m \u001b[0mgenetic_algo\u001b[0m\u001b[0;34m(\u001b[0m\u001b[0mpopulation\u001b[0m\u001b[0;34m,\u001b[0m \u001b[0mqueen\u001b[0m\u001b[0;34m,\u001b[0m \u001b[0mmutation_threshold\u001b[0m\u001b[0;34m)\u001b[0m\u001b[0;34m\u001b[0m\u001b[0;34m\u001b[0m\u001b[0m\n\u001b[0m",
            "\u001b[0;32m<ipython-input-37-dca226a6faf3>\u001b[0m in \u001b[0;36mgenetic_algo\u001b[0;34m(population, queen, mutation_threshold)\u001b[0m\n\u001b[1;32m     12\u001b[0m \u001b[0;34m\u001b[0m\u001b[0m\n\u001b[1;32m     13\u001b[0m     \u001b[0;32mfor\u001b[0m \u001b[0mi\u001b[0m \u001b[0;32min\u001b[0m \u001b[0mrange\u001b[0m\u001b[0;34m(\u001b[0m\u001b[0mlen\u001b[0m\u001b[0;34m(\u001b[0m\u001b[0mpopulation\u001b[0m\u001b[0;34m)\u001b[0m\u001b[0;34m)\u001b[0m\u001b[0;34m:\u001b[0m\u001b[0;34m\u001b[0m\u001b[0;34m\u001b[0m\u001b[0m\n\u001b[0;32m---> 14\u001b[0;31m       \u001b[0mparent_x\u001b[0m \u001b[0;34m=\u001b[0m \u001b[0mselect\u001b[0m\u001b[0;34m(\u001b[0m\u001b[0mpopulation\u001b[0m\u001b[0;34m)\u001b[0m\u001b[0;34m\u001b[0m\u001b[0;34m\u001b[0m\u001b[0m\n\u001b[0m\u001b[1;32m     15\u001b[0m       \u001b[0mparent_y\u001b[0m \u001b[0;34m=\u001b[0m \u001b[0mselect\u001b[0m\u001b[0;34m(\u001b[0m\u001b[0mpopulation\u001b[0m\u001b[0;34m)\u001b[0m\u001b[0;34m\u001b[0m\u001b[0;34m\u001b[0m\u001b[0m\n\u001b[1;32m     16\u001b[0m       \u001b[0mchild\u001b[0m \u001b[0;34m=\u001b[0m \u001b[0mcrossover\u001b[0m\u001b[0;34m(\u001b[0m\u001b[0mparent_x\u001b[0m\u001b[0;34m,\u001b[0m\u001b[0mparent_y\u001b[0m\u001b[0;34m)\u001b[0m\u001b[0;34m\u001b[0m\u001b[0;34m\u001b[0m\u001b[0m\n",
            "\u001b[0;32m<ipython-input-34-8f73cefa5368>\u001b[0m in \u001b[0;36mselect\u001b[0;34m(population)\u001b[0m\n\u001b[1;32m      1\u001b[0m \u001b[0;31m#random selection function\u001b[0m\u001b[0;34m\u001b[0m\u001b[0;34m\u001b[0m\u001b[0;34m\u001b[0m\u001b[0m\n\u001b[1;32m      2\u001b[0m \u001b[0;32mdef\u001b[0m \u001b[0mselect\u001b[0m\u001b[0;34m(\u001b[0m\u001b[0mpopulation\u001b[0m\u001b[0;34m)\u001b[0m\u001b[0;34m:\u001b[0m\u001b[0;34m\u001b[0m\u001b[0;34m\u001b[0m\u001b[0m\n\u001b[0;32m----> 3\u001b[0;31m   \u001b[0mfit\u001b[0m \u001b[0;34m=\u001b[0m \u001b[0mfitness_func\u001b[0m\u001b[0;34m(\u001b[0m\u001b[0mpopulation\u001b[0m\u001b[0;34m,\u001b[0m\u001b[0mqueen\u001b[0m\u001b[0;34m)\u001b[0m\u001b[0;34m\u001b[0m\u001b[0;34m\u001b[0m\u001b[0m\n\u001b[0m\u001b[1;32m      4\u001b[0m   \u001b[0ma\u001b[0m \u001b[0;34m=\u001b[0m \u001b[0;34m[\u001b[0m\u001b[0;36m0\u001b[0m\u001b[0;34m,\u001b[0m\u001b[0;36m1\u001b[0m\u001b[0;34m,\u001b[0m\u001b[0;36m2\u001b[0m\u001b[0;34m,\u001b[0m\u001b[0;36m3\u001b[0m\u001b[0;34m,\u001b[0m\u001b[0;36m4\u001b[0m\u001b[0;34m]\u001b[0m\u001b[0;34m\u001b[0m\u001b[0;34m\u001b[0m\u001b[0m\n\u001b[1;32m      5\u001b[0m   \u001b[0msize\u001b[0m \u001b[0;34m=\u001b[0m \u001b[0;36m1\u001b[0m\u001b[0;34m\u001b[0m\u001b[0;34m\u001b[0m\u001b[0m\n",
            "\u001b[0;32m<ipython-input-32-c2ebd8390477>\u001b[0m in \u001b[0;36mfitness_func\u001b[0;34m(population, queen)\u001b[0m\n\u001b[1;32m     14\u001b[0m         \u001b[0mdx\u001b[0m \u001b[0;34m=\u001b[0m \u001b[0mabs\u001b[0m\u001b[0;34m(\u001b[0m\u001b[0mi\u001b[0m\u001b[0;34m-\u001b[0m\u001b[0mj\u001b[0m\u001b[0;34m)\u001b[0m\u001b[0;34m\u001b[0m\u001b[0;34m\u001b[0m\u001b[0m\n\u001b[1;32m     15\u001b[0m         \u001b[0mdy\u001b[0m \u001b[0;34m=\u001b[0m \u001b[0mabs\u001b[0m\u001b[0;34m(\u001b[0m\u001b[0mpopulation\u001b[0m\u001b[0;34m[\u001b[0m\u001b[0mi\u001b[0m\u001b[0;34m]\u001b[0m\u001b[0;34m-\u001b[0m\u001b[0mpopulation\u001b[0m\u001b[0;34m[\u001b[0m\u001b[0mj\u001b[0m\u001b[0;34m]\u001b[0m\u001b[0;34m)\u001b[0m\u001b[0;34m\u001b[0m\u001b[0;34m\u001b[0m\u001b[0m\n\u001b[0;32m---> 16\u001b[0;31m         \u001b[0;32mif\u001b[0m\u001b[0;34m(\u001b[0m\u001b[0mdx\u001b[0m \u001b[0;34m==\u001b[0m \u001b[0mdy\u001b[0m\u001b[0;34m)\u001b[0m\u001b[0;34m:\u001b[0m\u001b[0;34m\u001b[0m\u001b[0;34m\u001b[0m\u001b[0m\n\u001b[0m\u001b[1;32m     17\u001b[0m           \u001b[0mclashes\u001b[0m \u001b[0;34m+=\u001b[0m \u001b[0;36m1\u001b[0m\u001b[0;34m\u001b[0m\u001b[0;34m\u001b[0m\u001b[0m\n\u001b[1;32m     18\u001b[0m \u001b[0;34m\u001b[0m\u001b[0m\n",
            "\u001b[0;31mValueError\u001b[0m: The truth value of an array with more than one element is ambiguous. Use a.any() or a.all()"
          ]
        }
      ]
    }
  ]
}